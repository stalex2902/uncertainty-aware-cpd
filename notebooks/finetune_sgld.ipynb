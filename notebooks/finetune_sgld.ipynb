{
 "cells": [
  {
   "cell_type": "code",
   "execution_count": 2,
   "metadata": {},
   "outputs": [],
   "source": [
    "import warnings\n",
    "\n",
    "warnings.filterwarnings(\"ignore\")\n",
    "\n",
    "import os\n",
    "import sys\n",
    "\n",
    "dir2 = os.path.abspath(\"\")\n",
    "dir1 = os.path.dirname(dir2)\n",
    "if dir1 not in sys.path:\n",
    "    sys.path.append(dir1)\n",
    "\n",
    "os.chdir(\"..\")"
   ]
  },
  {
   "cell_type": "code",
   "execution_count": 5,
   "metadata": {},
   "outputs": [
    {
     "name": "stdout",
     "output_type": "stream",
     "text": [
      "The autoreload extension is already loaded. To reload it, use:\n",
      "  %reload_ext autoreload\n"
     ]
    }
   ],
   "source": [
    "import yaml\n",
    "from src.datasets.datasets import CPDDatasets\n",
    "from src.ensembles.ensembles import EnsembleCPDModel\n",
    "from src.utils.fix_seeds import fix_seeds\n",
    "from torch.utils.data import DataLoader\n",
    "\n",
    "SEED = 42\n",
    "fix_seeds(SEED)\n",
    "\n",
    "%load_ext autoreload\n",
    "%autoreload\n",
    "%matplotlib inline"
   ]
  },
  {
   "cell_type": "markdown",
   "metadata": {},
   "source": [
    "# Scenario 1: adam pretrain + sgld finetune"
   ]
  },
  {
   "cell_type": "code",
   "execution_count": 6,
   "metadata": {},
   "outputs": [],
   "source": [
    "model_type = \"seq2seq\"\n",
    "\n",
    "experiments_name = \"explosion\"\n",
    "\n",
    "path_to_config = \"configs/\" + \"video\" + \"_\" + model_type + \".yaml\"\n",
    "\n",
    "with open(path_to_config, \"r\") as f:\n",
    "    args_config = yaml.safe_load(f.read())\n",
    "\n",
    "args_config[\"experiments_name\"] = experiments_name\n",
    "args_config[\"model_type\"] = model_type\n",
    "\n",
    "args_config[\"loss_type\"] = \"bce\"\n",
    "args_config[\"num_workers\"] = 2\n",
    "\n",
    "train_dataset, test_dataset = CPDDatasets(experiments_name).get_dataset_()\n",
    "test_dataloader = DataLoader(\n",
    "    test_dataset, batch_size=args_config[\"learning\"][\"batch_size\"], shuffle=False\n",
    ")"
   ]
  },
  {
   "cell_type": "code",
   "execution_count": null,
   "metadata": {},
   "outputs": [],
   "source": [
    "path_to_models_folder = \"saved_models/bce/explosion/layer_norm/train_anomaly_num_155\"\n",
    "\n",
    "ens_bce = EnsembleCPDModel(args_config, n_models=10, boot_sample_size=None)\n",
    "ens_bce.load_models_list(path_to_models_folder)"
   ]
  },
  {
   "cell_type": "code",
   "execution_count": null,
   "metadata": {},
   "outputs": [],
   "source": [
    "args_config[\"learning\"][\"lr\"] = 1e-3\n",
    "args_config[\"learning\"][\"temperature\"] = 0.001\n",
    "\n",
    "# for ABAnnealingLR\n",
    "args_config[\"learning\"][\"final_lr\"] = 1e-4\n",
    "args_config[\"learning\"][\"gamma\"] = 0.5\n",
    "args_config[\"learning\"][\"T_max\"] = 50000\n",
    "\n",
    "core_model = core_models.CombinedVideoRNN(\n",
    "    input_dim=args_config[\"model\"][\"input_size\"],\n",
    "    rnn_hidden_dim=args_config[\"model\"][\"hidden_rnn\"],\n",
    "    num_layers=args_config[\"model\"][\"rnn_n_layers\"],\n",
    "    rnn_dropout=args_config[\"model\"][\"rnn_dropout\"],\n",
    "    dropout=args_config[\"model\"][\"dropout\"],\n",
    "    layer_norm=args_config[\"model\"][\"layer_norm\"],\n",
    ")\n",
    "\n",
    "bce_sgld_model = CPDModelCustomNoisyAdam(\n",
    "    loss_type=\"bce\",\n",
    "    args=args_config,\n",
    "    model=core_model,\n",
    "    train_dataset=train_dataset,\n",
    "    test_dataset=test_dataset,\n",
    ")"
   ]
  },
  {
   "cell_type": "code",
   "execution_count": null,
   "metadata": {},
   "outputs": [],
   "source": []
  },
  {
   "cell_type": "code",
   "execution_count": null,
   "metadata": {},
   "outputs": [],
   "source": []
  },
  {
   "cell_type": "code",
   "execution_count": null,
   "metadata": {},
   "outputs": [],
   "source": []
  },
  {
   "cell_type": "code",
   "execution_count": null,
   "metadata": {},
   "outputs": [],
   "source": []
  },
  {
   "cell_type": "code",
   "execution_count": null,
   "metadata": {},
   "outputs": [],
   "source": []
  },
  {
   "cell_type": "markdown",
   "metadata": {},
   "source": [
    "# Scenario 2: sgld pretrain + adam finetune"
   ]
  },
  {
   "cell_type": "code",
   "execution_count": null,
   "metadata": {},
   "outputs": [],
   "source": []
  },
  {
   "cell_type": "code",
   "execution_count": null,
   "metadata": {},
   "outputs": [],
   "source": []
  },
  {
   "cell_type": "code",
   "execution_count": null,
   "metadata": {},
   "outputs": [],
   "source": []
  },
  {
   "cell_type": "code",
   "execution_count": null,
   "metadata": {},
   "outputs": [],
   "source": []
  }
 ],
 "metadata": {
  "kernelspec": {
   "display_name": "base",
   "language": "python",
   "name": "python3"
  },
  "language_info": {
   "codemirror_mode": {
    "name": "ipython",
    "version": 3
   },
   "file_extension": ".py",
   "mimetype": "text/x-python",
   "name": "python",
   "nbconvert_exporter": "python",
   "pygments_lexer": "ipython3",
   "version": "3.9.16"
  }
 },
 "nbformat": 4,
 "nbformat_minor": 2
}
