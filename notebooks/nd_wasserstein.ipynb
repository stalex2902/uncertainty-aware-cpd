{
 "cells": [
  {
   "cell_type": "code",
   "execution_count": 1,
   "metadata": {},
   "outputs": [],
   "source": [
    "import warnings\n",
    "\n",
    "warnings.filterwarnings(\"ignore\")\n",
    "\n",
    "import os\n",
    "import sys\n",
    "\n",
    "dir2 = os.path.abspath(\"\")\n",
    "dir1 = os.path.dirname(dir2)\n",
    "if dir1 not in sys.path:\n",
    "    sys.path.append(dir1)\n",
    "\n",
    "os.chdir(\"..\")"
   ]
  },
  {
   "cell_type": "code",
   "execution_count": 2,
   "metadata": {},
   "outputs": [],
   "source": [
    "import numpy as np\n",
    "from scipy.stats import wasserstein_distance, wasserstein_distance_nd"
   ]
  },
  {
   "cell_type": "code",
   "execution_count": 6,
   "metadata": {},
   "outputs": [
    {
     "data": {
      "text/plain": [
       "0.5098217169106859"
      ]
     },
     "execution_count": 6,
     "metadata": {},
     "output_type": "execute_result"
    }
   ],
   "source": [
    "a = np.random.randn(10)\n",
    "b = np.random.randn(10)\n",
    "\n",
    "wasserstein_distance(a, b)"
   ]
  },
  {
   "cell_type": "code",
   "execution_count": 7,
   "metadata": {},
   "outputs": [
    {
     "data": {
      "text/plain": [
       "2.2806969028909956"
      ]
     },
     "execution_count": 7,
     "metadata": {},
     "output_type": "execute_result"
    }
   ],
   "source": [
    "c = np.random.randn(10, 4)  # (n_samples, dim_size)\n",
    "d = np.random.randn(10, 4)\n",
    "\n",
    "wasserstein_distance_nd(c, d)"
   ]
  },
  {
   "cell_type": "code",
   "execution_count": 4,
   "metadata": {},
   "outputs": [
    {
     "data": {
      "text/plain": [
       "(2, 3)"
      ]
     },
     "execution_count": 4,
     "metadata": {},
     "output_type": "execute_result"
    }
   ],
   "source": [
    "e = np.array([[0, 2, 3], [1, 2, 5]])\n",
    "e.shape"
   ]
  },
  {
   "cell_type": "code",
   "execution_count": 2,
   "metadata": {},
   "outputs": [
    {
     "name": "stderr",
     "output_type": "stream",
     "text": [
      "comet_ml is installed but `COMET_API_KEY` is not set.\n"
     ]
    }
   ],
   "source": [
    "import itertools\n",
    "\n",
    "import numpy as np\n",
    "import yaml\n",
    "from src.datasets.datasets import AllModelsOutputDataset, CPDDatasets\n",
    "from src.ensembles.ensembles import (\n",
    "    EnsembleCPDModel,\n",
    ")\n",
    "from src.metrics.evaluation_pipelines import evaluate_distance_ensemble_model\n",
    "from src.metrics.metrics_utils import collect_model_predictions_on_set\n",
    "from torch.utils.data import DataLoader\n",
    "\n",
    "%load_ext autoreload\n",
    "%autoreload\n",
    "%matplotlib inline"
   ]
  },
  {
   "cell_type": "markdown",
   "metadata": {},
   "source": [
    "# BCE Explosion"
   ]
  },
  {
   "cell_type": "code",
   "execution_count": 1,
   "metadata": {},
   "outputs": [],
   "source": [
    "import torch"
   ]
  },
  {
   "cell_type": "code",
   "execution_count": 4,
   "metadata": {},
   "outputs": [
    {
     "data": {
      "text/plain": [
       "tensor(-1.5627)"
      ]
     },
     "execution_count": 4,
     "metadata": {},
     "output_type": "execute_result"
    }
   ],
   "source": [
    "a = torch.randn(10, 50)  # batch_size x seq_len\n",
    "\n",
    "torch.quantile(a, 0.05)"
   ]
  },
  {
   "cell_type": "code",
   "execution_count": 3,
   "metadata": {},
   "outputs": [],
   "source": [
    "model_type = \"seq2seq\"\n",
    "\n",
    "experiments_name = \"explosion\"\n",
    "\n",
    "path_to_config = \"configs/\" + \"video\" + \"_\" + model_type + \".yaml\"\n",
    "\n",
    "with open(path_to_config, \"r\") as f:\n",
    "    args_config = yaml.safe_load(f.read())\n",
    "\n",
    "args_config[\"experiments_name\"] = experiments_name\n",
    "args_config[\"model_type\"] = model_type\n",
    "\n",
    "args_config[\"loss_type\"] = \"bce\"\n",
    "args_config[\"num_workers\"] = 4\n",
    "args_config[\"learning\"][\"gpus\"] = 1\n",
    "\n",
    "args_config[\"learning\"][\"epochs\"] = 100"
   ]
  },
  {
   "cell_type": "code",
   "execution_count": 4,
   "metadata": {},
   "outputs": [],
   "source": [
    "train_dataset, test_dataset = CPDDatasets(experiments_name).get_dataset_()\n",
    "test_dataloader = DataLoader(\n",
    "    test_dataset, batch_size=args_config[\"learning\"][\"batch_size\"], shuffle=False\n",
    ")"
   ]
  },
  {
   "cell_type": "code",
   "execution_count": 5,
   "metadata": {},
   "outputs": [],
   "source": [
    "# path_to_models_folder = \"saved_models/bce/explosion/sgld_adam\"\n",
    "\n",
    "path_to_models_folder = \"saved_models/bce/explosion/layer_norm/train_anomaly_num_155\"\n",
    "\n",
    "ens_bce = EnsembleCPDModel(args_config, n_models=10, boot_sample_size=None)\n",
    "ens_bce.load_models_list(path_to_models_folder)"
   ]
  },
  {
   "cell_type": "code",
   "execution_count": 6,
   "metadata": {},
   "outputs": [
    {
     "name": "stderr",
     "output_type": "stream",
     "text": [
      "  0%|          | 0/20 [00:00<?, ?it/s]"
     ]
    },
    {
     "name": "stdout",
     "output_type": "stream",
     "text": [
      "Collectting model's outputs\n"
     ]
    },
    {
     "name": "stderr",
     "output_type": "stream",
     "text": [
      "100%|██████████| 20/20 [02:40<00:00,  8.01s/it]\n"
     ]
    },
    {
     "data": {
      "text/plain": [
       "(torch.Size([10, 16]), torch.Size([16]))"
      ]
     },
     "execution_count": 6,
     "metadata": {},
     "output_type": "execute_result"
    }
   ],
   "source": [
    "# collecting outputs\n",
    "test_out_bank, _, test_labels_bank = collect_model_predictions_on_set(\n",
    "    ens_bce, test_dataloader, model_type=\"ensemble_all_models\", device=\"cuda:1\"\n",
    ")\n",
    "\n",
    "all_models_out_dataset = AllModelsOutputDataset(test_out_bank, test_labels_bank)\n",
    "all_models_out_dataloader = DataLoader(\n",
    "    all_models_out_dataset, batch_size=128, shuffle=False\n",
    ")\n",
    "\n",
    "preds, labels = all_models_out_dataset[0]\n",
    "preds.shape, labels.shape"
   ]
  },
  {
   "cell_type": "code",
   "execution_count": null,
   "metadata": {},
   "outputs": [],
   "source": [
    "res_dict = {}\n",
    "\n",
    "window_size_list = [1, 2, 3]\n",
    "anchor_window_type_list = [\"start\", \"prev\"]\n",
    "\n",
    "threshold_list = np.linspace(0, 3, 25)\n",
    "\n",
    "for window_size, anchor_window_type in itertools.product(\n",
    "    window_size_list, anchor_window_type_list\n",
    "):\n",
    "    print(f\"window_size = {window_size}, anchor_window_type = {anchor_window_type}\")\n",
    "\n",
    "    res, best_th = evaluate_distance_ensemble_model(\n",
    "        threshold_list=threshold_list,\n",
    "        output_dataloader=all_models_out_dataloader,\n",
    "        margin_list=[1, 2, 4],\n",
    "        args_config=args_config,\n",
    "        n_models=10,\n",
    "        window_size=window_size,\n",
    "        # kernel=\"rbf\",\n",
    "        anchor_window_type=anchor_window_type,\n",
    "        distance=\"wasserstein_nd\",\n",
    "        save_path=path_to_models_folder,\n",
    "        device=\"cpu\",\n",
    "        verbose=False,\n",
    "    )\n",
    "\n",
    "    res_dict[(window_size, anchor_window_type)] = res[best_th]"
   ]
  },
  {
   "cell_type": "code",
   "execution_count": 17,
   "metadata": {},
   "outputs": [
    {
     "data": {
      "text/plain": [
       "{(1, 'start'): (0.0,\n",
       "  15.7396821975708,\n",
       "  0.20317460596561432,\n",
       "  0.72,\n",
       "  0.9828878974861117,\n",
       "  0.9828878974861117,\n",
       "  {1: 0.11764705882352941, 2: 0.5454545454545454, 4: 0.6086956521739131}),\n",
       " (1, 'prev'): (0.0,\n",
       "  15.688888549804688,\n",
       "  0.1428571492433548,\n",
       "  0.6923076923076923,\n",
       "  0.9866544577556483,\n",
       "  0.9866544577556483,\n",
       "  {1: 0.5833333333333334, 2: 0.5833333333333334, 4: 0.6923076923076923}),\n",
       " (2, 'start'): (0.0,\n",
       "  15.777777671813965,\n",
       "  0.21587301790714264,\n",
       "  0.6956521739130435,\n",
       "  0.9831601516869374,\n",
       "  0.9831601516869374,\n",
       "  {1: 0.0, 2: 0.42105263157894735, 4: 0.5714285714285714}),\n",
       " (2, 'prev'): (0.0,\n",
       "  15.666666984558105,\n",
       "  0.13650794327259064,\n",
       "  0.7407407407407407,\n",
       "  0.9859919131794131,\n",
       "  0.9859919131794131,\n",
       "  {1: 0.38095238095238093, 2: 0.64, 4: 0.7857142857142857}),\n",
       " (3, 'start'): (0.0,\n",
       "  15.7619047164917,\n",
       "  0.22857142984867096,\n",
       "  0.6666666666666666,\n",
       "  0.9809333969601828,\n",
       "  0.9809333969601828,\n",
       "  {1: 0.0, 2: 0.0, 4: 0.5454545454545454}),\n",
       " (3, 'prev'): (0.0,\n",
       "  15.631746292114258,\n",
       "  0.13968254625797272,\n",
       "  0.7857142857142857,\n",
       "  0.9837874779541447,\n",
       "  0.9837874779541447,\n",
       "  {1: 0.3, 2: 0.5833333333333334, 4: 0.8275862068965517})}"
      ]
     },
     "execution_count": 17,
     "metadata": {},
     "output_type": "execute_result"
    }
   ],
   "source": [
    "res_dict"
   ]
  },
  {
   "cell_type": "code",
   "execution_count": null,
   "metadata": {},
   "outputs": [],
   "source": []
  },
  {
   "cell_type": "markdown",
   "metadata": {},
   "source": [
    "# BCE Road Accidents"
   ]
  },
  {
   "cell_type": "code",
   "execution_count": 3,
   "metadata": {},
   "outputs": [],
   "source": [
    "model_type = \"seq2seq\"\n",
    "\n",
    "experiments_name = \"road_accidents\"\n",
    "\n",
    "path_to_config = \"configs/\" + \"video\" + \"_\" + model_type + \".yaml\"\n",
    "\n",
    "with open(path_to_config, \"r\") as f:\n",
    "    args_config = yaml.safe_load(f.read())\n",
    "\n",
    "args_config[\"experiments_name\"] = experiments_name\n",
    "args_config[\"model_type\"] = model_type\n",
    "\n",
    "args_config[\"loss_type\"] = \"bce\"\n",
    "args_config[\"num_workers\"] = 4\n",
    "args_config[\"learning\"][\"gpus\"] = 1\n",
    "\n",
    "args_config[\"learning\"][\"epochs\"] = 100"
   ]
  },
  {
   "cell_type": "code",
   "execution_count": 4,
   "metadata": {},
   "outputs": [],
   "source": [
    "train_dataset, test_dataset = CPDDatasets(experiments_name).get_dataset_()\n",
    "test_dataloader = DataLoader(\n",
    "    test_dataset, batch_size=args_config[\"learning\"][\"batch_size\"], shuffle=False\n",
    ")"
   ]
  },
  {
   "cell_type": "code",
   "execution_count": 5,
   "metadata": {},
   "outputs": [],
   "source": [
    "path_to_models_folder = \"saved_models/bce/road_accidents/layer_norm\"\n",
    "\n",
    "ens_bce = EnsembleCPDModel(args_config, n_models=10, boot_sample_size=None)\n",
    "ens_bce.load_models_list(path_to_models_folder)"
   ]
  },
  {
   "cell_type": "code",
   "execution_count": 6,
   "metadata": {},
   "outputs": [
    {
     "name": "stderr",
     "output_type": "stream",
     "text": [
      "  0%|          | 0/20 [00:00<?, ?it/s]"
     ]
    },
    {
     "name": "stdout",
     "output_type": "stream",
     "text": [
      "Collectting model's outputs\n"
     ]
    },
    {
     "name": "stderr",
     "output_type": "stream",
     "text": [
      "100%|██████████| 20/20 [02:40<00:00,  8.03s/it]\n"
     ]
    },
    {
     "data": {
      "text/plain": [
       "(torch.Size([10, 16]), torch.Size([16]))"
      ]
     },
     "execution_count": 6,
     "metadata": {},
     "output_type": "execute_result"
    }
   ],
   "source": [
    "# collecting outputs\n",
    "test_out_bank, _, test_labels_bank = collect_model_predictions_on_set(\n",
    "    ens_bce, test_dataloader, model_type=\"ensemble_all_models\", device=\"cuda:1\"\n",
    ")\n",
    "\n",
    "all_models_out_dataset = AllModelsOutputDataset(test_out_bank, test_labels_bank)\n",
    "all_models_out_dataloader = DataLoader(\n",
    "    all_models_out_dataset, batch_size=128, shuffle=False\n",
    ")\n",
    "\n",
    "preds, labels = all_models_out_dataset[0]\n",
    "preds.shape, labels.shape"
   ]
  },
  {
   "cell_type": "code",
   "execution_count": 7,
   "metadata": {},
   "outputs": [
    {
     "name": "stderr",
     "output_type": "stream",
     "text": [
      "  0%|          | 0/20 [00:00<?, ?it/s]"
     ]
    },
    {
     "name": "stdout",
     "output_type": "stream",
     "text": [
      "window_size = 1, anchor_window_type = prev\n"
     ]
    },
    {
     "name": "stderr",
     "output_type": "stream",
     "text": [
      "100%|██████████| 3/3 [00:00<00:00,  9.51it/s]\n",
      "100%|██████████| 3/3 [00:00<00:00,  9.44it/s]]\n",
      "100%|██████████| 3/3 [00:00<00:00,  9.54it/s]]\n",
      "100%|██████████| 3/3 [00:00<00:00,  9.38it/s]]\n",
      "100%|██████████| 3/3 [00:00<00:00,  9.33it/s]]\n",
      "100%|██████████| 3/3 [00:00<00:00,  9.51it/s]]\n",
      "100%|██████████| 3/3 [00:00<00:00,  9.49it/s]]\n",
      "100%|██████████| 3/3 [00:00<00:00,  9.54it/s]]\n",
      "100%|██████████| 3/3 [00:00<00:00,  9.39it/s]]\n",
      "100%|██████████| 3/3 [00:00<00:00,  9.48it/s]]\n",
      "100%|██████████| 3/3 [00:00<00:00,  9.41it/s]t]\n",
      "100%|██████████| 3/3 [00:00<00:00,  9.50it/s]t]\n",
      "100%|██████████| 3/3 [00:00<00:00,  9.53it/s]t]\n",
      "100%|██████████| 3/3 [00:00<00:00,  9.23it/s]t]\n",
      "100%|██████████| 3/3 [00:00<00:00,  9.32it/s]t]\n",
      "100%|██████████| 3/3 [00:00<00:00,  8.98it/s]t]\n",
      "100%|██████████| 3/3 [00:00<00:00,  9.37it/s]t]\n",
      "100%|██████████| 3/3 [00:00<00:00,  9.56it/s]t]\n",
      "100%|██████████| 3/3 [00:00<00:00,  9.64it/s]t]\n",
      "100%|██████████| 3/3 [00:00<00:00,  7.50it/s]t]\n",
      "100%|██████████| 20/20 [02:11<00:00,  6.56s/it]\n",
      "  0%|          | 0/20 [00:00<?, ?it/s]"
     ]
    },
    {
     "name": "stdout",
     "output_type": "stream",
     "text": [
      "Results for best threshold = 0.15789473684210525\n",
      "AUDC: 0.0, Time to FA: 15.527, DD: 0.1079, F1: 0.5882, Cover: 0.9822, Max Cover: 0.9822\n",
      "Max F1 with margin 1: 0.5\n",
      "Max F1 with margin 2: 0.5\n",
      "Max F1 with margin 4: 0.5882\n",
      "window_size = 2, anchor_window_type = prev\n"
     ]
    },
    {
     "name": "stderr",
     "output_type": "stream",
     "text": [
      "100%|██████████| 3/3 [00:00<00:00,  7.86it/s]\n",
      "100%|██████████| 3/3 [00:00<00:00,  7.96it/s]]\n",
      "100%|██████████| 3/3 [00:00<00:00,  7.64it/s]]\n",
      "100%|██████████| 3/3 [00:00<00:00,  8.01it/s]]\n",
      "100%|██████████| 3/3 [00:00<00:00,  7.94it/s]]\n",
      "100%|██████████| 3/3 [00:00<00:00,  8.03it/s]]\n",
      "100%|██████████| 3/3 [00:00<00:00,  8.12it/s]]\n",
      "100%|██████████| 3/3 [00:00<00:00,  7.54it/s]]\n",
      "100%|██████████| 3/3 [00:00<00:00,  8.00it/s]]\n",
      "100%|██████████| 3/3 [00:00<00:00,  8.08it/s]]\n",
      "100%|██████████| 3/3 [00:00<00:00,  8.00it/s]t]\n",
      "100%|██████████| 3/3 [00:00<00:00,  8.00it/s]t]\n",
      "100%|██████████| 3/3 [00:00<00:00,  8.14it/s]t]\n",
      "100%|██████████| 3/3 [00:00<00:00,  7.85it/s]t]\n",
      "100%|██████████| 3/3 [00:00<00:00,  7.48it/s]t]\n",
      "100%|██████████| 3/3 [00:00<00:00,  8.03it/s]t]\n",
      "100%|██████████| 3/3 [00:00<00:00,  7.96it/s]t]\n",
      "100%|██████████| 3/3 [00:00<00:00,  7.83it/s]t]\n",
      "100%|██████████| 3/3 [00:00<00:00,  7.98it/s]t]\n",
      "100%|██████████| 3/3 [00:00<00:00,  7.99it/s]t]\n",
      "100%|██████████| 20/20 [02:15<00:00,  6.77s/it]\n",
      "  0%|          | 0/20 [00:00<?, ?it/s]"
     ]
    },
    {
     "name": "stdout",
     "output_type": "stream",
     "text": [
      "Results for best threshold = 0.3157894736842105\n",
      "AUDC: 0.0, Time to FA: 15.7048, DD: 0.1683, F1: 0.6154, Cover: 0.9848, Max Cover: 0.9848\n",
      "Max F1 with margin 1: 0.2857\n",
      "Max F1 with margin 2: 0.5\n",
      "Max F1 with margin 4: 0.6667\n",
      "window_size = 3, anchor_window_type = prev\n"
     ]
    },
    {
     "name": "stderr",
     "output_type": "stream",
     "text": [
      "100%|██████████| 3/3 [00:00<00:00,  8.32it/s]\n",
      "100%|██████████| 3/3 [00:00<00:00,  8.31it/s]]\n",
      "100%|██████████| 3/3 [00:00<00:00,  7.50it/s]]\n",
      "100%|██████████| 3/3 [00:00<00:00,  8.21it/s]]\n",
      "100%|██████████| 3/3 [00:00<00:00,  8.24it/s]]\n",
      "100%|██████████| 3/3 [00:00<00:00,  8.51it/s]]\n",
      "100%|██████████| 3/3 [00:00<00:00,  8.45it/s]]\n",
      "100%|██████████| 3/3 [00:00<00:00,  8.37it/s]]\n",
      "100%|██████████| 3/3 [00:00<00:00,  8.50it/s]]\n",
      "100%|██████████| 3/3 [00:00<00:00,  8.36it/s]]\n",
      "100%|██████████| 3/3 [00:00<00:00,  8.22it/s]t]\n",
      "100%|██████████| 3/3 [00:00<00:00,  7.65it/s]t]\n",
      "100%|██████████| 3/3 [00:00<00:00,  8.45it/s]t]\n",
      "100%|██████████| 3/3 [00:00<00:00,  8.10it/s]t]\n",
      "100%|██████████| 3/3 [00:00<00:00,  8.49it/s]t]\n",
      "100%|██████████| 3/3 [00:00<00:00,  8.42it/s]t]\n",
      "100%|██████████| 3/3 [00:00<00:00,  8.49it/s]t]\n",
      "100%|██████████| 3/3 [00:00<00:00,  8.45it/s]t]\n",
      "100%|██████████| 3/3 [00:00<00:00,  8.42it/s]t]\n",
      "100%|██████████| 3/3 [00:00<00:00,  8.17it/s]t]\n",
      "100%|██████████| 20/20 [02:13<00:00,  6.66s/it]"
     ]
    },
    {
     "name": "stdout",
     "output_type": "stream",
     "text": [
      "Results for best threshold = 0.3157894736842105\n",
      "AUDC: 0.0, Time to FA: 15.6413, DD: 0.1492, F1: 0.7143, Cover: 0.9828, Max Cover: 0.9828\n",
      "Max F1 with margin 1: 0.2\n",
      "Max F1 with margin 2: 0.56\n",
      "Max F1 with margin 4: 0.7143\n"
     ]
    },
    {
     "name": "stderr",
     "output_type": "stream",
     "text": [
      "\n"
     ]
    }
   ],
   "source": [
    "res_dict = {}\n",
    "\n",
    "window_size_list = [1, 2, 3]\n",
    "anchor_window_type_list = [\"prev\"]\n",
    "\n",
    "threshold_list = np.linspace(0, 3, 20)\n",
    "\n",
    "for window_size, anchor_window_type in itertools.product(\n",
    "    window_size_list, anchor_window_type_list\n",
    "):\n",
    "    print(f\"window_size = {window_size}, anchor_window_type = {anchor_window_type}\")\n",
    "\n",
    "    res, best_th = evaluate_distance_ensemble_model(\n",
    "        threshold_list=threshold_list,\n",
    "        output_dataloader=all_models_out_dataloader,\n",
    "        margin_list=[1, 2, 4],\n",
    "        args_config=args_config,\n",
    "        n_models=10,\n",
    "        window_size=window_size,\n",
    "        # kernel=\"rbf\",\n",
    "        anchor_window_type=anchor_window_type,\n",
    "        distance=\"wasserstein_1d\",\n",
    "        save_path=path_to_models_folder,\n",
    "        device=\"cpu\",\n",
    "        verbose=True,\n",
    "    )\n",
    "\n",
    "    res_dict[(window_size, anchor_window_type)] = res[best_th]"
   ]
  },
  {
   "cell_type": "markdown",
   "metadata": {},
   "source": [
    "# TS-CP HAR"
   ]
  },
  {
   "cell_type": "code",
   "execution_count": null,
   "metadata": {},
   "outputs": [],
   "source": []
  }
 ],
 "metadata": {
  "kernelspec": {
   "display_name": "base",
   "language": "python",
   "name": "python3"
  },
  "language_info": {
   "codemirror_mode": {
    "name": "ipython",
    "version": 3
   },
   "file_extension": ".py",
   "mimetype": "text/x-python",
   "name": "python",
   "nbconvert_exporter": "python",
   "pygments_lexer": "ipython3",
   "version": "3.9.16"
  }
 },
 "nbformat": 4,
 "nbformat_minor": 2
}
