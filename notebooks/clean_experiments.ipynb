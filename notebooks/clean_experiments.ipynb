{
 "cells": [
  {
   "cell_type": "code",
   "execution_count": 1,
   "metadata": {},
   "outputs": [],
   "source": [
    "import warnings\n",
    "\n",
    "warnings.filterwarnings(\"ignore\")\n",
    "\n",
    "import os\n",
    "import sys\n",
    "\n",
    "dir2 = os.path.abspath(\"\")\n",
    "dir1 = os.path.dirname(dir2)\n",
    "if dir1 not in sys.path:\n",
    "    sys.path.append(dir1)\n",
    "\n",
    "os.chdir(\"..\")"
   ]
  },
  {
   "cell_type": "code",
   "execution_count": 2,
   "metadata": {},
   "outputs": [
    {
     "name": "stderr",
     "output_type": "stream",
     "text": [
      "comet_ml is installed but `COMET_API_KEY` is not set.\n"
     ]
    }
   ],
   "source": [
    "import numpy as np\n",
    "import yaml\n",
    "from src.datasets.datasets import CPDDatasets\n",
    "from src.ensembles.ensembles import EnsembleCPDModel\n",
    "from src.metrics.evaluation_pipelines import (\n",
    "    all_cusums_evaluation_pipeline,\n",
    "    all_distances_evaluation_pipeline,\n",
    "    evaluate_all_models_in_ensemble,\n",
    "    evaluation_pipeline,\n",
    ")\n",
    "from torch.utils.data import DataLoader\n",
    "\n",
    "%load_ext autoreload\n",
    "%autoreload\n",
    "%matplotlib inline"
   ]
  },
  {
   "cell_type": "markdown",
   "metadata": {},
   "source": [
    "# Synthetic 1D"
   ]
  },
  {
   "cell_type": "code",
   "execution_count": 3,
   "metadata": {},
   "outputs": [],
   "source": [
    "model_type = \"seq2seq\"\n",
    "\n",
    "experiments_name = \"synthetic_1D\"\n",
    "\n",
    "# read config file\n",
    "path_to_config = \"configs/\" + experiments_name + \"_\" + model_type + \".yaml\"\n",
    "\n",
    "with open(path_to_config, \"r\") as f:\n",
    "    args_config = yaml.safe_load(f.read())\n",
    "\n",
    "args_config[\"experiments_name\"] = experiments_name\n",
    "args_config[\"model_type\"] = model_type\n",
    "\n",
    "args_config[\"loss_type\"] = \"bce\"\n",
    "args_config[\"num_workers\"] = 2\n",
    "\n",
    "# prepare datasets\n",
    "train_dataset, test_dataset = CPDDatasets(experiments_name).get_dataset_()\n",
    "test_dataloader = DataLoader(\n",
    "    test_dataset, batch_size=args_config[\"learning\"][\"batch_size\"], shuffle=False\n",
    ")"
   ]
  },
  {
   "cell_type": "code",
   "execution_count": 4,
   "metadata": {},
   "outputs": [],
   "source": [
    "# load the models\n",
    "path_to_models_folder = \"saved_models/bce/synthetic_1D/full_sample\"\n",
    "\n",
    "ens_bce = EnsembleCPDModel(args_config, n_models=10, boot_sample_size=None)\n",
    "ens_bce.load_models_list(path_to_models_folder)"
   ]
  },
  {
   "cell_type": "markdown",
   "metadata": {},
   "source": [
    "## Metrics for single models"
   ]
  },
  {
   "cell_type": "code",
   "execution_count": 14,
   "metadata": {},
   "outputs": [
    {
     "name": "stderr",
     "output_type": "stream",
     "text": [
      "100%|██████████| 10/10 [02:19<00:00, 13.97s/it]"
     ]
    },
    {
     "name": "stdout",
     "output_type": "stream",
     "text": [
      "AUC: 656.9378 \\pm 27.4826\n",
      "Time to FA: 94.4373 \\pm 0.6117\n",
      "Delay detection: 1.4703 \\pm 0.7652\n",
      "Max F1: 0.9761 \\pm 0.0225\n",
      "Cover: 0.9859 \\pm 0.0035\n",
      "Max cover: 0.9864 \\pm 0.0036\n",
      "Max F1 with m1: 0.9655 \\pm 0.023\n",
      "Max F1 with m2: 0.9722 \\pm 0.0229\n",
      "Max F1 with m3: 0.9732 \\pm 0.0216\n"
     ]
    },
    {
     "name": "stderr",
     "output_type": "stream",
     "text": [
      "\n"
     ]
    }
   ],
   "source": [
    "_ = evaluate_all_models_in_ensemble(\n",
    "    ens_bce,\n",
    "    test_dataloader,\n",
    "    threshold_number=100,\n",
    "    margin_list=[5, 10, 20],\n",
    "    verbose=True,\n",
    ")"
   ]
  },
  {
   "cell_type": "markdown",
   "metadata": {},
   "source": [
    "## Evaluate Ensemble"
   ]
  },
  {
   "cell_type": "code",
   "execution_count": 8,
   "metadata": {},
   "outputs": [
    {
     "name": "stderr",
     "output_type": "stream",
     "text": [
      " 40%|████      | 2/5 [00:00<00:00, 12.38it/s]"
     ]
    },
    {
     "name": "stdout",
     "output_type": "stream",
     "text": [
      "Collectting model's outputs\n"
     ]
    },
    {
     "name": "stderr",
     "output_type": "stream",
     "text": [
      "100%|██████████| 5/5 [00:00<00:00, 13.58it/s]\n"
     ]
    },
    {
     "name": "stdout",
     "output_type": "stream",
     "text": [
      "TN: 0, FP: 300, FN: 0, TP: 0, DELAY:0.0, FP_DELAY:0.0, COVER: 0.8226481119791667\n",
      "TN: 0, FP: 300, FN: 0, TP: 0, DELAY:0.0, FP_DELAY:0.0, COVER: 0.8226481119791667\n",
      "TN: 0, FP: 300, FN: 0, TP: 0, DELAY:0.0, FP_DELAY:0.0, COVER: 0.8226481119791667\n",
      "TN: 0, FP: 300, FN: 0, TP: 0, DELAY:0.0, FP_DELAY:0.0, COVER: 0.8226481119791667\n",
      "TN: 0, FP: 300, FN: 0, TP: 0, DELAY:0.0, FP_DELAY:0.0, COVER: 0.8226481119791667\n",
      "TN: 0, FP: 300, FN: 0, TP: 0, DELAY:0.0, FP_DELAY:0.0, COVER: 0.8226481119791667\n",
      "TN: 0, FP: 300, FN: 0, TP: 0, DELAY:0.0, FP_DELAY:0.0, COVER: 0.8226481119791667\n",
      "TN: 0, FP: 300, FN: 0, TP: 0, DELAY:0.0, FP_DELAY:0.0, COVER: 0.8226481119791667\n",
      "TN: 0, FP: 300, FN: 0, TP: 0, DELAY:0.0, FP_DELAY:0.0, COVER: 0.8226481119791667\n",
      "TN: 0, FP: 300, FN: 0, TP: 0, DELAY:0.0, FP_DELAY:0.0, COVER: 0.8226481119791667\n",
      "TN: 0, FP: 300, FN: 0, TP: 0, DELAY:0.0, FP_DELAY:0.0, COVER: 0.8226481119791667\n",
      "TN: 0, FP: 300, FN: 0, TP: 0, DELAY:0.0, FP_DELAY:0.0, COVER: 0.8226481119791667\n",
      "TN: 0, FP: 300, FN: 0, TP: 0, DELAY:0.0, FP_DELAY:0.0, COVER: 0.8226481119791667\n",
      "TN: 0, FP: 300, FN: 0, TP: 0, DELAY:0.0, FP_DELAY:0.0, COVER: 0.8226481119791667\n",
      "TN: 0, FP: 300, FN: 0, TP: 0, DELAY:0.0, FP_DELAY:0.0, COVER: 0.8226481119791667\n",
      "TN: 0, FP: 300, FN: 0, TP: 0, DELAY:0.0, FP_DELAY:0.0, COVER: 0.8226481119791667\n",
      "TN: 0, FP: 300, FN: 0, TP: 0, DELAY:0.0, FP_DELAY:0.0, COVER: 0.8226481119791667\n",
      "TN: 0, FP: 300, FN: 0, TP: 0, DELAY:0.0, FP_DELAY:0.0, COVER: 0.8226481119791667\n",
      "TN: 0, FP: 300, FN: 0, TP: 0, DELAY:0.0, FP_DELAY:0.0, COVER: 0.8226481119791667\n",
      "TN: 0, FP: 300, FN: 0, TP: 0, DELAY:0.0, FP_DELAY:0.0, COVER: 0.8226481119791667\n",
      "TN: 0, FP: 300, FN: 0, TP: 0, DELAY:0.0, FP_DELAY:0.0, COVER: 0.8226481119791667\n",
      "TN: 0, FP: 300, FN: 0, TP: 0, DELAY:0.0, FP_DELAY:0.0, COVER: 0.8226481119791667\n",
      "TN: 0, FP: 300, FN: 0, TP: 0, DELAY:0.0, FP_DELAY:0.0, COVER: 0.8226481119791667\n",
      "TN: 0, FP: 300, FN: 0, TP: 0, DELAY:0.0, FP_DELAY:0.0, COVER: 0.8226481119791667\n",
      "TN: 0, FP: 300, FN: 0, TP: 0, DELAY:0.0, FP_DELAY:0.0, COVER: 0.8226481119791667\n",
      "TN: 0, FP: 300, FN: 0, TP: 0, DELAY:0.0, FP_DELAY:0.0, COVER: 0.8226481119791667\n",
      "TN: 0, FP: 300, FN: 0, TP: 0, DELAY:0.0, FP_DELAY:0.0, COVER: 0.8226481119791667\n",
      "TN: 0, FP: 300, FN: 0, TP: 0, DELAY:0.0, FP_DELAY:0.0, COVER: 0.8226481119791667\n",
      "TN: 0, FP: 300, FN: 0, TP: 0, DELAY:0.0, FP_DELAY:0.0, COVER: 0.8226481119791667\n",
      "TN: 0, FP: 300, FN: 0, TP: 0, DELAY:0.0, FP_DELAY:0.0, COVER: 0.8226481119791667\n",
      "TN: 0, FP: 300, FN: 0, TP: 0, DELAY:0.0, FP_DELAY:0.0, COVER: 0.8226481119791667\n",
      "TN: 0, FP: 300, FN: 0, TP: 0, DELAY:0.0, FP_DELAY:0.0, COVER: 0.8226481119791667\n",
      "TN: 0, FP: 300, FN: 0, TP: 0, DELAY:0.0, FP_DELAY:0.0, COVER: 0.8226481119791667\n",
      "TN: 0, FP: 300, FN: 0, TP: 0, DELAY:0.0, FP_DELAY:0.0, COVER: 0.8226481119791667\n",
      "TN: 0, FP: 300, FN: 0, TP: 0, DELAY:0.0, FP_DELAY:0.0, COVER: 0.8226481119791667\n",
      "TN: 0, FP: 300, FN: 0, TP: 0, DELAY:0.0, FP_DELAY:0.0, COVER: 0.8226481119791667\n",
      "TN: 0, FP: 300, FN: 0, TP: 0, DELAY:0.0, FP_DELAY:0.0, COVER: 0.8226481119791667\n",
      "TN: 0, FP: 300, FN: 0, TP: 0, DELAY:0.0, FP_DELAY:0.0, COVER: 0.8226481119791667\n",
      "TN: 0, FP: 300, FN: 0, TP: 0, DELAY:0.0, FP_DELAY:0.0, COVER: 0.8226481119791667\n",
      "TN: 0, FP: 300, FN: 0, TP: 0, DELAY:0.0, FP_DELAY:0.0, COVER: 0.8226481119791667\n",
      "TN: 34, FP: 218, FN: 2, TP: 46, DELAY:0.3866666555404663, FP_DELAY:24.366666793823242, COVER: 0.8753677743923611\n",
      "TN: 71, FP: 137, FN: 3, TP: 89, DELAY:0.5233333110809326, FP_DELAY:49.97999954223633, COVER: 0.9223462233521057\n",
      "TN: 92, FP: 95, FN: 3, TP: 110, DELAY:0.5533333420753479, FP_DELAY:62.71666717529297, COVER: 0.941997975148102\n",
      "TN: 107, FP: 61, FN: 3, TP: 129, DELAY:0.5733333230018616, FP_DELAY:74.02999877929688, COVER: 0.9645650948916596\n",
      "TN: 118, FP: 46, FN: 3, TP: 133, DELAY:0.5733333230018616, FP_DELAY:79.25333404541016, COVER: 0.968923818849993\n",
      "TN: 127, FP: 27, FN: 4, TP: 142, DELAY:0.6133333444595337, FP_DELAY:85.91666412353516, COVER: 0.9792366559965704\n",
      "TN: 135, FP: 16, FN: 4, TP: 145, DELAY:0.6233333349227905, FP_DELAY:90.03666687011719, COVER: 0.9836861053924508\n",
      "TN: 137, FP: 14, FN: 4, TP: 145, DELAY:0.6266666650772095, FP_DELAY:90.88999938964844, COVER: 0.9836426819466836\n",
      "TN: 140, FP: 8, FN: 4, TP: 148, DELAY:0.6299999952316284, FP_DELAY:92.9366683959961, COVER: 0.9852619728951845\n",
      "TN: 141, FP: 7, FN: 4, TP: 148, DELAY:0.653333306312561, FP_DELAY:93.36333465576172, COVER: 0.9849009035524788\n",
      "TN: 141, FP: 4, FN: 4, TP: 151, DELAY:0.7099999785423279, FP_DELAY:93.87000274658203, COVER: 0.9881699981585204\n",
      "TN: 141, FP: 2, FN: 4, TP: 153, DELAY:0.7666666507720947, FP_DELAY:94.15666961669922, COVER: 0.9899212008417742\n",
      "TN: 142, FP: 0, FN: 5, TP: 153, DELAY:1.2133333683013916, FP_DELAY:95.01000213623047, COVER: 0.9880241570264654\n",
      "TN: 142, FP: 0, FN: 5, TP: 153, DELAY:1.3566666841506958, FP_DELAY:95.01000213623047, COVER: 0.9858053598769645\n",
      "TN: 142, FP: 0, FN: 5, TP: 153, DELAY:1.403333306312561, FP_DELAY:95.01000213623047, COVER: 0.9850961654753193\n",
      "TN: 142, FP: 0, FN: 5, TP: 153, DELAY:1.4266666173934937, FP_DELAY:95.01000213623047, COVER: 0.9847404929015916\n",
      "TN: 142, FP: 0, FN: 5, TP: 153, DELAY:1.4366666078567505, FP_DELAY:95.01000213623047, COVER: 0.9845910242267247\n",
      "TN: 142, FP: 0, FN: 5, TP: 153, DELAY:1.4633333683013916, FP_DELAY:95.01000213623047, COVER: 0.9842103671659607\n",
      "TN: 142, FP: 0, FN: 5, TP: 153, DELAY:1.4900000095367432, FP_DELAY:95.01000213623047, COVER: 0.9838874514281004\n",
      "TN: 142, FP: 0, FN: 5, TP: 153, DELAY:1.5266666412353516, FP_DELAY:95.01000213623047, COVER: 0.9833899271021814\n",
      "TN: 142, FP: 0, FN: 6, TP: 152, DELAY:1.659999966621399, FP_DELAY:95.1866683959961, COVER: 0.9823903866267203\n",
      "TN: 142, FP: 0, FN: 6, TP: 152, DELAY:1.7066667079925537, FP_DELAY:95.1866683959961, COVER: 0.9817731424162636\n",
      "TN: 142, FP: 0, FN: 7, TP: 151, DELAY:2.140000104904175, FP_DELAY:95.51667022705078, COVER: 0.9789809864536113\n",
      "TN: 142, FP: 0, FN: 7, TP: 151, DELAY:2.5366666316986084, FP_DELAY:95.51667022705078, COVER: 0.9738501871285734\n",
      "TN: 142, FP: 0, FN: 10, TP: 148, DELAY:2.816666603088379, FP_DELAY:95.88666534423828, COVER: 0.9732439443446591\n",
      "TN: 142, FP: 0, FN: 11, TP: 147, DELAY:3.1466667652130127, FP_DELAY:96.16999816894531, COVER: 0.9712780387163888\n",
      "TN: 142, FP: 0, FN: 14, TP: 144, DELAY:3.630000114440918, FP_DELAY:96.79666900634766, COVER: 0.9690190528482049\n",
      "TN: 142, FP: 0, FN: 17, TP: 141, DELAY:4.306666851043701, FP_DELAY:96.96666717529297, COVER: 0.9602796622522519\n",
      "TN: 142, FP: 0, FN: 158, TP: 0, DELAY:33.81999969482422, FP_DELAY:128.0, COVER: 0.8226481119791667\n",
      "TN: 142, FP: 0, FN: 158, TP: 0, DELAY:33.81999969482422, FP_DELAY:128.0, COVER: 0.8226481119791667\n",
      "TN: 142, FP: 0, FN: 158, TP: 0, DELAY:33.81999969482422, FP_DELAY:128.0, COVER: 0.8226481119791667\n",
      "TN: 142, FP: 0, FN: 158, TP: 0, DELAY:33.81999969482422, FP_DELAY:128.0, COVER: 0.8226481119791667\n",
      "TN: 142, FP: 0, FN: 158, TP: 0, DELAY:33.81999969482422, FP_DELAY:128.0, COVER: 0.8226481119791667\n",
      "TN: 142, FP: 0, FN: 158, TP: 0, DELAY:33.81999969482422, FP_DELAY:128.0, COVER: 0.8226481119791667\n",
      "TN: 142, FP: 0, FN: 158, TP: 0, DELAY:33.81999969482422, FP_DELAY:128.0, COVER: 0.8226481119791667\n",
      "TN: 142, FP: 0, FN: 158, TP: 0, DELAY:33.81999969482422, FP_DELAY:128.0, COVER: 0.8226481119791667\n",
      "TN: 142, FP: 0, FN: 158, TP: 0, DELAY:33.81999969482422, FP_DELAY:128.0, COVER: 0.8226481119791667\n",
      "TN: 142, FP: 0, FN: 158, TP: 0, DELAY:33.81999969482422, FP_DELAY:128.0, COVER: 0.8226481119791667\n",
      "TN: 142, FP: 0, FN: 158, TP: 0, DELAY:33.81999969482422, FP_DELAY:128.0, COVER: 0.8226481119791667\n",
      "TN: 142, FP: 0, FN: 158, TP: 0, DELAY:33.81999969482422, FP_DELAY:128.0, COVER: 0.8226481119791667\n",
      "TN: 142, FP: 0, FN: 158, TP: 0, DELAY:33.81999969482422, FP_DELAY:128.0, COVER: 0.8226481119791667\n",
      "TN: 142, FP: 0, FN: 158, TP: 0, DELAY:33.81999969482422, FP_DELAY:128.0, COVER: 0.8226481119791667\n",
      "TN: 142, FP: 0, FN: 158, TP: 0, DELAY:33.81999969482422, FP_DELAY:128.0, COVER: 0.8226481119791667\n",
      "TN: 142, FP: 0, FN: 158, TP: 0, DELAY:33.81999969482422, FP_DELAY:128.0, COVER: 0.8226481119791667\n",
      "TN: 142, FP: 0, FN: 158, TP: 0, DELAY:33.81999969482422, FP_DELAY:128.0, COVER: 0.8226481119791667\n",
      "TN: 142, FP: 0, FN: 158, TP: 0, DELAY:33.81999969482422, FP_DELAY:128.0, COVER: 0.8226481119791667\n",
      "TN: 142, FP: 0, FN: 158, TP: 0, DELAY:33.81999969482422, FP_DELAY:128.0, COVER: 0.8226481119791667\n",
      "TN: 142, FP: 0, FN: 158, TP: 0, DELAY:33.81999969482422, FP_DELAY:128.0, COVER: 0.8226481119791667\n",
      "TN: 142, FP: 0, FN: 158, TP: 0, DELAY:33.81999969482422, FP_DELAY:128.0, COVER: 0.8226481119791667\n",
      "TN: 142, FP: 0, FN: 158, TP: 0, DELAY:33.81999969482422, FP_DELAY:128.0, COVER: 0.8226481119791667\n",
      "TN: 142, FP: 0, FN: 158, TP: 0, DELAY:33.81999969482422, FP_DELAY:128.0, COVER: 0.8226481119791667\n",
      "TN: 142, FP: 0, FN: 158, TP: 0, DELAY:33.81999969482422, FP_DELAY:128.0, COVER: 0.8226481119791667\n",
      "TN: 142, FP: 0, FN: 158, TP: 0, DELAY:33.81999969482422, FP_DELAY:128.0, COVER: 0.8226481119791667\n",
      "TN: 142, FP: 0, FN: 158, TP: 0, DELAY:33.81999969482422, FP_DELAY:128.0, COVER: 0.8226481119791667\n",
      "TN: 142, FP: 0, FN: 158, TP: 0, DELAY:33.81999969482422, FP_DELAY:128.0, COVER: 0.8226481119791667\n",
      "TN: 142, FP: 0, FN: 158, TP: 0, DELAY:33.81999969482422, FP_DELAY:128.0, COVER: 0.8226481119791667\n",
      "TN: 142, FP: 0, FN: 158, TP: 0, DELAY:33.81999969482422, FP_DELAY:128.0, COVER: 0.8226481119791667\n",
      "TN: 142, FP: 0, FN: 158, TP: 0, DELAY:33.81999969482422, FP_DELAY:128.0, COVER: 0.8226481119791667\n",
      "TN: 142, FP: 0, FN: 158, TP: 0, DELAY:33.81999969482422, FP_DELAY:128.0, COVER: 0.8226481119791667\n",
      "TN: 142, FP: 0, FN: 158, TP: 0, DELAY:33.81999969482422, FP_DELAY:128.0, COVER: 0.8226481119791667\n",
      "TN: 142, FP: 0, FN: 158, TP: 0, DELAY:33.81999969482422, FP_DELAY:128.0, COVER: 0.8226481119791667\n",
      "TN: 142, FP: 0, FN: 158, TP: 0, DELAY:33.81999969482422, FP_DELAY:128.0, COVER: 0.8226481119791667\n",
      "AUC: 639.7336\n",
      "Time to FA 95.01, delay detection 1.2133 for best-F1 threshold: 0.5378\n",
      "TN 142, FP 0, FN 5, TP 153 for best-F1 threshold: 0.5378\n",
      "Max F1 0.9839: for best-F1 threshold 0.5378\n",
      "COVER 0.988: for best-F1 threshold 0.5378\n",
      "Max COVER 0.9899: for threshold 0.5126\n",
      "Max F1 with margin 5: 0.9773 for best threshold 0.5378\n",
      "Max F1 with margin 10: 0.9839 for best threshold 0.5378\n",
      "Max F1 with margin 20: 0.9839 for best threshold 0.5378\n"
     ]
    }
   ],
   "source": [
    "threshold_number = 100\n",
    "threshold_list = np.linspace(-5, 5, threshold_number)\n",
    "threshold_list = 1 / (1 + np.exp(-threshold_list))\n",
    "threshold_list = [-0.001] + list(threshold_list) + [1.001]\n",
    "\n",
    "metrics, (max_th_f1_margins_dict, max_f1_margins_dic), _, _ = evaluation_pipeline(\n",
    "    ens_bce,\n",
    "    test_dataloader,\n",
    "    threshold_list,\n",
    "    device=\"cpu\",\n",
    "    model_type=\"ensemble\",\n",
    "    verbose=True,\n",
    "    margin_list=[5, 10, 20],\n",
    ")"
   ]
  },
  {
   "cell_type": "markdown",
   "metadata": {},
   "source": [
    "## Evaluate CUSUMs"
   ]
  },
  {
   "cell_type": "code",
   "execution_count": 5,
   "metadata": {},
   "outputs": [
    {
     "name": "stderr",
     "output_type": "stream",
     "text": [
      " 20%|██        | 1/5 [00:00<00:00,  9.34it/s]"
     ]
    },
    {
     "name": "stdout",
     "output_type": "stream",
     "text": [
      "Collectting model's outputs\n"
     ]
    },
    {
     "name": "stderr",
     "output_type": "stream",
     "text": [
      "100%|██████████| 5/5 [00:00<00:00, 13.51it/s]\n",
      "  0%|          | 0/300 [00:00<?, ?it/s]"
     ]
    },
    {
     "name": "stdout",
     "output_type": "stream",
     "text": [
      "Evaluating CUSUM model with cusum_mode = old and conditional = True\n",
      "Threshold range: (0.0, 5.586112022399902)\n"
     ]
    },
    {
     "name": "stderr",
     "output_type": "stream",
     "text": [
      "100%|██████████| 300/300 [01:26<00:00,  3.46it/s]\n",
      "  0%|          | 0/300 [00:00<?, ?it/s]"
     ]
    },
    {
     "name": "stdout",
     "output_type": "stream",
     "text": [
      "Results for best threshold = 1.7748516459130124\n",
      "AUDC: 0.0, Time to FA: 94.4867, DD: 0.51, F1: 0.9904, Cover: 0.9939, Max Cover: 0.9939\n",
      "Max F1 with margin 5: 0.9839\n",
      "Max F1 with margin 10: 0.9839\n",
      "Max F1 with margin 20: 0.9872\n",
      "Evaluating CUSUM model with cusum_mode = correct and conditional = False\n",
      "Threshold range: (0.0, 26513.314453125)\n"
     ]
    },
    {
     "name": "stderr",
     "output_type": "stream",
     "text": [
      "100%|██████████| 300/300 [01:25<00:00,  3.52it/s]\n",
      "  0%|          | 0/300 [00:00<?, ?it/s]"
     ]
    },
    {
     "name": "stdout",
     "output_type": "stream",
     "text": [
      "Results for best threshold = 0.0\n",
      "AUDC: 0.0, Time to FA: 94.4733, DD: 0.87, F1: 0.9839, Cover: 0.9885, Max Cover: 0.9885\n",
      "Max F1 with margin 5: 0.974\n",
      "Max F1 with margin 10: 0.9806\n",
      "Max F1 with margin 20: 0.9806\n",
      "Evaluating CUSUM model with cusum_mode = correct and conditional = True\n",
      "Threshold range: (0.0, 1066.7144775390625)\n"
     ]
    },
    {
     "name": "stderr",
     "output_type": "stream",
     "text": [
      "100%|██████████| 300/300 [01:26<00:00,  3.45it/s]\n",
      "  0%|          | 0/300 [00:00<?, ?it/s]"
     ]
    },
    {
     "name": "stdout",
     "output_type": "stream",
     "text": [
      "Results for best threshold = 0.0\n",
      "AUDC: 0.0, Time to FA: 94.4733, DD: 0.87, F1: 0.9839, Cover: 0.9885, Max Cover: 0.9885\n",
      "Max F1 with margin 5: 0.974\n",
      "Max F1 with margin 10: 0.9806\n",
      "Max F1 with margin 20: 0.9806\n",
      "Evaluating CUSUM model with cusum_mode = new_criteria and conditional = False\n",
      "Threshold range: (3.4608256816864014, 25021.0703125)\n"
     ]
    },
    {
     "name": "stderr",
     "output_type": "stream",
     "text": [
      "100%|██████████| 300/300 [01:33<00:00,  3.21it/s]\n",
      "  0%|          | 0/300 [00:00<?, ?it/s]"
     ]
    },
    {
     "name": "stdout",
     "output_type": "stream",
     "text": [
      "Results for best threshold = 87.13176042020919\n",
      "AUDC: 0.0, Time to FA: 94.0633, DD: 0.6733, F1: 0.9873, Cover: 0.9915, Max Cover: 0.9915\n",
      "Max F1 with margin 5: 0.9808\n",
      "Max F1 with margin 10: 0.9808\n",
      "Max F1 with margin 20: 0.9808\n",
      "Evaluating CUSUM model with cusum_mode = new_criteria and conditional = True\n",
      "Threshold range: (3.4586973190307617, 1129.7864990234375)\n"
     ]
    },
    {
     "name": "stderr",
     "output_type": "stream",
     "text": [
      "100%|██████████| 300/300 [01:34<00:00,  3.17it/s]"
     ]
    },
    {
     "name": "stdout",
     "output_type": "stream",
     "text": [
      "Results for best threshold = 82.56533222134695\n",
      "AUDC: 0.0, Time to FA: 94.07, DD: 0.7, F1: 0.984, Cover: 0.991, Max Cover: 0.991\n",
      "Max F1 with margin 5: 0.9775\n",
      "Max F1 with margin 10: 0.9775\n",
      "Max F1 with margin 20: 0.9808\n"
     ]
    },
    {
     "name": "stderr",
     "output_type": "stream",
     "text": [
      "\n"
     ]
    }
   ],
   "source": [
    "res = all_cusums_evaluation_pipeline(\n",
    "    ens_bce,\n",
    "    threshold_number=300,\n",
    "    test_dataloader=test_dataloader,\n",
    "    margin_list=[5, 10, 20],\n",
    "    device=\"cpu\",\n",
    "    verbose=True,\n",
    "    min_th_quant=0.1,\n",
    "    max_th_quant=0.9,\n",
    ")"
   ]
  },
  {
   "cell_type": "markdown",
   "metadata": {},
   "source": [
    "## Evaluate distances"
   ]
  },
  {
   "cell_type": "code",
   "execution_count": 5,
   "metadata": {},
   "outputs": [
    {
     "name": "stderr",
     "output_type": "stream",
     "text": [
      " 40%|████      | 2/5 [00:00<00:00, 15.72it/s]"
     ]
    },
    {
     "name": "stdout",
     "output_type": "stream",
     "text": [
      "Collectting model's outputs\n"
     ]
    },
    {
     "name": "stderr",
     "output_type": "stream",
     "text": [
      "100%|██████████| 5/5 [00:00<00:00, 17.02it/s]\n",
      "  0%|          | 0/100 [00:00<?, ?it/s]"
     ]
    },
    {
     "name": "stdout",
     "output_type": "stream",
     "text": [
      "window_size = 2, anchor_window_type = start\n"
     ]
    },
    {
     "name": "stderr",
     "output_type": "stream",
     "text": [
      "100%|██████████| 100/100 [03:14<00:00,  1.95s/it]\n",
      "  0%|          | 0/100 [00:00<?, ?it/s]"
     ]
    },
    {
     "name": "stdout",
     "output_type": "stream",
     "text": [
      "Results for best threshold = 0.4040404040404041\n",
      "AUDC: 0.0, Time to FA: 96.2, DD: 3.22, F1: 0.9673, Cover: 0.9743, Max Cover: 0.9743\n",
      "Max F1 with margin 5: 0.9502\n",
      "Max F1 with margin 10: 0.9673\n",
      "Max F1 with margin 20: 0.9673\n",
      "window_size = 2, anchor_window_type = prev\n"
     ]
    },
    {
     "name": "stderr",
     "output_type": "stream",
     "text": [
      "100%|██████████| 100/100 [03:13<00:00,  1.94s/it]\n",
      "  0%|          | 0/100 [00:00<?, ?it/s]"
     ]
    },
    {
     "name": "stdout",
     "output_type": "stream",
     "text": [
      "Results for best threshold = 0.30303030303030304\n",
      "AUDC: 0.0, Time to FA: 95.2, DD: 2.1033, F1: 0.974, Cover: 0.9758, Max Cover: 0.9758\n",
      "Max F1 with margin 5: 0.9673\n",
      "Max F1 with margin 10: 0.974\n",
      "Max F1 with margin 20: 0.974\n",
      "window_size = 4, anchor_window_type = start\n"
     ]
    },
    {
     "name": "stderr",
     "output_type": "stream",
     "text": [
      "100%|██████████| 100/100 [03:22<00:00,  2.03s/it]\n",
      "  0%|          | 0/100 [00:00<?, ?it/s]"
     ]
    },
    {
     "name": "stdout",
     "output_type": "stream",
     "text": [
      "Results for best threshold = 0.2828282828282829\n",
      "AUDC: 0.0, Time to FA: 95.87, DD: 3.2933, F1: 0.9707, Cover: 0.9696, Max Cover: 0.9696\n",
      "Max F1 with margin 5: 0.9502\n",
      "Max F1 with margin 10: 0.9707\n",
      "Max F1 with margin 20: 0.9707\n",
      "window_size = 4, anchor_window_type = prev\n"
     ]
    },
    {
     "name": "stderr",
     "output_type": "stream",
     "text": [
      "100%|██████████| 100/100 [03:24<00:00,  2.05s/it]\n",
      "  0%|          | 0/100 [00:00<?, ?it/s]"
     ]
    },
    {
     "name": "stdout",
     "output_type": "stream",
     "text": [
      "Results for best threshold = 0.26262626262626265\n",
      "AUDC: 0.0, Time to FA: 95.87, DD: 2.8233, F1: 0.9707, Cover: 0.9765, Max Cover: 0.9765\n",
      "Max F1 with margin 5: 0.9605\n",
      "Max F1 with margin 10: 0.9707\n",
      "Max F1 with margin 20: 0.9707\n",
      "window_size = 8, anchor_window_type = start\n"
     ]
    },
    {
     "name": "stderr",
     "output_type": "stream",
     "text": [
      "100%|██████████| 100/100 [03:49<00:00,  2.30s/it]\n",
      "  0%|          | 0/100 [00:00<?, ?it/s]"
     ]
    },
    {
     "name": "stdout",
     "output_type": "stream",
     "text": [
      "Results for best threshold = 0.17171717171717174\n",
      "AUDC: 0.0, Time to FA: 95.5467, DD: 3.1967, F1: 0.974, Cover: 0.9684, Max Cover: 0.9684\n",
      "Max F1 with margin 5: 0.9396\n",
      "Max F1 with margin 10: 0.9707\n",
      "Max F1 with margin 20: 0.9707\n",
      "window_size = 8, anchor_window_type = prev\n"
     ]
    },
    {
     "name": "stderr",
     "output_type": "stream",
     "text": [
      "100%|██████████| 100/100 [03:52<00:00,  2.33s/it]\n",
      "  0%|          | 0/100 [00:00<?, ?it/s]"
     ]
    },
    {
     "name": "stdout",
     "output_type": "stream",
     "text": [
      "Results for best threshold = 0.16161616161616163\n",
      "AUDC: 0.0, Time to FA: 95.5467, DD: 3.1233, F1: 0.974, Cover: 0.9694, Max Cover: 0.9694\n",
      "Max F1 with margin 5: 0.9396\n",
      "Max F1 with margin 10: 0.9707\n",
      "Max F1 with margin 20: 0.9707\n",
      "window_size = 16, anchor_window_type = start\n"
     ]
    },
    {
     "name": "stderr",
     "output_type": "stream",
     "text": [
      "100%|██████████| 100/100 [04:31<00:00,  2.72s/it]\n",
      "  0%|          | 0/100 [00:00<?, ?it/s]"
     ]
    },
    {
     "name": "stdout",
     "output_type": "stream",
     "text": [
      "Results for best threshold = 0.08080808080808081\n",
      "AUDC: 0.0, Time to FA: 95.1933, DD: 3.4, F1: 0.9709, Cover: 0.9657, Max Cover: 0.9657\n",
      "Max F1 with margin 5: 0.9034\n",
      "Max F1 with margin 10: 0.9539\n",
      "Max F1 with margin 20: 0.9675\n",
      "window_size = 16, anchor_window_type = prev\n"
     ]
    },
    {
     "name": "stderr",
     "output_type": "stream",
     "text": [
      "100%|██████████| 100/100 [04:36<00:00,  2.77s/it]"
     ]
    },
    {
     "name": "stdout",
     "output_type": "stream",
     "text": [
      "Results for best threshold = 0.08080808080808081\n",
      "AUDC: 0.0, Time to FA: 94.9933, DD: 3.2333, F1: 0.9742, Cover: 0.967, Max Cover: 0.967\n",
      "Max F1 with margin 5: 0.9034\n",
      "Max F1 with margin 10: 0.9539\n",
      "Max F1 with margin 20: 0.9675\n"
     ]
    },
    {
     "name": "stderr",
     "output_type": "stream",
     "text": [
      "\n"
     ]
    }
   ],
   "source": [
    "res = all_distances_evaluation_pipeline(\n",
    "    ens_bce,\n",
    "    test_dataloader,\n",
    "    distance=\"wasserstein_1d\",\n",
    "    device=\"cpu\",\n",
    "    verbose=True,\n",
    "    window_size_list=[2, 4, 8, 16],\n",
    "    margin_list=[5, 10, 20],\n",
    "    anchor_window_type_list=[\"start\", \"prev\"],\n",
    "    threshold_list=np.linspace(0, 1, 100),\n",
    ")"
   ]
  },
  {
   "cell_type": "markdown",
   "metadata": {},
   "source": [
    "# HAR BCE"
   ]
  },
  {
   "cell_type": "code",
   "execution_count": 3,
   "metadata": {},
   "outputs": [],
   "source": [
    "model_type = \"seq2seq\"\n",
    "\n",
    "experiments_name = \"human_activity\"\n",
    "\n",
    "# read config file\n",
    "path_to_config = \"configs/\" + experiments_name + \"_\" + model_type + \".yaml\"\n",
    "\n",
    "with open(path_to_config, \"r\") as f:\n",
    "    args_config = yaml.safe_load(f.read())\n",
    "\n",
    "args_config[\"experiments_name\"] = experiments_name\n",
    "args_config[\"model_type\"] = model_type\n",
    "\n",
    "args_config[\"loss_type\"] = \"bce\"\n",
    "args_config[\"num_workers\"] = 2\n",
    "\n",
    "# prepare datasets\n",
    "train_dataset, test_dataset = CPDDatasets(experiments_name).get_dataset_()\n",
    "test_dataloader = DataLoader(\n",
    "    test_dataset, batch_size=args_config[\"learning\"][\"batch_size\"], shuffle=False\n",
    ")"
   ]
  },
  {
   "cell_type": "code",
   "execution_count": 4,
   "metadata": {},
   "outputs": [],
   "source": [
    "# load the models\n",
    "path_to_models_folder = \"saved_models/bce/human_activity/full_sample\"\n",
    "\n",
    "ens_bce = EnsembleCPDModel(args_config, n_models=10, boot_sample_size=None)\n",
    "ens_bce.load_models_list(path_to_models_folder)"
   ]
  },
  {
   "cell_type": "code",
   "execution_count": 5,
   "metadata": {},
   "outputs": [
    {
     "name": "stderr",
     "output_type": "stream",
     "text": [
      " 10%|▉         | 2/21 [00:00<00:01, 13.80it/s]"
     ]
    },
    {
     "name": "stdout",
     "output_type": "stream",
     "text": [
      "Collectting model's outputs\n"
     ]
    },
    {
     "name": "stderr",
     "output_type": "stream",
     "text": [
      "100%|██████████| 21/21 [00:01<00:00, 19.87it/s]\n",
      "  0%|          | 0/100 [00:00<?, ?it/s]"
     ]
    },
    {
     "name": "stdout",
     "output_type": "stream",
     "text": [
      "window_size = 1, anchor_window_type = start\n"
     ]
    },
    {
     "name": "stderr",
     "output_type": "stream",
     "text": [
      "100%|██████████| 100/100 [02:33<00:00,  1.54s/it]\n",
      "  0%|          | 0/100 [00:00<?, ?it/s]"
     ]
    },
    {
     "name": "stdout",
     "output_type": "stream",
     "text": [
      "Results for best threshold = 0.43434343434343436\n",
      "AUDC: 0.0, Time to FA: 11.1945, DD: 1.0823, F1: 0.9745, Cover: 0.9144, Max Cover: 0.9144\n",
      "Max F1 with margin 1: 0.9636\n",
      "Max F1 with margin 2: 0.9682\n",
      "Max F1 with margin 4: 0.9718\n",
      "window_size = 1, anchor_window_type = prev\n"
     ]
    },
    {
     "name": "stderr",
     "output_type": "stream",
     "text": [
      "100%|██████████| 100/100 [02:33<00:00,  1.53s/it]\n",
      "  0%|          | 0/100 [00:00<?, ?it/s]"
     ]
    },
    {
     "name": "stdout",
     "output_type": "stream",
     "text": [
      "Results for best threshold = 0.38383838383838387\n",
      "AUDC: 0.0, Time to FA: 11.3508, DD: 1.1765, F1: 0.9718, Cover: 0.9174, Max Cover: 0.9174\n",
      "Max F1 with margin 1: 0.9668\n",
      "Max F1 with margin 2: 0.97\n",
      "Max F1 with margin 4: 0.9709\n",
      "window_size = 2, anchor_window_type = start\n"
     ]
    },
    {
     "name": "stderr",
     "output_type": "stream",
     "text": [
      "100%|██████████| 100/100 [02:30<00:00,  1.51s/it]\n",
      "  0%|          | 0/100 [00:00<?, ?it/s]"
     ]
    },
    {
     "name": "stdout",
     "output_type": "stream",
     "text": [
      "Results for best threshold = 0.33333333333333337\n",
      "AUDC: 0.0, Time to FA: 11.2184, DD: 1.1376, F1: 0.9758, Cover: 0.9101, Max Cover: 0.9101\n",
      "Max F1 with margin 1: 0.9317\n",
      "Max F1 with margin 2: 0.9691\n",
      "Max F1 with margin 4: 0.9709\n",
      "window_size = 2, anchor_window_type = prev\n"
     ]
    },
    {
     "name": "stderr",
     "output_type": "stream",
     "text": [
      "100%|██████████| 100/100 [02:30<00:00,  1.51s/it]\n",
      "  0%|          | 0/100 [00:00<?, ?it/s]"
     ]
    },
    {
     "name": "stdout",
     "output_type": "stream",
     "text": [
      "Results for best threshold = 0.25252525252525254\n",
      "AUDC: 0.0, Time to FA: 11.1526, DD: 1.098, F1: 0.975, Cover: 0.9114, Max Cover: 0.9114\n",
      "Max F1 with margin 1: 0.9444\n",
      "Max F1 with margin 2: 0.9682\n",
      "Max F1 with margin 4: 0.9718\n",
      "window_size = 3, anchor_window_type = start\n"
     ]
    },
    {
     "name": "stderr",
     "output_type": "stream",
     "text": [
      "100%|██████████| 100/100 [02:26<00:00,  1.46s/it]\n",
      "  0%|          | 0/100 [00:00<?, ?it/s]"
     ]
    },
    {
     "name": "stdout",
     "output_type": "stream",
     "text": [
      "Results for best threshold = 0.2828282828282829\n",
      "AUDC: 0.0, Time to FA: 11.2139, DD: 1.2536, F1: 0.9736, Cover: 0.902, Max Cover: 0.902\n",
      "Max F1 with margin 1: 0.8843\n",
      "Max F1 with margin 2: 0.9515\n",
      "Max F1 with margin 4: 0.9673\n",
      "window_size = 3, anchor_window_type = prev\n"
     ]
    },
    {
     "name": "stderr",
     "output_type": "stream",
     "text": [
      "100%|██████████| 100/100 [02:26<00:00,  1.47s/it]"
     ]
    },
    {
     "name": "stdout",
     "output_type": "stream",
     "text": [
      "Results for best threshold = 0.23232323232323235\n",
      "AUDC: 0.0, Time to FA: 11.2393, DD: 1.2027, F1: 0.9754, Cover: 0.9074, Max Cover: 0.9074\n",
      "Max F1 with margin 1: 0.9159\n",
      "Max F1 with margin 2: 0.9552\n",
      "Max F1 with margin 4: 0.97\n"
     ]
    },
    {
     "name": "stderr",
     "output_type": "stream",
     "text": [
      "\n"
     ]
    }
   ],
   "source": [
    "res = all_distances_evaluation_pipeline(\n",
    "    ens_bce,\n",
    "    test_dataloader,\n",
    "    distance=\"wasserstein_1d\",\n",
    "    device=\"cpu\",\n",
    "    verbose=True,\n",
    "    window_size_list=[1, 2, 3],\n",
    "    margin_list=[1, 2, 4],\n",
    "    anchor_window_type_list=[\"start\", \"prev\"],\n",
    "    threshold_list=np.linspace(0, 1, 100),\n",
    ")"
   ]
  },
  {
   "cell_type": "markdown",
   "metadata": {},
   "source": [
    "# Bayes BCE HAR"
   ]
  },
  {
   "cell_type": "code",
   "execution_count": 3,
   "metadata": {},
   "outputs": [],
   "source": [
    "import torch\n",
    "from src.ensembles.bayes_models import BaseBayesRnn, BayesCPDModel\n",
    "from src.metrics.evaluation_pipelines import all_distances_evaluation_pipeline\n",
    "from src.utils.fix_seeds import fix_seeds\n",
    "\n",
    "SEED = 42\n",
    "fix_seeds(SEED)"
   ]
  },
  {
   "cell_type": "code",
   "execution_count": 4,
   "metadata": {},
   "outputs": [],
   "source": [
    "model_type = \"seq2seq\"\n",
    "\n",
    "experiments_name = \"human_activity\"\n",
    "\n",
    "path_to_config = \"configs/\" + experiments_name + \"_\" + model_type + \".yaml\"\n",
    "\n",
    "with open(path_to_config, \"r\") as f:\n",
    "    args_config = yaml.safe_load(f.read())\n",
    "\n",
    "args_config[\"experiments_name\"] = experiments_name\n",
    "args_config[\"model_type\"] = model_type\n",
    "\n",
    "args_config[\"loss_type\"] = \"bce\"\n",
    "args_config[\"num_workers\"] = 2"
   ]
  },
  {
   "cell_type": "code",
   "execution_count": 5,
   "metadata": {},
   "outputs": [],
   "source": [
    "base_model = BaseBayesRnn(\n",
    "    input_size=args_config[\"model\"][\"input_size\"],\n",
    "    hidden_dim=args_config[\"model\"][\"hidden_dim\"],\n",
    "    n_layers=args_config[\"model\"][\"n_layers\"],\n",
    "    drop_prob=args_config[\"model\"][\"drop_prob\"],\n",
    "    prior_mu=0.0,\n",
    "    prior_sigma=0.1,\n",
    ")"
   ]
  },
  {
   "cell_type": "code",
   "execution_count": 6,
   "metadata": {},
   "outputs": [],
   "source": [
    "train_dataset, test_dataset = CPDDatasets(experiments_name).get_dataset_()\n",
    "test_dataloader = DataLoader(\n",
    "    test_dataset, batch_size=args_config[\"learning\"][\"batch_size\"], shuffle=False\n",
    ")"
   ]
  },
  {
   "cell_type": "code",
   "execution_count": 7,
   "metadata": {},
   "outputs": [
    {
     "data": {
      "text/plain": [
       "<All keys matched successfully>"
      ]
     },
     "execution_count": 7,
     "metadata": {},
     "output_type": "execute_result"
    }
   ],
   "source": [
    "bayes_bce = BayesCPDModel(\n",
    "    args_config, base_model, train_dataset, test_dataset, n_samples=10\n",
    ")\n",
    "\n",
    "path = \"saved_models/total_bayes/human_activity/total_bayes_coeff_0.2_prior_mu_0.0_prior_sigma_0.1.pth\"\n",
    "bayes_bce.model.load_state_dict(torch.load(path))"
   ]
  },
  {
   "cell_type": "code",
   "execution_count": 9,
   "metadata": {},
   "outputs": [
    {
     "name": "stderr",
     "output_type": "stream",
     "text": [
      "  5%|▍         | 1/21 [00:00<00:03,  5.34it/s]"
     ]
    },
    {
     "name": "stdout",
     "output_type": "stream",
     "text": [
      "Collectting model's outputs\n"
     ]
    },
    {
     "name": "stderr",
     "output_type": "stream",
     "text": [
      "100%|██████████| 21/21 [00:03<00:00,  6.40it/s]\n"
     ]
    },
    {
     "name": "stdout",
     "output_type": "stream",
     "text": [
      "TN: 0, FP: 1313, FN: 0, TP: 24, DELAY:0.0, FP_DELAY:0.0, COVER: 0.6667726252804786\n",
      "TN: 0, FP: 1313, FN: 0, TP: 24, DELAY:0.0, FP_DELAY:0.0, COVER: 0.6667726252804786\n",
      "TN: 0, FP: 1313, FN: 0, TP: 24, DELAY:0.0, FP_DELAY:0.0, COVER: 0.6667726252804786\n",
      "TN: 0, FP: 1313, FN: 0, TP: 24, DELAY:0.0, FP_DELAY:0.0, COVER: 0.6667726252804786\n",
      "TN: 0, FP: 1313, FN: 0, TP: 24, DELAY:0.0, FP_DELAY:0.0, COVER: 0.6667726252804786\n",
      "TN: 0, FP: 1313, FN: 0, TP: 24, DELAY:0.0, FP_DELAY:0.0, COVER: 0.6667726252804786\n",
      "TN: 0, FP: 1313, FN: 0, TP: 24, DELAY:0.0, FP_DELAY:0.0, COVER: 0.6667726252804786\n",
      "TN: 0, FP: 1313, FN: 0, TP: 24, DELAY:0.0, FP_DELAY:0.0, COVER: 0.6667726252804786\n",
      "TN: 0, FP: 1313, FN: 0, TP: 24, DELAY:0.0, FP_DELAY:0.0, COVER: 0.6667726252804786\n",
      "TN: 0, FP: 1313, FN: 0, TP: 24, DELAY:0.0, FP_DELAY:0.0, COVER: 0.6667726252804786\n",
      "TN: 0, FP: 1313, FN: 0, TP: 24, DELAY:0.0, FP_DELAY:0.0, COVER: 0.6667726252804786\n",
      "TN: 0, FP: 1313, FN: 0, TP: 24, DELAY:0.0, FP_DELAY:0.0, COVER: 0.6667726252804786\n",
      "TN: 0, FP: 1313, FN: 0, TP: 24, DELAY:0.0, FP_DELAY:0.0, COVER: 0.6667726252804786\n",
      "TN: 0, FP: 1313, FN: 0, TP: 24, DELAY:0.0, FP_DELAY:0.0, COVER: 0.6667726252804786\n",
      "TN: 0, FP: 1313, FN: 0, TP: 24, DELAY:0.0, FP_DELAY:0.0, COVER: 0.6667726252804786\n",
      "TN: 0, FP: 1313, FN: 0, TP: 24, DELAY:0.0, FP_DELAY:0.0, COVER: 0.6667726252804786\n",
      "TN: 0, FP: 1313, FN: 0, TP: 24, DELAY:0.0, FP_DELAY:0.0, COVER: 0.6667726252804786\n",
      "TN: 0, FP: 1313, FN: 0, TP: 24, DELAY:0.0, FP_DELAY:0.0, COVER: 0.6667726252804786\n",
      "TN: 0, FP: 1313, FN: 0, TP: 24, DELAY:0.0, FP_DELAY:0.0, COVER: 0.6667726252804786\n",
      "TN: 0, FP: 1313, FN: 0, TP: 24, DELAY:0.0, FP_DELAY:0.0, COVER: 0.6667726252804786\n",
      "TN: 0, FP: 1313, FN: 0, TP: 24, DELAY:0.0, FP_DELAY:0.0, COVER: 0.6667726252804786\n",
      "TN: 0, FP: 1313, FN: 0, TP: 24, DELAY:0.0, FP_DELAY:0.0, COVER: 0.6667726252804786\n",
      "TN: 0, FP: 1313, FN: 0, TP: 24, DELAY:0.0, FP_DELAY:0.0, COVER: 0.6667726252804786\n",
      "TN: 0, FP: 1313, FN: 0, TP: 24, DELAY:0.0, FP_DELAY:0.0, COVER: 0.6667726252804786\n",
      "TN: 0, FP: 1313, FN: 0, TP: 24, DELAY:0.0, FP_DELAY:0.0, COVER: 0.6667726252804786\n",
      "TN: 0, FP: 1313, FN: 0, TP: 24, DELAY:0.0, FP_DELAY:0.0, COVER: 0.6667726252804786\n",
      "TN: 0, FP: 1313, FN: 0, TP: 24, DELAY:0.0, FP_DELAY:0.0, COVER: 0.6667726252804786\n",
      "TN: 0, FP: 1313, FN: 0, TP: 24, DELAY:0.0, FP_DELAY:0.0, COVER: 0.6667726252804786\n",
      "TN: 0, FP: 1313, FN: 0, TP: 24, DELAY:0.0, FP_DELAY:0.0, COVER: 0.6667726252804786\n",
      "TN: 0, FP: 1313, FN: 0, TP: 24, DELAY:0.0, FP_DELAY:0.0, COVER: 0.6667726252804786\n",
      "TN: 0, FP: 1313, FN: 0, TP: 24, DELAY:0.0, FP_DELAY:0.0, COVER: 0.6667726252804786\n",
      "TN: 0, FP: 1313, FN: 0, TP: 24, DELAY:0.0, FP_DELAY:0.0, COVER: 0.6667726252804786\n",
      "TN: 0, FP: 1313, FN: 0, TP: 24, DELAY:0.0, FP_DELAY:0.0, COVER: 0.6667726252804786\n",
      "TN: 0, FP: 1313, FN: 0, TP: 24, DELAY:0.0, FP_DELAY:0.015706805512309074, COVER: 0.666063977441808\n",
      "TN: 0, FP: 1298, FN: 0, TP: 39, DELAY:0.0, FP_DELAY:0.1780104786157608, COVER: 0.6709601409683006\n",
      "TN: 0, FP: 1184, FN: 0, TP: 153, DELAY:0.0, FP_DELAY:1.1106956005096436, COVER: 0.711648765783062\n",
      "TN: 0, FP: 818, FN: 0, TP: 519, DELAY:0.0, FP_DELAY:3.9139864444732666, COVER: 0.8316538790421955\n",
      "TN: 0, FP: 599, FN: 0, TP: 738, DELAY:0.0014958863612264395, FP_DELAY:5.703066349029541, COVER: 0.8993534568107932\n",
      "TN: 0, FP: 508, FN: 0, TP: 829, DELAY:0.002991772722452879, FP_DELAY:6.612565517425537, COVER: 0.9267744501888585\n",
      "TN: 0, FP: 474, FN: 0, TP: 863, DELAY:0.002991772722452879, FP_DELAY:6.926701545715332, COVER: 0.936689395490012\n",
      "TN: 0, FP: 450, FN: 0, TP: 887, DELAY:0.002991772722452879, FP_DELAY:7.122662544250488, COVER: 0.9434585891867758\n",
      "TN: 1, FP: 410, FN: 0, TP: 926, DELAY:0.007479431573301554, FP_DELAY:7.330590724945068, COVER: 0.95140086464588\n",
      "TN: 15, FP: 368, FN: 0, TP: 954, DELAY:0.010471204295754433, FP_DELAY:7.709050178527832, COVER: 0.9567719589335566\n",
      "TN: 47, FP: 313, FN: 0, TP: 977, DELAY:0.015706805512309074, FP_DELAY:8.31637954711914, COVER: 0.9603465223705205\n",
      "TN: 95, FP: 236, FN: 0, TP: 1006, DELAY:0.02243829518556595, FP_DELAY:9.18399429321289, COVER: 0.9655090616911072\n",
      "TN: 104, FP: 214, FN: 0, TP: 1019, DELAY:0.0359012708067894, FP_DELAY:9.376214981079102, COVER: 0.967645215137096\n",
      "TN: 118, FP: 183, FN: 0, TP: 1036, DELAY:0.05534779280424118, FP_DELAY:9.694090843200684, COVER: 0.9693734377514345\n",
      "TN: 129, FP: 158, FN: 2, TP: 1048, DELAY:0.07329843193292618, FP_DELAY:9.94166088104248, COVER: 0.9699385707479239\n",
      "TN: 140, FP: 132, FN: 3, TP: 1062, DELAY:0.11368735879659653, FP_DELAY:10.167539596557617, COVER: 0.9698245145474528\n",
      "TN: 147, FP: 110, FN: 6, TP: 1074, DELAY:0.1518324613571167, FP_DELAY:10.36125659942627, COVER: 0.9694320990362202\n",
      "TN: 150, FP: 94, FN: 7, TP: 1086, DELAY:0.19222138822078705, FP_DELAY:10.428571701049805, COVER: 0.968134006527444\n",
      "TN: 154, FP: 79, FN: 8, TP: 1096, DELAY:0.24457740783691406, FP_DELAY:10.525055885314941, COVER: 0.9666091320035707\n",
      "TN: 158, FP: 63, FN: 9, TP: 1107, DELAY:0.3313388228416443, FP_DELAY:10.623785018920898, COVER: 0.9621695342590889\n",
      "TN: 160, FP: 53, FN: 10, TP: 1114, DELAY:0.40688106417655945, FP_DELAY:10.709797859191895, COVER: 0.9572395356501522\n",
      "TN: 164, FP: 43, FN: 13, TP: 1117, DELAY:0.49663424491882324, FP_DELAY:10.830217361450195, COVER: 0.9529181124921351\n",
      "TN: 164, FP: 42, FN: 13, TP: 1118, DELAY:0.588631272315979, FP_DELAY:10.84068775177002, COVER: 0.9452273985332117\n",
      "TN: 166, FP: 34, FN: 13, TP: 1124, DELAY:0.6694090962409973, FP_DELAY:10.882573127746582, COVER: 0.9398456939089993\n",
      "TN: 167, FP: 32, FN: 16, TP: 1122, DELAY:0.7898280024528503, FP_DELAY:10.902767181396484, COVER: 0.9307337547593475\n",
      "TN: 168, FP: 28, FN: 19, TP: 1122, DELAY:0.9050112366676331, FP_DELAY:10.951383590698242, COVER: 0.9235776297751579\n",
      "TN: 168, FP: 25, FN: 23, TP: 1121, DELAY:1.0089752674102783, FP_DELAY:11.025429725646973, COVER: 0.9175117620829149\n",
      "TN: 169, FP: 21, FN: 26, TP: 1121, DELAY:1.1166791915893555, FP_DELAY:11.078534126281738, COVER: 0.9113689896792316\n",
      "TN: 169, FP: 20, FN: 30, TP: 1118, DELAY:1.2438294887542725, FP_DELAY:11.126402854919434, COVER: 0.9047852437066078\n",
      "TN: 169, FP: 19, FN: 32, TP: 1117, DELAY:1.3492894172668457, FP_DELAY:11.14884090423584, COVER: 0.8981278059071802\n",
      "TN: 169, FP: 18, FN: 34, TP: 1116, DELAY:1.4465221166610718, FP_DELAY:11.166043281555176, COVER: 0.8922709874207007\n",
      "TN: 169, FP: 15, FN: 44, TP: 1109, DELAY:1.562453269958496, FP_DELAY:11.210920333862305, COVER: 0.8855879662439722\n",
      "TN: 169, FP: 14, FN: 49, TP: 1105, DELAY:1.6768885850906372, FP_DELAY:11.258788108825684, COVER: 0.8799085482903788\n",
      "TN: 170, FP: 12, FN: 56, TP: 1099, DELAY:1.8107703924179077, FP_DELAY:11.34181022644043, COVER: 0.8732699395200697\n",
      "TN: 170, FP: 11, FN: 66, TP: 1090, DELAY:1.9468960762023926, FP_DELAY:11.42483139038086, COVER: 0.866095410273657\n",
      "TN: 171, FP: 9, FN: 74, TP: 1083, DELAY:2.091996908187866, FP_DELAY:11.507853507995605, COVER: 0.859124151097805\n",
      "TN: 171, FP: 9, FN: 80, TP: 1077, DELAY:2.2595362663269043, FP_DELAY:11.546746253967285, COVER: 0.8492551143322156\n",
      "TN: 171, FP: 7, FN: 89, TP: 1070, DELAY:2.4188482761383057, FP_DELAY:11.60359001159668, COVER: 0.8393981960079728\n",
      "TN: 171, FP: 6, FN: 104, TP: 1056, DELAY:2.6058340072631836, FP_DELAY:11.740463256835938, COVER: 0.8294144795435752\n",
      "TN: 172, FP: 5, FN: 115, TP: 1045, DELAY:2.7965595722198486, FP_DELAY:11.803291320800781, COVER: 0.8182459674424555\n",
      "TN: 172, FP: 5, FN: 130, TP: 1030, DELAY:3.013463020324707, FP_DELAY:11.904263496398926, COVER: 0.8075097018015424\n",
      "TN: 172, FP: 5, FN: 148, TP: 1012, DELAY:3.189229726791382, FP_DELAY:11.995512008666992, COVER: 0.797717040924882\n",
      "TN: 172, FP: 5, FN: 174, TP: 986, DELAY:3.3994016647338867, FP_DELAY:12.169034957885742, COVER: 0.7883684239527068\n",
      "TN: 172, FP: 4, FN: 197, TP: 964, DELAY:3.6372475624084473, FP_DELAY:12.331338882446289, COVER: 0.7773094044674274\n",
      "TN: 172, FP: 3, FN: 216, TP: 946, DELAY:3.8780853748321533, FP_DELAY:12.498878479003906, COVER: 0.765779047176805\n",
      "TN: 172, FP: 3, FN: 237, TP: 925, DELAY:4.151832580566406, FP_DELAY:12.61929702758789, COVER: 0.7519585016340827\n",
      "TN: 172, FP: 3, FN: 267, TP: 895, DELAY:4.469708442687988, FP_DELAY:12.829468727111816, COVER: 0.7363645318254315\n",
      "TN: 172, FP: 2, FN: 311, TP: 852, DELAY:4.850411415100098, FP_DELAY:13.137621879577637, COVER: 0.7201633425000179\n",
      "TN: 172, FP: 2, FN: 360, TP: 803, DELAY:5.258040428161621, FP_DELAY:13.454001426696777, COVER: 0.7042031253891203\n",
      "TN: 172, FP: 2, FN: 425, TP: 738, DELAY:5.740463733673096, FP_DELAY:13.940912246704102, COVER: 0.6905558255607405\n",
      "TN: 172, FP: 1, FN: 496, TP: 668, DELAY:6.234106063842773, FP_DELAY:14.52056884765625, COVER: 0.6797018801151795\n",
      "TN: 172, FP: 0, FN: 619, TP: 546, DELAY:6.884068965911865, FP_DELAY:15.536274909973145, COVER: 0.6725559492678737\n",
      "TN: 172, FP: 0, FN: 775, TP: 390, DELAY:7.554225921630859, FP_DELAY:16.804039001464844, COVER: 0.6671543046510033\n",
      "TN: 172, FP: 0, FN: 916, TP: 249, DELAY:8.077037811279297, FP_DELAY:17.933433532714844, COVER: 0.6639751048223401\n",
      "TN: 172, FP: 0, FN: 1038, TP: 127, DELAY:8.504861831665039, FP_DELAY:18.92670249938965, COVER: 0.6630631955756144\n",
      "TN: 172, FP: 0, FN: 1136, TP: 29, DELAY:8.819746017456055, FP_DELAY:19.738967895507812, COVER: 0.666045489948329\n",
      "TN: 172, FP: 0, FN: 1158, TP: 7, DELAY:8.88107681274414, FP_DELAY:19.931936264038086, COVER: 0.6662004116655389\n",
      "TN: 172, FP: 0, FN: 1165, TP: 0, DELAY:8.902767181396484, FP_DELAY:20.0, COVER: 0.6667726252804786\n",
      "TN: 172, FP: 0, FN: 1165, TP: 0, DELAY:8.902767181396484, FP_DELAY:20.0, COVER: 0.6667726252804786\n",
      "TN: 172, FP: 0, FN: 1165, TP: 0, DELAY:8.902767181396484, FP_DELAY:20.0, COVER: 0.6667726252804786\n",
      "TN: 172, FP: 0, FN: 1165, TP: 0, DELAY:8.902767181396484, FP_DELAY:20.0, COVER: 0.6667726252804786\n",
      "TN: 172, FP: 0, FN: 1165, TP: 0, DELAY:8.902767181396484, FP_DELAY:20.0, COVER: 0.6667726252804786\n",
      "TN: 172, FP: 0, FN: 1165, TP: 0, DELAY:8.902767181396484, FP_DELAY:20.0, COVER: 0.6667726252804786\n",
      "TN: 172, FP: 0, FN: 1165, TP: 0, DELAY:8.902767181396484, FP_DELAY:20.0, COVER: 0.6667726252804786\n",
      "TN: 172, FP: 0, FN: 1165, TP: 0, DELAY:8.902767181396484, FP_DELAY:20.0, COVER: 0.6667726252804786\n",
      "TN: 172, FP: 0, FN: 1165, TP: 0, DELAY:8.902767181396484, FP_DELAY:20.0, COVER: 0.6667726252804786\n",
      "TN: 172, FP: 0, FN: 1165, TP: 0, DELAY:8.902767181396484, FP_DELAY:20.0, COVER: 0.6667726252804786\n",
      "TN: 172, FP: 0, FN: 1165, TP: 0, DELAY:8.902767181396484, FP_DELAY:20.0, COVER: 0.6667726252804786\n",
      "TN: 172, FP: 0, FN: 1165, TP: 0, DELAY:8.902767181396484, FP_DELAY:20.0, COVER: 0.6667726252804786\n",
      "AUC: 57.0804\n",
      "Time to FA 10.8826, delay detection 0.6694 for best-F1 threshold: 0.6354\n",
      "TN 166, FP 34, FN 13, TP 1124 for best-F1 threshold: 0.6354\n",
      "Max F1 0.9795: for best-F1 threshold 0.6354\n",
      "COVER 0.9398: for best-F1 threshold 0.6354\n",
      "Max COVER 0.9699: for threshold 0.4125\n",
      "Max F1 with margin 1: 0.9568 for best threshold 0.5126\n",
      "Max F1 with margin 2: 0.9683 for best threshold 0.5875\n",
      "Max F1 with margin 4: 0.9764 for best threshold 0.5875\n"
     ]
    }
   ],
   "source": [
    "threshold_number = 100\n",
    "threshold_list = np.linspace(-5, 5, threshold_number)\n",
    "threshold_list = 1 / (1 + np.exp(-threshold_list))\n",
    "threshold_list = [-0.001] + list(threshold_list) + [1.001]\n",
    "\n",
    "metrics, (max_th_f1_margins_dict, max_f1_margins_dic), _, _ = evaluation_pipeline(\n",
    "    bayes_bce,\n",
    "    test_dataloader,\n",
    "    threshold_list,\n",
    "    device=\"cpu\",\n",
    "    model_type=\"ensemble\",\n",
    "    verbose=True,\n",
    "    margin_list=[1, 2, 4],\n",
    ")"
   ]
  },
  {
   "cell_type": "code",
   "execution_count": 8,
   "metadata": {},
   "outputs": [
    {
     "name": "stderr",
     "output_type": "stream",
     "text": [
      "  5%|▍         | 1/21 [00:00<00:03,  5.60it/s]"
     ]
    },
    {
     "name": "stdout",
     "output_type": "stream",
     "text": [
      "Collectting model's outputs\n"
     ]
    },
    {
     "name": "stderr",
     "output_type": "stream",
     "text": [
      "100%|██████████| 21/21 [00:03<00:00,  6.66it/s]\n",
      "  0%|          | 0/50 [00:00<?, ?it/s]"
     ]
    },
    {
     "name": "stdout",
     "output_type": "stream",
     "text": [
      "window_size = 1, anchor_window_type = start\n"
     ]
    },
    {
     "name": "stderr",
     "output_type": "stream",
     "text": [
      "100%|██████████| 50/50 [01:12<00:00,  1.46s/it]\n",
      "  0%|          | 0/50 [00:00<?, ?it/s]"
     ]
    },
    {
     "name": "stdout",
     "output_type": "stream",
     "text": [
      "Results for best threshold = 0.36734693877551017\n",
      "AUDC: 0.0, Time to FA: 11.2887, DD: 1.5191, F1: 0.9598, Cover: 0.8821, Max Cover: 0.8821\n",
      "Max F1 with margin 1: 0.7508\n",
      "Max F1 with margin 2: 0.9359\n",
      "Max F1 with margin 4: 0.9538\n",
      "window_size = 1, anchor_window_type = prev\n"
     ]
    },
    {
     "name": "stderr",
     "output_type": "stream",
     "text": [
      "100%|██████████| 50/50 [01:11<00:00,  1.44s/it]\n",
      "  0%|          | 0/50 [00:00<?, ?it/s]"
     ]
    },
    {
     "name": "stdout",
     "output_type": "stream",
     "text": [
      "Results for best threshold = 0.16326530612244897\n",
      "AUDC: 0.0, Time to FA: 11.2483, DD: 1.086, F1: 0.9727, Cover: 0.9162, Max Cover: 0.9162\n",
      "Max F1 with margin 1: 0.9649\n",
      "Max F1 with margin 2: 0.9708\n",
      "Max F1 with margin 4: 0.9713\n",
      "window_size = 2, anchor_window_type = start\n"
     ]
    },
    {
     "name": "stderr",
     "output_type": "stream",
     "text": [
      "100%|██████████| 50/50 [01:11<00:00,  1.42s/it]\n",
      "  0%|          | 0/50 [00:00<?, ?it/s]"
     ]
    },
    {
     "name": "stdout",
     "output_type": "stream",
     "text": [
      "Results for best threshold = 0.3877551020408163\n",
      "AUDC: 0.0, Time to FA: 11.4884, DD: 2.172, F1: 0.9467, Cover: 0.8376, Max Cover: 0.8376\n",
      "Max F1 with margin 1: 0.1124\n",
      "Max F1 with margin 2: 0.8848\n",
      "Max F1 with margin 4: 0.9367\n",
      "window_size = 2, anchor_window_type = prev\n"
     ]
    },
    {
     "name": "stderr",
     "output_type": "stream",
     "text": [
      "100%|██████████| 50/50 [01:10<00:00,  1.42s/it]\n",
      "  0%|          | 0/50 [00:00<?, ?it/s]"
     ]
    },
    {
     "name": "stdout",
     "output_type": "stream",
     "text": [
      "Results for best threshold = 0.2040816326530612\n",
      "AUDC: 0.0, Time to FA: 11.356, DD: 1.4091, F1: 0.965, Cover: 0.897, Max Cover: 0.897\n",
      "Max F1 with margin 1: 0.8267\n",
      "Max F1 with margin 2: 0.9595\n",
      "Max F1 with margin 4: 0.9622\n",
      "window_size = 3, anchor_window_type = start\n"
     ]
    },
    {
     "name": "stderr",
     "output_type": "stream",
     "text": [
      "100%|██████████| 50/50 [01:09<00:00,  1.39s/it]\n",
      "  0%|          | 0/50 [00:00<?, ?it/s]"
     ]
    },
    {
     "name": "stdout",
     "output_type": "stream",
     "text": [
      "Results for best threshold = 0.3469387755102041\n",
      "AUDC: 0.0, Time to FA: 11.3583, DD: 2.3859, F1: 0.9411, Cover: 0.8179, Max Cover: 0.8179\n",
      "Max F1 with margin 1: 0.0809\n",
      "Max F1 with margin 2: 0.7509\n",
      "Max F1 with margin 4: 0.9262\n",
      "window_size = 3, anchor_window_type = prev\n"
     ]
    },
    {
     "name": "stderr",
     "output_type": "stream",
     "text": [
      "100%|██████████| 50/50 [01:09<00:00,  1.39s/it]"
     ]
    },
    {
     "name": "stdout",
     "output_type": "stream",
     "text": [
      "Results for best threshold = 0.22448979591836732\n",
      "AUDC: 0.0, Time to FA: 11.347, DD: 1.9596, F1: 0.954, Cover: 0.8505, Max Cover: 0.8505\n",
      "Max F1 with margin 1: 0.3064\n",
      "Max F1 with margin 2: 0.9098\n",
      "Max F1 with margin 4: 0.9494\n"
     ]
    },
    {
     "name": "stderr",
     "output_type": "stream",
     "text": [
      "\n"
     ]
    }
   ],
   "source": [
    "res = all_distances_evaluation_pipeline(\n",
    "    bayes_bce,\n",
    "    test_dataloader,\n",
    "    distance=\"wasserstein_1d\",\n",
    "    device=\"cpu\",\n",
    "    verbose=True,\n",
    "    window_size_list=[1, 2, 3],\n",
    "    anchor_window_type_list=[\"start\", \"prev\"],\n",
    "    threshold_list=np.linspace(0, 1, 50),\n",
    ")"
   ]
  }
 ],
 "metadata": {
  "kernelspec": {
   "display_name": "base",
   "language": "python",
   "name": "python3"
  },
  "language_info": {
   "codemirror_mode": {
    "name": "ipython",
    "version": 3
   },
   "file_extension": ".py",
   "mimetype": "text/x-python",
   "name": "python",
   "nbconvert_exporter": "python",
   "pygments_lexer": "ipython3",
   "version": "3.9.16"
  }
 },
 "nbformat": 4,
 "nbformat_minor": 2
}
