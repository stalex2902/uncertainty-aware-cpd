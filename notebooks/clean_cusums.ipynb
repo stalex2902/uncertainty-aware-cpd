{
 "cells": [
  {
   "cell_type": "code",
   "execution_count": 1,
   "metadata": {},
   "outputs": [],
   "source": [
    "import warnings\n",
    "\n",
    "warnings.filterwarnings(\"ignore\")\n",
    "\n",
    "import os\n",
    "import sys\n",
    "\n",
    "dir2 = os.path.abspath(\"\")\n",
    "dir1 = os.path.dirname(dir2)\n",
    "if dir1 not in sys.path:\n",
    "    sys.path.append(dir1)\n",
    "\n",
    "os.chdir(\"..\")"
   ]
  },
  {
   "cell_type": "code",
   "execution_count": 6,
   "metadata": {},
   "outputs": [
    {
     "name": "stdout",
     "output_type": "stream",
     "text": [
      "The autoreload extension is already loaded. To reload it, use:\n",
      "  %reload_ext autoreload\n"
     ]
    }
   ],
   "source": [
    "import numpy as np\n",
    "import yaml\n",
    "from src.datasets.datasets import CPDDatasets\n",
    "from src.ensembles.ensembles import EnsembleCPDModel\n",
    "from src.metrics.evaluation_pipelines import (\n",
    "    all_cusums_evaluation_pipeline,\n",
    "    evaluation_pipeline,\n",
    ")\n",
    "from src.metrics.metrics_utils import (\n",
    "    compute_stds,\n",
    ")\n",
    "from torch.utils.data import DataLoader\n",
    "\n",
    "%load_ext autoreload\n",
    "%autoreload\n",
    "%matplotlib inline"
   ]
  },
  {
   "cell_type": "markdown",
   "metadata": {},
   "source": [
    "# HAR BCE"
   ]
  },
  {
   "cell_type": "code",
   "execution_count": 3,
   "metadata": {},
   "outputs": [],
   "source": [
    "model_type = \"seq2seq\"\n",
    "\n",
    "experiments_name = \"human_activity\"\n",
    "\n",
    "path_to_config = \"configs/\" + experiments_name + \"_\" + model_type + \".yaml\"\n",
    "\n",
    "with open(path_to_config, \"r\") as f:\n",
    "    args_config = yaml.safe_load(f.read())\n",
    "\n",
    "args_config[\"experiments_name\"] = experiments_name\n",
    "args_config[\"model_type\"] = model_type\n",
    "\n",
    "args_config[\"loss_type\"] = \"bce\"\n",
    "args_config[\"num_workers\"] = 2\n",
    "# args_config[\"learning\"][\"gpus\"] = 1\n",
    "\n",
    "# args_config[\"learning\"][\"epochs\"] = 100"
   ]
  },
  {
   "cell_type": "code",
   "execution_count": 4,
   "metadata": {},
   "outputs": [],
   "source": [
    "train_dataset, test_dataset = CPDDatasets(experiments_name).get_dataset_()\n",
    "test_dataloader = DataLoader(\n",
    "    test_dataset, batch_size=args_config[\"learning\"][\"batch_size\"], shuffle=False\n",
    ")"
   ]
  },
  {
   "cell_type": "code",
   "execution_count": 5,
   "metadata": {},
   "outputs": [],
   "source": [
    "# path_to_models_folder = \"saved_models/bce/explosion/sgld_adam\"\n",
    "\n",
    "path_to_models_folder = \"saved_models/bce/human_activity/full_sample\"\n",
    "\n",
    "ens_bce = EnsembleCPDModel(args_config, n_models=10, boot_sample_size=None)\n",
    "ens_bce.load_models_list(path_to_models_folder)"
   ]
  },
  {
   "cell_type": "code",
   "execution_count": 12,
   "metadata": {},
   "outputs": [
    {
     "name": "stderr",
     "output_type": "stream",
     "text": [
      "  0%|          | 0/21 [00:00<?, ?it/s]"
     ]
    },
    {
     "name": "stderr",
     "output_type": "stream",
     "text": [
      "  5%|▍         | 1/21 [00:00<00:02,  9.01it/s]"
     ]
    },
    {
     "name": "stdout",
     "output_type": "stream",
     "text": [
      "Collectting model's outputs\n"
     ]
    },
    {
     "name": "stderr",
     "output_type": "stream",
     "text": [
      "100%|██████████| 21/21 [00:01<00:00, 16.95it/s]\n"
     ]
    },
    {
     "name": "stdout",
     "output_type": "stream",
     "text": [
      "TN: 0, FP: 1313, FN: 0, TP: 24, DELAY:0.0, FP_DELAY:0.0, COVER: 0.6667726252804786\n",
      "TN: 0, FP: 1313, FN: 0, TP: 24, DELAY:0.0, FP_DELAY:0.0, COVER: 0.6667726252804786\n",
      "TN: 0, FP: 1313, FN: 0, TP: 24, DELAY:0.0, FP_DELAY:0.0, COVER: 0.6667726252804786\n",
      "TN: 0, FP: 1313, FN: 0, TP: 24, DELAY:0.0, FP_DELAY:0.0, COVER: 0.6667726252804786\n",
      "TN: 0, FP: 1313, FN: 0, TP: 24, DELAY:0.0, FP_DELAY:0.0, COVER: 0.6667726252804786\n",
      "TN: 0, FP: 1306, FN: 0, TP: 31, DELAY:0.0, FP_DELAY:0.052356019616127014, COVER: 0.6693305908750935\n",
      "TN: 1, FP: 939, FN: 0, TP: 397, DELAY:0.0, FP_DELAY:2.6335079669952393, COVER: 0.7798021087729445\n",
      "TN: 2, FP: 670, FN: 0, TP: 665, DELAY:0.0, FP_DELAY:5.219895362854004, COVER: 0.8735963463658389\n",
      "TN: 6, FP: 582, FN: 0, TP: 749, DELAY:0.0, FP_DELAY:5.987285137176514, COVER: 0.9046518215099233\n",
      "TN: 7, FP: 530, FN: 0, TP: 800, DELAY:0.0, FP_DELAY:6.463724613189697, COVER: 0.918633507070319\n",
      "TN: 11, FP: 489, FN: 0, TP: 837, DELAY:0.0, FP_DELAY:6.753178596496582, COVER: 0.9295027987353394\n",
      "TN: 15, FP: 443, FN: 0, TP: 879, DELAY:0.0, FP_DELAY:6.996260166168213, COVER: 0.9414497479466863\n",
      "TN: 17, FP: 421, FN: 0, TP: 899, DELAY:0.0, FP_DELAY:7.136125564575195, COVER: 0.9450115153292885\n",
      "TN: 17, FP: 404, FN: 0, TP: 916, DELAY:0.0, FP_DELAY:7.225878715515137, COVER: 0.9490206426245608\n",
      "TN: 17, FP: 387, FN: 0, TP: 933, DELAY:0.0, FP_DELAY:7.313388347625732, COVER: 0.9525157331423701\n",
      "TN: 17, FP: 377, FN: 0, TP: 943, DELAY:0.0, FP_DELAY:7.373971462249756, COVER: 0.9542101839794911\n",
      "TN: 19, FP: 362, FN: 0, TP: 956, DELAY:0.0, FP_DELAY:7.459985256195068, COVER: 0.9565713000566471\n",
      "TN: 21, FP: 354, FN: 0, TP: 962, DELAY:0.0, FP_DELAY:7.545250415802002, COVER: 0.9589789910525954\n",
      "TN: 23, FP: 342, FN: 0, TP: 972, DELAY:0.0, FP_DELAY:7.64323091506958, COVER: 0.9619060030105535\n",
      "TN: 32, FP: 323, FN: 0, TP: 982, DELAY:0.0, FP_DELAY:7.814509868621826, COVER: 0.9638337020884516\n",
      "TN: 40, FP: 300, FN: 0, TP: 997, DELAY:0.0, FP_DELAY:7.968586444854736, COVER: 0.9659077288885444\n",
      "TN: 49, FP: 288, FN: 0, TP: 1000, DELAY:0.0, FP_DELAY:8.127898216247559, COVER: 0.9664427675845778\n",
      "TN: 66, FP: 268, FN: 0, TP: 1003, DELAY:0.0, FP_DELAY:8.446521759033203, COVER: 0.9688205637005224\n",
      "TN: 75, FP: 256, FN: 0, TP: 1006, DELAY:0.0007479431806132197, FP_DELAY:8.610321998596191, COVER: 0.9698965214912222\n",
      "TN: 85, FP: 238, FN: 0, TP: 1014, DELAY:0.0007479431806132197, FP_DELAY:8.801047325134277, COVER: 0.9715950430934462\n",
      "TN: 96, FP: 223, FN: 0, TP: 1018, DELAY:0.0007479431806132197, FP_DELAY:8.990276336669922, COVER: 0.9727115263359579\n",
      "TN: 101, FP: 213, FN: 0, TP: 1023, DELAY:0.0014958863612264395, FP_DELAY:9.115931510925293, COVER: 0.9739038291236835\n",
      "TN: 105, FP: 201, FN: 0, TP: 1031, DELAY:0.0022438294254243374, FP_DELAY:9.225878715515137, COVER: 0.9753208775124479\n",
      "TN: 109, FP: 193, FN: 0, TP: 1035, DELAY:0.002991772722452879, FP_DELAY:9.315631866455078, COVER: 0.9760274814295977\n",
      "TN: 116, FP: 182, FN: 0, TP: 1039, DELAY:0.002991772722452879, FP_DELAY:9.483919143676758, COVER: 0.9769598456576358\n",
      "TN: 121, FP: 170, FN: 0, TP: 1046, DELAY:0.002991772722452879, FP_DELAY:9.61780071258545, COVER: 0.9782287223182476\n",
      "TN: 129, FP: 157, FN: 0, TP: 1051, DELAY:0.002991772722452879, FP_DELAY:9.761405944824219, COVER: 0.9792575242941327\n",
      "TN: 134, FP: 146, FN: 0, TP: 1057, DELAY:0.002991772722452879, FP_DELAY:9.885564804077148, COVER: 0.9806041558787038\n",
      "TN: 138, FP: 137, FN: 0, TP: 1062, DELAY:0.002991772722452879, FP_DELAY:9.98578929901123, COVER: 0.9818427141292291\n",
      "TN: 142, FP: 128, FN: 0, TP: 1067, DELAY:0.002991772722452879, FP_DELAY:10.094988822937012, COVER: 0.982949223083999\n",
      "TN: 146, FP: 119, FN: 0, TP: 1072, DELAY:0.003739715786650777, FP_DELAY:10.189229965209961, COVER: 0.9834467655532083\n",
      "TN: 149, FP: 103, FN: 0, TP: 1085, DELAY:0.004487658850848675, FP_DELAY:10.249065399169922, COVER: 0.9844217931913556\n",
      "TN: 152, FP: 89, FN: 0, TP: 1096, DELAY:0.007479431573301554, FP_DELAY:10.323111534118652, COVER: 0.9858172739316192\n",
      "TN: 153, FP: 85, FN: 0, TP: 1099, DELAY:0.00897531770169735, FP_DELAY:10.346297264099121, COVER: 0.9860944721627993\n",
      "TN: 155, FP: 80, FN: 0, TP: 1102, DELAY:0.010471204295754433, FP_DELAY:10.398653984069824, COVER: 0.9868576049827757\n",
      "TN: 156, FP: 75, FN: 0, TP: 1106, DELAY:0.010471204295754433, FP_DELAY:10.443530082702637, COVER: 0.9874363720825247\n",
      "TN: 159, FP: 65, FN: 1, TP: 1112, DELAY:0.011967090889811516, FP_DELAY:10.502617835998535, COVER: 0.9881152189696933\n",
      "TN: 164, FP: 50, FN: 1, TP: 1122, DELAY:0.011967090889811516, FP_DELAY:10.645475387573242, COVER: 0.9896492653583584\n",
      "TN: 164, FP: 49, FN: 1, TP: 1123, DELAY:0.012715033255517483, FP_DELAY:10.661930084228516, COVER: 0.9897157161414321\n",
      "TN: 165, FP: 46, FN: 2, TP: 1124, DELAY:0.0179506354033947, FP_DELAY:10.70231819152832, COVER: 0.9898167286585559\n",
      "TN: 165, FP: 43, FN: 2, TP: 1127, DELAY:0.020942408591508865, FP_DELAY:10.727001190185547, COVER: 0.9903095355642053\n",
      "TN: 166, FP: 41, FN: 3, TP: 1127, DELAY:0.025430066511034966, FP_DELAY:10.765146255493164, COVER: 0.9903224757384541\n",
      "TN: 167, FP: 38, FN: 3, TP: 1129, DELAY:0.034405384212732315, FP_DELAY:10.803291320800781, COVER: 0.9905065728122392\n",
      "TN: 168, FP: 33, FN: 3, TP: 1133, DELAY:0.03964098542928696, FP_DELAY:10.838444709777832, COVER: 0.991353350087685\n",
      "TN: 170, FP: 28, FN: 4, TP: 1135, DELAY:0.044128645211458206, FP_DELAY:10.884817123413086, COVER: 0.9918032607315687\n",
      "TN: 170, FP: 23, FN: 5, TP: 1139, DELAY:0.05011219158768654, FP_DELAY:10.910994529724121, COVER: 0.9927177293798854\n",
      "TN: 171, FP: 16, FN: 6, TP: 1144, DELAY:0.05983545258641243, FP_DELAY:10.95587158203125, COVER: 0.9931129504328289\n",
      "TN: 171, FP: 13, FN: 7, TP: 1146, DELAY:0.06806282699108124, FP_DELAY:10.983545303344727, COVER: 0.993185476113442\n",
      "TN: 171, FP: 11, FN: 7, TP: 1148, DELAY:0.0718025416135788, FP_DELAY:11.012715339660645, COVER: 0.9932729424595413\n",
      "TN: 171, FP: 8, FN: 10, TP: 1148, DELAY:0.0897531807422638, FP_DELAY:11.065071105957031, COVER: 0.9940479274788083\n",
      "TN: 171, FP: 7, FN: 10, TP: 1149, DELAY:0.09498877823352814, FP_DELAY:11.066566467285156, COVER: 0.9938248136662274\n",
      "TN: 171, FP: 7, FN: 11, TP: 1148, DELAY:0.10172026604413986, FP_DELAY:11.071802139282227, COVER: 0.9933865849833033\n",
      "TN: 171, FP: 7, FN: 11, TP: 1148, DELAY:0.11293941736221313, FP_DELAY:11.072550773620605, COVER: 0.9927283450889003\n",
      "TN: 171, FP: 6, FN: 12, TP: 1148, DELAY:0.1331338882446289, FP_DELAY:11.076290130615234, COVER: 0.9921094430026519\n",
      "TN: 171, FP: 6, FN: 14, TP: 1146, DELAY:0.15332834422588348, FP_DELAY:11.106207847595215, COVER: 0.992481589243347\n",
      "TN: 171, FP: 6, FN: 14, TP: 1146, DELAY:0.16230367124080658, FP_DELAY:11.106207847595215, COVER: 0.9917447233190279\n",
      "TN: 171, FP: 6, FN: 15, TP: 1145, DELAY:0.1780104786157608, FP_DELAY:11.106955528259277, COVER: 0.9904165055417745\n",
      "TN: 171, FP: 4, FN: 15, TP: 1147, DELAY:0.19222138822078705, FP_DELAY:11.127898216247559, COVER: 0.9897082063535872\n",
      "TN: 171, FP: 4, FN: 16, TP: 1146, DELAY:0.19895288348197937, FP_DELAY:11.132386207580566, COVER: 0.9893564653081288\n",
      "TN: 171, FP: 3, FN: 16, TP: 1147, DELAY:0.20194464921951294, FP_DELAY:11.144352912902832, COVER: 0.9895210128025193\n",
      "TN: 171, FP: 3, FN: 17, TP: 1146, DELAY:0.2146596908569336, FP_DELAY:11.15931224822998, COVER: 0.9894801050781732\n",
      "TN: 171, FP: 3, FN: 19, TP: 1144, DELAY:0.24682123959064484, FP_DELAY:11.189229965209961, COVER: 0.9891696025042074\n",
      "TN: 171, FP: 2, FN: 19, TP: 1145, DELAY:0.2610321640968323, FP_DELAY:11.201196670532227, COVER: 0.9883346404393464\n",
      "TN: 171, FP: 2, FN: 20, TP: 1144, DELAY:0.2857142984867096, FP_DELAY:11.202692985534668, COVER: 0.9869395610685532\n",
      "TN: 171, FP: 2, FN: 21, TP: 1143, DELAY:0.3021690249443054, FP_DELAY:11.20344066619873, COVER: 0.9855422423524949\n",
      "TN: 171, FP: 2, FN: 21, TP: 1143, DELAY:0.31862378120422363, FP_DELAY:11.20344066619873, COVER: 0.9843651172047265\n",
      "TN: 171, FP: 2, FN: 22, TP: 1142, DELAY:0.33358263969421387, FP_DELAY:11.204188346862793, COVER: 0.9833595523448012\n",
      "TN: 171, FP: 2, FN: 25, TP: 1139, DELAY:0.3560209572315216, FP_DELAY:11.223634719848633, COVER: 0.9824593450560697\n",
      "TN: 171, FP: 2, FN: 29, TP: 1135, DELAY:0.3844427764415741, FP_DELAY:11.245325088500977, COVER: 0.9805681843604023\n",
      "TN: 171, FP: 2, FN: 29, TP: 1135, DELAY:0.411368727684021, FP_DELAY:11.245325088500977, COVER: 0.9782476480280525\n",
      "TN: 171, FP: 2, FN: 29, TP: 1135, DELAY:0.4300673007965088, FP_DELAY:11.246073722839355, COVER: 0.9772038712401216\n",
      "TN: 171, FP: 2, FN: 32, TP: 1132, DELAY:0.4734480082988739, FP_DELAY:11.264023780822754, COVER: 0.974853337910023\n",
      "TN: 171, FP: 2, FN: 33, TP: 1131, DELAY:0.48765894770622253, FP_DELAY:11.278234481811523, COVER: 0.973756524385099\n",
      "TN: 171, FP: 2, FN: 33, TP: 1131, DELAY:0.5093492865562439, FP_DELAY:11.278983116149902, COVER: 0.9720077997606981\n",
      "TN: 172, FP: 1, FN: 33, TP: 1131, DELAY:0.5325355529785156, FP_DELAY:11.290949821472168, COVER: 0.9704071487636536\n",
      "TN: 172, FP: 1, FN: 33, TP: 1131, DELAY:0.5527299642562866, FP_DELAY:11.290949821472168, COVER: 0.968950017566482\n",
      "TN: 172, FP: 1, FN: 36, TP: 1128, DELAY:0.6020942330360413, FP_DELAY:11.321615219116211, COVER: 0.9667291520871081\n",
      "TN: 172, FP: 1, FN: 37, TP: 1127, DELAY:0.625280499458313, FP_DELAY:11.32236385345459, COVER: 0.9649249892218011\n",
      "TN: 172, FP: 1, FN: 39, TP: 1125, DELAY:0.6761406064033508, FP_DELAY:11.326850891113281, COVER: 0.9607854512887686\n",
      "TN: 172, FP: 1, FN: 43, TP: 1121, DELAY:0.7434554696083069, FP_DELAY:11.359760284423828, COVER: 0.9560791957396225\n",
      "TN: 172, FP: 0, FN: 47, TP: 1118, DELAY:0.8107703924179077, FP_DELAY:11.388930320739746, COVER: 0.9512883717842778\n",
      "TN: 172, FP: 0, FN: 50, TP: 1115, DELAY:0.857890784740448, FP_DELAY:11.391921997070312, COVER: 0.9471713544627945\n",
      "TN: 172, FP: 0, FN: 54, TP: 1111, DELAY:0.926701545715332, FP_DELAY:11.408376693725586, COVER: 0.941911431881103\n",
      "TN: 172, FP: 0, FN: 55, TP: 1110, DELAY:0.966342568397522, FP_DELAY:11.411368370056152, COVER: 0.9385027974238908\n",
      "TN: 172, FP: 0, FN: 58, TP: 1107, DELAY:1.047120451927185, FP_DELAY:11.414360046386719, COVER: 0.9311057615054711\n",
      "TN: 172, FP: 0, FN: 64, TP: 1101, DELAY:1.120418906211853, FP_DELAY:11.433807373046875, COVER: 0.9255381183488766\n",
      "TN: 172, FP: 0, FN: 67, TP: 1098, DELAY:1.1884816884994507, FP_DELAY:11.458489418029785, COVER: 0.9212104578895265\n",
      "TN: 172, FP: 0, FN: 70, TP: 1095, DELAY:1.2393418550491333, FP_DELAY:11.466716766357422, COVER: 0.9170568736816167\n",
      "TN: 172, FP: 0, FN: 80, TP: 1085, DELAY:1.3365744352340698, FP_DELAY:11.528796195983887, COVER: 0.9112167721884138\n",
      "TN: 172, FP: 0, FN: 87, TP: 1078, DELAY:1.4255796670913696, FP_DELAY:11.55422592163086, COVER: 0.9036171224820535\n",
      "TN: 172, FP: 0, FN: 89, TP: 1076, DELAY:1.4981300830841064, FP_DELAY:11.560956954956055, COVER: 0.8974887005885285\n",
      "TN: 172, FP: 0, FN: 98, TP: 1067, DELAY:1.5594614744186401, FP_DELAY:11.59835433959961, COVER: 0.8931470448932534\n",
      "TN: 172, FP: 0, FN: 104, TP: 1061, DELAY:1.6245325803756714, FP_DELAY:11.63874340057373, COVER: 0.8892673337879916\n",
      "TN: 172, FP: 0, FN: 107, TP: 1058, DELAY:1.679132342338562, FP_DELAY:11.657442092895508, COVER: 0.8854029227481559\n",
      "TN: 172, FP: 0, FN: 115, TP: 1050, DELAY:1.7479431629180908, FP_DELAY:11.720269203186035, COVER: 0.8825283685637372\n",
      "TN: 172, FP: 0, FN: 119, TP: 1046, DELAY:1.8092745542526245, FP_DELAY:11.725504875183105, COVER: 0.877572565584238\n",
      "TN: 172, FP: 0, FN: 1165, TP: 0, DELAY:8.902767181396484, FP_DELAY:20.0, COVER: 0.6667726252804786\n",
      "AUC: 44.9517\n",
      "Time to FA 11.0666, delay detection 0.095 for best-F1 threshold: 0.6117\n",
      "TN 171, FP 7, FN 10, TP 1149 for best-F1 threshold: 0.6117\n",
      "Max F1 0.9927: for best-F1 threshold 0.6117\n",
      "COVER 0.9938: for best-F1 threshold 0.6117\n",
      "Max COVER 0.994: for threshold 0.5875\n",
      "Max F1 with margin 1: 0.9878 for best threshold 0.5875\n",
      "Max F1 with margin 2: 0.99 for best threshold 0.5875\n",
      "Max F1 with margin 4: 0.9922 for best threshold 0.5628\n"
     ]
    }
   ],
   "source": [
    "threshold_number = 100\n",
    "threshold_list = np.linspace(-5, 5, threshold_number)\n",
    "threshold_list = 1 / (1 + np.exp(-threshold_list))\n",
    "threshold_list = [-0.001] + list(threshold_list) + [1.001]\n",
    "\n",
    "metrics, (max_th_f1_margins_dict, max_f1_margins_dic), _, _ = evaluation_pipeline(\n",
    "    ens_bce,\n",
    "    test_dataloader,\n",
    "    threshold_list,\n",
    "    device=\"cpu\",\n",
    "    model_type=\"ensemble\",\n",
    "    verbose=True,\n",
    "    margin_list=[1, 2, 4],\n",
    ")"
   ]
  },
  {
   "cell_type": "code",
   "execution_count": 16,
   "metadata": {},
   "outputs": [
    {
     "name": "stderr",
     "output_type": "stream",
     "text": [
      "  5%|▍         | 1/21 [00:00<00:02,  9.95it/s]"
     ]
    },
    {
     "name": "stdout",
     "output_type": "stream",
     "text": [
      "Computing model's outputs...\n"
     ]
    },
    {
     "name": "stderr",
     "output_type": "stream",
     "text": [
      "100%|██████████| 21/21 [00:01<00:00, 16.46it/s]\n"
     ]
    },
    {
     "name": "stdout",
     "output_type": "stream",
     "text": [
      "Half-window: 1\n",
      "CP stds list:\n",
      "Mean = 0.03207298448696197, number is 1141\n",
      "Normal stds list:\n",
      "Mean = 0.0164996036672979, number is 1304\n",
      "p_val analytical = 5.307543072958713e-16, p_val permutational = 9.999000099990002e-05\n",
      "Stds are not statistically equal\n",
      "--------------------------------------------------\n",
      "Half-window: 2\n",
      "CP stds list:\n",
      "Mean = 0.026167749766199982, number is 1141\n",
      "Normal stds list:\n",
      "Mean = 0.01637909608475911, number is 1268\n",
      "p_val analytical = 3.2219743337247323e-07, p_val permutational = 9.999000099990002e-05\n",
      "Stds are not statistically equal\n",
      "--------------------------------------------------\n",
      "Half-window: 3\n",
      "CP stds list:\n",
      "Mean = 0.023172813579505416, number is 1141\n",
      "Normal stds list:\n",
      "Mean = 0.016361490972081408, number is 1224\n",
      "p_val analytical = 0.0004631365179694354, p_val permutational = 0.0004999500049995\n",
      "Stds are not statistically equal\n",
      "--------------------------------------------------\n",
      "Half-window: 4\n",
      "CP stds list:\n",
      "Mean = 0.02135552823568852, number is 1141\n",
      "Normal stds list:\n",
      "Mean = 0.016414368928879347, number is 1173\n",
      "p_val analytical = 0.012483140829057653, p_val permutational = 0.012398760123987601\n",
      "Stds are not statistically equal\n",
      "--------------------------------------------------\n"
     ]
    }
   ],
   "source": [
    "compute_stds(\n",
    "    ens_bce, test_dataloader, half_windows_list=[1, 2, 3, 4], verbose=True, device=\"cpu\"\n",
    ");"
   ]
  },
  {
   "cell_type": "code",
   "execution_count": null,
   "metadata": {},
   "outputs": [],
   "source": [
    "res = all_cusums_evaluation_pipeline(\n",
    "    threshold_number=50,\n",
    "    test_dataloader=test_dataloader,\n",
    "    margin_list=[1, 2, 4],\n",
    "    args_config=args_config,\n",
    "    n_models=10,\n",
    "    save_path=path_to_models_folder,\n",
    "    # var_coeff=1.0,\n",
    "    device=\"cpu\",\n",
    "    verbose=True,\n",
    "    write_metrics_filename=None,\n",
    "    min_th_quant=0.1,\n",
    "    max_th_quant=0.9,\n",
    ")"
   ]
  },
  {
   "cell_type": "code",
   "execution_count": null,
   "metadata": {},
   "outputs": [],
   "source": []
  },
  {
   "cell_type": "code",
   "execution_count": null,
   "metadata": {},
   "outputs": [],
   "source": []
  },
  {
   "cell_type": "code",
   "execution_count": null,
   "metadata": {},
   "outputs": [],
   "source": []
  },
  {
   "cell_type": "code",
   "execution_count": null,
   "metadata": {},
   "outputs": [],
   "source": []
  },
  {
   "cell_type": "code",
   "execution_count": 26,
   "metadata": {},
   "outputs": [],
   "source": [
    "normal_sigma, cp_sigma, half_window = args_config[\"cusum\"].values()\n",
    "\n",
    "global_sigma = normal_sigma\n",
    "lambda_null = 1.0 / cp_sigma**2\n",
    "lambda_inf = 1.0 / normal_sigma**2"
   ]
  },
  {
   "cell_type": "code",
   "execution_count": 38,
   "metadata": {},
   "outputs": [
    {
     "name": "stderr",
     "output_type": "stream",
     "text": [
      " 10%|▉         | 2/21 [00:00<00:01, 14.46it/s]"
     ]
    },
    {
     "name": "stdout",
     "output_type": "stream",
     "text": [
      "Collectting model's outputs\n"
     ]
    },
    {
     "name": "stderr",
     "output_type": "stream",
     "text": [
      "100%|██████████| 21/21 [00:01<00:00, 18.54it/s]\n"
     ]
    }
   ],
   "source": [
    "test_out_bank, test_uncertainties_bank, test_labels_bank = (\n",
    "    collect_model_predictions_on_set(\n",
    "        ens_bce, test_dataloader, model_type=\"ensemble\", device=\"cpu\"\n",
    "    )\n",
    ")\n",
    "\n",
    "out_dataset = OutputDataset(test_out_bank, test_uncertainties_bank, test_labels_bank)\n",
    "out_dataloader = DataLoader(\n",
    "    out_dataset, batch_size=128, shuffle=True\n",
    ")  # batch size does not matter"
   ]
  },
  {
   "cell_type": "code",
   "execution_count": 37,
   "metadata": {},
   "outputs": [
    {
     "data": {
      "text/plain": [
       "(0.0, 90.84622192382812)"
      ]
     },
     "execution_count": 37,
     "metadata": {},
     "output_type": "execute_result"
    }
   ],
   "source": [
    "test_cusum_model = CusumEnsembleCPDModel(\n",
    "    args=args_config,\n",
    "    n_models=10,\n",
    "    global_sigma=global_sigma,\n",
    "    boot_sample_size=None,\n",
    "    train_anomaly_num=None,\n",
    "    cusum_threshold=0.0,\n",
    "    cusum_mode=\"old\",\n",
    "    conditional=True,\n",
    "    lambda_null=lambda_null,\n",
    "    lambda_inf=lambda_inf,\n",
    "    half_wnd=half_window,\n",
    "    var_coeff=1.0,\n",
    ")\n",
    "\n",
    "(out_series_batch, out_series_std_batch), _ = next(iter(out_dataloader))\n",
    "\n",
    "min_th, max_th = estimate_threshold_range(\n",
    "    model=test_cusum_model,\n",
    "    out_series_batch=out_series_batch,\n",
    "    out_series_std_batch=out_series_std_batch,\n",
    "    quant_min=0.1,\n",
    "    quant_max=0.9,\n",
    ")\n",
    "\n",
    "min_th, max_th"
   ]
  },
  {
   "cell_type": "code",
   "execution_count": null,
   "metadata": {},
   "outputs": [],
   "source": []
  },
  {
   "cell_type": "code",
   "execution_count": null,
   "metadata": {},
   "outputs": [],
   "source": []
  },
  {
   "cell_type": "code",
   "execution_count": null,
   "metadata": {},
   "outputs": [],
   "source": []
  }
 ],
 "metadata": {
  "kernelspec": {
   "display_name": "base",
   "language": "python",
   "name": "python3"
  },
  "language_info": {
   "codemirror_mode": {
    "name": "ipython",
    "version": 3
   },
   "file_extension": ".py",
   "mimetype": "text/x-python",
   "name": "python",
   "nbconvert_exporter": "python",
   "pygments_lexer": "ipython3",
   "version": "3.9.16"
  }
 },
 "nbformat": 4,
 "nbformat_minor": 2
}
