{
 "cells": [
  {
   "cell_type": "code",
   "execution_count": 1,
   "metadata": {},
   "outputs": [],
   "source": [
    "import warnings\n",
    "\n",
    "warnings.filterwarnings(\"ignore\")\n",
    "\n",
    "import os\n",
    "import sys\n",
    "\n",
    "dir2 = os.path.abspath(\"\")\n",
    "dir1 = os.path.dirname(dir2)\n",
    "if dir1 not in sys.path:\n",
    "    sys.path.append(dir1)\n",
    "\n",
    "os.chdir(\"..\")"
   ]
  },
  {
   "cell_type": "code",
   "execution_count": 2,
   "metadata": {},
   "outputs": [
    {
     "name": "stderr",
     "output_type": "stream",
     "text": [
      "comet_ml is installed but `COMET_API_KEY` is not set.\n"
     ]
    }
   ],
   "source": [
    "import numpy as np\n",
    "import yaml\n",
    "from src.datasets.datasets import CPDDatasets\n",
    "from src.ensembles.ensembles import EnsembleCPDModel\n",
    "from src.metrics.evaluation_pipelines import (\n",
    "    all_distances_evaluation_pipeline,\n",
    "    evaluation_pipeline,\n",
    ")\n",
    "from torch.utils.data import DataLoader\n",
    "\n",
    "%load_ext autoreload\n",
    "%autoreload\n",
    "%matplotlib inline"
   ]
  },
  {
   "cell_type": "code",
   "execution_count": 3,
   "metadata": {},
   "outputs": [],
   "source": [
    "model_type = \"tscp\"\n",
    "\n",
    "experiments_name = \"yahoo\"\n",
    "\n",
    "path_to_config = \"configs/\" + experiments_name + \"_\" + model_type + \".yaml\"\n",
    "\n",
    "with open(path_to_config, \"r\") as f:\n",
    "    args_config = yaml.safe_load(f.read())\n",
    "\n",
    "args_config[\"experiments_name\"] = experiments_name\n",
    "args_config[\"model_type\"] = model_type\n",
    "\n",
    "# args_config[\"loss_type\"] = \"bce\"\n",
    "args_config[\"num_workers\"] = 2\n",
    "\n",
    "train_dataset, test_dataset = CPDDatasets(experiments_name).get_dataset_()\n",
    "test_dataloader = DataLoader(\n",
    "    test_dataset, batch_size=args_config[\"learning\"][\"batch_size\"], shuffle=False\n",
    ")"
   ]
  },
  {
   "cell_type": "code",
   "execution_count": 4,
   "metadata": {},
   "outputs": [],
   "source": [
    "path_to_models_folder = \"saved_models/tscp/yahoo/window_75\"\n",
    "\n",
    "ens_tscp = EnsembleCPDModel(args_config, n_models=10, boot_sample_size=None)\n",
    "ens_tscp.load_models_list(path_to_models_folder)"
   ]
  },
  {
   "cell_type": "code",
   "execution_count": 5,
   "metadata": {},
   "outputs": [
    {
     "name": "stderr",
     "output_type": "stream",
     "text": [
      "  0%|          | 0/4 [00:00<?, ?it/s]"
     ]
    },
    {
     "name": "stdout",
     "output_type": "stream",
     "text": [
      "Collectting model's outputs\n"
     ]
    },
    {
     "name": "stderr",
     "output_type": "stream",
     "text": [
      "100%|██████████| 4/4 [02:02<00:00, 30.56s/it]\n"
     ]
    },
    {
     "name": "stdout",
     "output_type": "stream",
     "text": [
      "TN: 0, FP: 333, FN: 0, TP: 87, DELAY:0.0, FP_DELAY:0.0, COVER: 0.7731123055089744\n",
      "TN: 0, FP: 305, FN: 0, TP: 115, DELAY:1.0285714864730835, FP_DELAY:26.05476188659668, COVER: 0.7870532274883837\n",
      "TN: 0, FP: 300, FN: 0, TP: 120, DELAY:1.3142857551574707, FP_DELAY:28.071428298950195, COVER: 0.7887876382094462\n",
      "TN: 0, FP: 299, FN: 0, TP: 121, DELAY:1.3714286088943481, FP_DELAY:39.68095397949219, COVER: 0.7928574998632489\n",
      "TN: 3, FP: 279, FN: 0, TP: 138, DELAY:1.8690476417541504, FP_DELAY:52.13809585571289, COVER: 0.8076953512663554\n",
      "TN: 3, FP: 265, FN: 0, TP: 152, DELAY:2.116666555404663, FP_DELAY:61.50714111328125, COVER: 0.819886131409621\n",
      "TN: 3, FP: 256, FN: 0, TP: 161, DELAY:2.509523868560791, FP_DELAY:64.44523620605469, COVER: 0.8233058362071887\n",
      "TN: 3, FP: 254, FN: 0, TP: 163, DELAY:2.873809576034546, FP_DELAY:67.18333435058594, COVER: 0.8265146494571243\n",
      "TN: 3, FP: 252, FN: 0, TP: 165, DELAY:3.549999952316284, FP_DELAY:69.53095245361328, COVER: 0.828508999091584\n",
      "TN: 3, FP: 252, FN: 0, TP: 165, DELAY:3.92380952835083, FP_DELAY:71.41666412353516, COVER: 0.8268467078633494\n",
      "TN: 3, FP: 251, FN: 0, TP: 166, DELAY:4.090476036071777, FP_DELAY:72.05952453613281, COVER: 0.8267617241487571\n",
      "TN: 3, FP: 240, FN: 0, TP: 177, DELAY:4.795238018035889, FP_DELAY:79.50714111328125, COVER: 0.8305570575171891\n",
      "TN: 3, FP: 235, FN: 0, TP: 182, DELAY:5.261904716491699, FP_DELAY:83.72142791748047, COVER: 0.8360012566850001\n",
      "TN: 3, FP: 231, FN: 0, TP: 186, DELAY:5.545238018035889, FP_DELAY:85.38809204101562, COVER: 0.835912380243658\n",
      "TN: 3, FP: 230, FN: 0, TP: 187, DELAY:5.642857074737549, FP_DELAY:89.27143096923828, COVER: 0.8348897415308454\n",
      "TN: 3, FP: 227, FN: 0, TP: 190, DELAY:7.25, FP_DELAY:97.36428833007812, COVER: 0.8332470310136256\n",
      "TN: 3, FP: 227, FN: 1, TP: 189, DELAY:8.788095474243164, FP_DELAY:106.54285430908203, COVER: 0.8327229774203591\n",
      "TN: 3, FP: 223, FN: 1, TP: 193, DELAY:9.34761905670166, FP_DELAY:109.63333129882812, COVER: 0.8340101783114565\n",
      "TN: 3, FP: 221, FN: 1, TP: 195, DELAY:10.569047927856445, FP_DELAY:115.71428680419922, COVER: 0.8383066242515061\n",
      "TN: 17, FP: 203, FN: 1, TP: 199, DELAY:11.023809432983398, FP_DELAY:131.45713806152344, COVER: 0.8491859962263358\n",
      "TN: 17, FP: 200, FN: 1, TP: 202, DELAY:11.333333015441895, FP_DELAY:133.4642791748047, COVER: 0.8513627947509547\n",
      "TN: 17, FP: 198, FN: 2, TP: 203, DELAY:12.352380752563477, FP_DELAY:139.8428497314453, COVER: 0.8611030730880666\n",
      "TN: 17, FP: 182, FN: 2, TP: 219, DELAY:15.509523391723633, FP_DELAY:144.471435546875, COVER: 0.8597088600286767\n",
      "TN: 17, FP: 181, FN: 2, TP: 220, DELAY:16.516666412353516, FP_DELAY:148.0238037109375, COVER: 0.8580926909101321\n",
      "TN: 17, FP: 180, FN: 4, TP: 219, DELAY:20.678571701049805, FP_DELAY:157.4119110107422, COVER: 0.8594630770822305\n",
      "TN: 17, FP: 178, FN: 5, TP: 220, DELAY:22.94761848449707, FP_DELAY:162.19761657714844, COVER: 0.8543363534566514\n",
      "TN: 17, FP: 167, FN: 5, TP: 231, DELAY:25.602380752563477, FP_DELAY:167.53810119628906, COVER: 0.85947605531682\n",
      "TN: 17, FP: 140, FN: 5, TP: 258, DELAY:35.83333206176758, FP_DELAY:174.79286193847656, COVER: 0.8566159724920007\n",
      "TN: 17, FP: 139, FN: 7, TP: 257, DELAY:39.659523010253906, FP_DELAY:178.43809509277344, COVER: 0.8487171212432424\n",
      "TN: 17, FP: 136, FN: 7, TP: 260, DELAY:40.70952224731445, FP_DELAY:181.5500030517578, COVER: 0.8489361008155865\n",
      "TN: 17, FP: 128, FN: 22, TP: 253, DELAY:64.08333587646484, FP_DELAY:211.8238067626953, COVER: 0.8518289853388342\n",
      "TN: 17, FP: 113, FN: 22, TP: 268, DELAY:65.16190338134766, FP_DELAY:216.87857055664062, COVER: 0.8508632979736307\n",
      "TN: 17, FP: 113, FN: 22, TP: 268, DELAY:66.17857360839844, FP_DELAY:218.56666564941406, COVER: 0.8509026727872906\n",
      "TN: 17, FP: 109, FN: 23, TP: 271, DELAY:72.39047241210938, FP_DELAY:222.9499969482422, COVER: 0.8439488697538937\n",
      "TN: 17, FP: 104, FN: 24, TP: 275, DELAY:76.3404769897461, FP_DELAY:226.33094787597656, COVER: 0.8420761454568695\n",
      "TN: 17, FP: 100, FN: 25, TP: 278, DELAY:97.40238189697266, FP_DELAY:237.16905212402344, COVER: 0.8217579570897935\n",
      "TN: 20, FP: 68, FN: 26, TP: 306, DELAY:101.51190185546875, FP_DELAY:255.89761352539062, COVER: 0.8421393205140659\n",
      "TN: 36, FP: 48, FN: 32, TP: 304, DELAY:115.30952453613281, FP_DELAY:282.3666687011719, COVER: 0.8452686444835262\n",
      "TN: 36, FP: 47, FN: 46, TP: 291, DELAY:129.39761352539062, FP_DELAY:300.26190185546875, COVER: 0.8388218898028448\n",
      "TN: 38, FP: 39, FN: 59, TP: 284, DELAY:142.29762268066406, FP_DELAY:328.1714172363281, COVER: 0.8429174377213166\n",
      "TN: 38, FP: 35, FN: 63, TP: 284, DELAY:156.0500030517578, FP_DELAY:336.78570556640625, COVER: 0.8379084934790052\n",
      "TN: 38, FP: 34, FN: 63, TP: 285, DELAY:159.10000610351562, FP_DELAY:337.5714416503906, COVER: 0.8369988710563881\n",
      "TN: 38, FP: 27, FN: 70, TP: 285, DELAY:164.49761962890625, FP_DELAY:346.8833312988281, COVER: 0.8379499994408962\n",
      "TN: 38, FP: 27, FN: 71, TP: 284, DELAY:167.06666564941406, FP_DELAY:348.9309387207031, COVER: 0.8370792307538724\n",
      "TN: 43, FP: 14, FN: 92, TP: 271, DELAY:202.14999389648438, FP_DELAY:392.6642761230469, COVER: 0.8309250410191356\n",
      "TN: 43, FP: 14, FN: 93, TP: 270, DELAY:204.3047637939453, FP_DELAY:394.702392578125, COVER: 0.8279884531357823\n",
      "TN: 43, FP: 11, FN: 93, TP: 273, DELAY:208.51190185546875, FP_DELAY:396.009521484375, COVER: 0.8249827647113992\n",
      "TN: 43, FP: 11, FN: 93, TP: 273, DELAY:218.89999389648438, FP_DELAY:397.22381591796875, COVER: 0.8196133192057354\n",
      "TN: 43, FP: 11, FN: 102, TP: 264, DELAY:225.44761657714844, FP_DELAY:406.0904846191406, COVER: 0.8132590426802765\n",
      "TN: 43, FP: 10, FN: 102, TP: 265, DELAY:237.92381286621094, FP_DELAY:406.8738098144531, COVER: 0.8070065555606548\n",
      "TN: 43, FP: 10, FN: 113, TP: 254, DELAY:245.98095703125, FP_DELAY:426.9356994628906, COVER: 0.8118428489434388\n",
      "TN: 43, FP: 5, FN: 119, TP: 253, DELAY:252.1809539794922, FP_DELAY:440.7119140625, COVER: 0.8185015245909241\n",
      "TN: 43, FP: 5, FN: 132, TP: 240, DELAY:282.1047668457031, FP_DELAY:457.6809387207031, COVER: 0.8035036265037188\n",
      "TN: 43, FP: 5, FN: 132, TP: 240, DELAY:282.80950927734375, FP_DELAY:457.75238037109375, COVER: 0.8026619322514947\n",
      "TN: 43, FP: 5, FN: 132, TP: 240, DELAY:284.6023864746094, FP_DELAY:457.8595275878906, COVER: 0.8014456933228709\n",
      "TN: 43, FP: 5, FN: 137, TP: 235, DELAY:302.5928649902344, FP_DELAY:467.1452331542969, COVER: 0.7947088972770392\n",
      "TN: 43, FP: 0, FN: 154, TP: 223, DELAY:329.6785583496094, FP_DELAY:494.01904296875, COVER: 0.7834451910378224\n",
      "TN: 43, FP: 0, FN: 154, TP: 223, DELAY:330.9261779785156, FP_DELAY:494.01904296875, COVER: 0.7822329505562345\n",
      "TN: 43, FP: 0, FN: 161, TP: 216, DELAY:340.8143005371094, FP_DELAY:505.5881042480469, COVER: 0.785820883578445\n",
      "TN: 43, FP: 0, FN: 173, TP: 204, DELAY:356.99285888671875, FP_DELAY:522.778564453125, COVER: 0.7793485439168937\n",
      "TN: 43, FP: 0, FN: 174, TP: 203, DELAY:359.6714172363281, FP_DELAY:524.8047485351562, COVER: 0.7791594720754499\n",
      "TN: 43, FP: 0, FN: 188, TP: 189, DELAY:371.22857666015625, FP_DELAY:545.7714233398438, COVER: 0.7857026805456121\n",
      "TN: 43, FP: 0, FN: 188, TP: 189, DELAY:371.6309509277344, FP_DELAY:545.7714233398438, COVER: 0.7853808363293551\n",
      "TN: 43, FP: 0, FN: 193, TP: 184, DELAY:380.49761962890625, FP_DELAY:555.1405029296875, COVER: 0.7847916464989092\n",
      "TN: 43, FP: 0, FN: 193, TP: 184, DELAY:381.2928466796875, FP_DELAY:555.1405029296875, COVER: 0.7842574703476327\n",
      "TN: 43, FP: 0, FN: 195, TP: 182, DELAY:387.4666748046875, FP_DELAY:558.69287109375, COVER: 0.780806669008456\n",
      "TN: 43, FP: 0, FN: 206, TP: 171, DELAY:394.6023864746094, FP_DELAY:576.3142700195312, COVER: 0.7794967818027352\n",
      "TN: 43, FP: 0, FN: 206, TP: 171, DELAY:395.6452331542969, FP_DELAY:576.3142700195312, COVER: 0.7785160461964986\n",
      "TN: 43, FP: 0, FN: 218, TP: 159, DELAY:406.8166809082031, FP_DELAY:598.4404907226562, COVER: 0.7863379963620193\n",
      "TN: 43, FP: 0, FN: 218, TP: 159, DELAY:407.20477294921875, FP_DELAY:598.4404907226562, COVER: 0.786137581661428\n",
      "TN: 43, FP: 0, FN: 218, TP: 159, DELAY:407.54522705078125, FP_DELAY:598.4404907226562, COVER: 0.7859528996452539\n",
      "TN: 43, FP: 0, FN: 218, TP: 159, DELAY:414.8952331542969, FP_DELAY:598.4404907226562, COVER: 0.7756530034670012\n",
      "TN: 43, FP: 0, FN: 231, TP: 146, DELAY:424.48333740234375, FP_DELAY:620.3285522460938, COVER: 0.7782645691570865\n",
      "TN: 43, FP: 0, FN: 236, TP: 141, DELAY:427.9237976074219, FP_DELAY:630.009521484375, COVER: 0.7793002201246741\n",
      "TN: 43, FP: 0, FN: 236, TP: 141, DELAY:430.2880859375, FP_DELAY:630.009521484375, COVER: 0.7766803113184652\n",
      "TN: 43, FP: 0, FN: 236, TP: 141, DELAY:430.6142883300781, FP_DELAY:630.009521484375, COVER: 0.7763057870761759\n",
      "TN: 43, FP: 0, FN: 244, TP: 133, DELAY:441.6881103515625, FP_DELAY:645.566650390625, COVER: 0.7803723753238789\n",
      "TN: 43, FP: 0, FN: 254, TP: 123, DELAY:453.1119079589844, FP_DELAY:664.6524047851562, COVER: 0.7806179603012603\n",
      "TN: 43, FP: 0, FN: 261, TP: 116, DELAY:464.24285888671875, FP_DELAY:676.7642822265625, COVER: 0.7787683235903055\n",
      "TN: 43, FP: 0, FN: 261, TP: 116, DELAY:464.27142333984375, FP_DELAY:676.7642822265625, COVER: 0.7787407207866306\n",
      "TN: 43, FP: 0, FN: 261, TP: 116, DELAY:464.3333435058594, FP_DELAY:676.7642822265625, COVER: 0.7786469916846221\n",
      "TN: 43, FP: 0, FN: 261, TP: 116, DELAY:464.47857666015625, FP_DELAY:676.7642822265625, COVER: 0.7784007137693325\n",
      "TN: 43, FP: 0, FN: 261, TP: 116, DELAY:464.8476257324219, FP_DELAY:676.7642822265625, COVER: 0.7778427484174649\n",
      "TN: 43, FP: 0, FN: 261, TP: 116, DELAY:465.1023864746094, FP_DELAY:676.7642822265625, COVER: 0.7776027311200044\n",
      "TN: 43, FP: 0, FN: 262, TP: 115, DELAY:465.23095703125, FP_DELAY:677.5047607421875, COVER: 0.777416596068025\n",
      "TN: 43, FP: 0, FN: 262, TP: 115, DELAY:465.27142333984375, FP_DELAY:677.5047607421875, COVER: 0.7773430231419227\n",
      "TN: 43, FP: 0, FN: 264, TP: 113, DELAY:467.7547607421875, FP_DELAY:680.8333129882812, COVER: 0.7774561809704909\n",
      "TN: 43, FP: 0, FN: 276, TP: 101, DELAY:483.04998779296875, FP_DELAY:703.1666870117188, COVER: 0.7828843458259109\n",
      "TN: 43, FP: 0, FN: 276, TP: 101, DELAY:483.54522705078125, FP_DELAY:703.1666870117188, COVER: 0.7824394361103446\n",
      "TN: 43, FP: 0, FN: 276, TP: 101, DELAY:483.6285705566406, FP_DELAY:703.1666870117188, COVER: 0.7823027675389012\n",
      "TN: 43, FP: 0, FN: 276, TP: 101, DELAY:483.6285705566406, FP_DELAY:703.1666870117188, COVER: 0.7823027675389012\n",
      "TN: 43, FP: 0, FN: 286, TP: 91, DELAY:497.8666687011719, FP_DELAY:718.9285888671875, COVER: 0.7782520856520728\n",
      "TN: 43, FP: 0, FN: 286, TP: 91, DELAY:497.8666687011719, FP_DELAY:718.9285888671875, COVER: 0.7782520856520728\n",
      "TN: 43, FP: 0, FN: 286, TP: 91, DELAY:497.9237976074219, FP_DELAY:718.9285888671875, COVER: 0.7783018820670067\n",
      "TN: 43, FP: 0, FN: 286, TP: 91, DELAY:498.1737976074219, FP_DELAY:718.9285888671875, COVER: 0.7778655359842414\n",
      "TN: 43, FP: 0, FN: 296, TP: 81, DELAY:503.7261962890625, FP_DELAY:729.7619018554688, COVER: 0.7725555540638723\n",
      "TN: 43, FP: 0, FN: 296, TP: 81, DELAY:503.7261962890625, FP_DELAY:729.7619018554688, COVER: 0.7725555540638723\n",
      "TN: 43, FP: 0, FN: 296, TP: 81, DELAY:503.8262023925781, FP_DELAY:729.7619018554688, COVER: 0.7723620081342639\n",
      "TN: 43, FP: 0, FN: 296, TP: 81, DELAY:503.8262023925781, FP_DELAY:729.7619018554688, COVER: 0.7723620081342639\n",
      "TN: 43, FP: 0, FN: 296, TP: 81, DELAY:503.8285827636719, FP_DELAY:729.7619018554688, COVER: 0.7723592103053791\n",
      "TN: 43, FP: 0, FN: 296, TP: 81, DELAY:503.8619079589844, FP_DELAY:729.7619018554688, COVER: 0.7723062206419641\n",
      "TN: 43, FP: 0, FN: 377, TP: 0, DELAY:578.376220703125, FP_DELAY:851.0, COVER: 0.7731123055089744\n",
      "AUC: 218834.325\n",
      "Time to FA 282.3667, delay detection 115.3095 for best-F1 threshold: 0.2036\n",
      "TN 36, FP 48, FN 32, TP 304 for best-F1 threshold: 0.2036\n",
      "Max F1 0.8837: for best-F1 threshold 0.2036\n",
      "COVER 0.8453: for best-F1 threshold 0.2036\n",
      "Max COVER 0.8611: for threshold 0.0483\n",
      "Max F1 with margin 50: 0.7307 for best threshold 0.0483\n",
      "Max F1 with margin 100: 0.8077 for best threshold 0.0776\n",
      "Max F1 with margin 200: 0.8759 for best threshold 0.0644\n"
     ]
    }
   ],
   "source": [
    "threshold_number = 100\n",
    "threshold_list = np.linspace(-5, 5, threshold_number)\n",
    "threshold_list = 1 / (1 + np.exp(-threshold_list))\n",
    "threshold_list = [-0.001] + list(threshold_list) + [1.001]\n",
    "\n",
    "metrics, (max_th_f1_margins_dict, max_f1_margins_dic), _, _ = evaluation_pipeline(\n",
    "    ens_tscp,\n",
    "    test_dataloader,\n",
    "    threshold_list,\n",
    "    device=\"cpu\",\n",
    "    model_type=\"ensemble\",\n",
    "    verbose=True,\n",
    "    margin_list=[50, 100, 200],\n",
    ")"
   ]
  },
  {
   "cell_type": "code",
   "execution_count": 6,
   "metadata": {},
   "outputs": [
    {
     "name": "stderr",
     "output_type": "stream",
     "text": [
      "  0%|          | 0/4 [00:00<?, ?it/s]"
     ]
    },
    {
     "name": "stdout",
     "output_type": "stream",
     "text": [
      "Collectting model's outputs\n"
     ]
    },
    {
     "name": "stderr",
     "output_type": "stream",
     "text": [
      "100%|██████████| 4/4 [02:28<00:00, 37.00s/it]\n",
      "  0%|          | 0/50 [00:00<?, ?it/s]"
     ]
    },
    {
     "name": "stdout",
     "output_type": "stream",
     "text": [
      "window_size = 50, anchor_window_type = start\n"
     ]
    },
    {
     "name": "stderr",
     "output_type": "stream",
     "text": [
      "100%|██████████| 50/50 [44:04<00:00, 52.90s/it]\n",
      "  0%|          | 0/50 [00:00<?, ?it/s]"
     ]
    },
    {
     "name": "stdout",
     "output_type": "stream",
     "text": [
      "Results for best threshold = 0.12244897959183673\n",
      "AUDC: 0.0, Time to FA: 342.9691, DD: 156.1857, F1: 0.9088, Cover: 0.8485, Max Cover: 0.8485\n",
      "Max F1 with margin 50: 0.382\n",
      "Max F1 with margin 100: 0.8163\n",
      "Max F1 with margin 200: 0.8382\n",
      "window_size = 50, anchor_window_type = prev\n"
     ]
    },
    {
     "name": "stderr",
     "output_type": "stream",
     "text": [
      "100%|██████████| 50/50 [44:32<00:00, 53.46s/it]\n",
      "  0%|          | 0/50 [00:00<?, ?it/s]"
     ]
    },
    {
     "name": "stdout",
     "output_type": "stream",
     "text": [
      "Results for best threshold = 0.1020408163265306\n",
      "AUDC: 0.0, Time to FA: 330.7405, DD: 137.0333, F1: 0.9259, Cover: 0.8611, Max Cover: 0.8611\n",
      "Max F1 with margin 50: 0.4259\n",
      "Max F1 with margin 100: 0.8489\n",
      "Max F1 with margin 200: 0.878\n",
      "window_size = 100, anchor_window_type = start\n"
     ]
    },
    {
     "name": "stderr",
     "output_type": "stream",
     "text": [
      "100%|██████████| 50/50 [1:14:15<00:00, 89.12s/it]\n",
      "  0%|          | 0/50 [00:00<?, ?it/s]"
     ]
    },
    {
     "name": "stdout",
     "output_type": "stream",
     "text": [
      "Results for best threshold = 0.08163265306122448\n",
      "AUDC: 0.0, Time to FA: 338.0929, DD: 167.1572, F1: 0.912, Cover: 0.8324, Max Cover: 0.8324\n",
      "Max F1 with margin 50: 0.2667\n",
      "Max F1 with margin 100: 0.6584\n",
      "Max F1 with margin 200: 0.84\n",
      "window_size = 100, anchor_window_type = prev\n"
     ]
    },
    {
     "name": "stderr",
     "output_type": "stream",
     "text": [
      " 46%|████▌     | 23/50 [34:27<40:25, 89.82s/it] "
     ]
    }
   ],
   "source": [
    "res = all_distances_evaluation_pipeline(\n",
    "    ens_tscp,\n",
    "    test_dataloader,\n",
    "    distance=\"wasserstein_1d\",\n",
    "    device=\"cpu\",\n",
    "    verbose=True,\n",
    "    window_size_list=[50, 100, 200],\n",
    "    margin_list=[50, 100, 200],\n",
    "    anchor_window_type_list=[\"start\", \"prev\"],\n",
    "    threshold_list=np.linspace(0, 1, 50),\n",
    ")"
   ]
  },
  {
   "cell_type": "code",
   "execution_count": 5,
   "metadata": {},
   "outputs": [
    {
     "name": "stderr",
     "output_type": "stream",
     "text": [
      "  0%|          | 0/4 [00:00<?, ?it/s]"
     ]
    },
    {
     "name": "stdout",
     "output_type": "stream",
     "text": [
      "Collectting model's outputs\n"
     ]
    },
    {
     "name": "stderr",
     "output_type": "stream",
     "text": [
      "100%|██████████| 4/4 [02:01<00:00, 30.48s/it]\n",
      "  0%|          | 0/50 [00:00<?, ?it/s]"
     ]
    },
    {
     "name": "stdout",
     "output_type": "stream",
     "text": [
      "window_size = 200, anchor_window_type = start\n"
     ]
    },
    {
     "name": "stderr",
     "output_type": "stream",
     "text": [
      "100%|██████████| 50/50 [2:03:58<00:00, 148.77s/it]  \n",
      "  0%|          | 0/50 [00:00<?, ?it/s]"
     ]
    },
    {
     "name": "stdout",
     "output_type": "stream",
     "text": [
      "Results for best threshold = 0.02040816326530612\n",
      "AUDC: 0.0, Time to FA: 237.4833, DD: 138.1262, F1: 0.9142, Cover: 0.7735, Max Cover: 0.7735\n",
      "Max F1 with margin 50: 0.309\n",
      "Max F1 with margin 100: 0.5889\n",
      "Max F1 with margin 200: 0.6935\n",
      "window_size = 200, anchor_window_type = prev\n"
     ]
    },
    {
     "name": "stderr",
     "output_type": "stream",
     "text": [
      "100%|██████████| 50/50 [2:04:15<00:00, 149.10s/it]  "
     ]
    },
    {
     "name": "stdout",
     "output_type": "stream",
     "text": [
      "Results for best threshold = 0.02040816326530612\n",
      "AUDC: 0.0, Time to FA: 243.2238, DD: 139.7286, F1: 0.9123, Cover: 0.7747, Max Cover: 0.7747\n",
      "Max F1 with margin 50: 0.2996\n",
      "Max F1 with margin 100: 0.5884\n",
      "Max F1 with margin 200: 0.6937\n"
     ]
    },
    {
     "name": "stderr",
     "output_type": "stream",
     "text": [
      "\n"
     ]
    }
   ],
   "source": [
    "res = all_distances_evaluation_pipeline(\n",
    "    ens_tscp,\n",
    "    test_dataloader,\n",
    "    distance=\"wasserstein_1d\",\n",
    "    device=\"cpu\",\n",
    "    verbose=True,\n",
    "    window_size_list=[200],\n",
    "    margin_list=[50, 100, 200],\n",
    "    anchor_window_type_list=[\"start\", \"prev\"],\n",
    "    threshold_list=np.linspace(0, 1, 50),\n",
    ")"
   ]
  },
  {
   "cell_type": "code",
   "execution_count": 5,
   "metadata": {},
   "outputs": [
    {
     "name": "stderr",
     "output_type": "stream",
     "text": [
      "  0%|          | 0/4 [00:00<?, ?it/s]"
     ]
    },
    {
     "name": "stdout",
     "output_type": "stream",
     "text": [
      "Collectting model's outputs\n"
     ]
    },
    {
     "name": "stderr",
     "output_type": "stream",
     "text": [
      "100%|██████████| 4/4 [02:03<00:00, 31.00s/it]\n",
      "  0%|          | 0/50 [00:00<?, ?it/s]"
     ]
    },
    {
     "name": "stdout",
     "output_type": "stream",
     "text": [
      "window_size = 100, anchor_window_type = prev\n"
     ]
    },
    {
     "name": "stderr",
     "output_type": "stream",
     "text": [
      " 76%|███████▌  | 38/50 [56:57<17:59, 89.93s/it] "
     ]
    }
   ],
   "source": [
    "res = all_distances_evaluation_pipeline(\n",
    "    ens_tscp,\n",
    "    test_dataloader,\n",
    "    distance=\"wasserstein_1d\",\n",
    "    device=\"cpu\",\n",
    "    verbose=True,\n",
    "    window_size_list=[100],\n",
    "    margin_list=[50, 100, 200],\n",
    "    anchor_window_type_list=[\"prev\"],\n",
    "    threshold_list=np.linspace(0, 1, 50),\n",
    ")"
   ]
  }
 ],
 "metadata": {
  "kernelspec": {
   "display_name": "base",
   "language": "python",
   "name": "python3"
  },
  "language_info": {
   "codemirror_mode": {
    "name": "ipython",
    "version": 3
   },
   "file_extension": ".py",
   "mimetype": "text/x-python",
   "name": "python",
   "nbconvert_exporter": "python",
   "pygments_lexer": "ipython3",
   "version": "3.9.16"
  }
 },
 "nbformat": 4,
 "nbformat_minor": 2
}
