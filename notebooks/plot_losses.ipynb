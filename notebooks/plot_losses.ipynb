{
 "cells": [
  {
   "cell_type": "code",
   "execution_count": 1,
   "metadata": {},
   "outputs": [],
   "source": [
    "import warnings\n",
    "\n",
    "warnings.filterwarnings(\"ignore\")\n",
    "\n",
    "import os\n",
    "import sys\n",
    "\n",
    "dir2 = os.path.abspath(\"\")\n",
    "dir1 = os.path.dirname(dir2)\n",
    "if dir1 not in sys.path:\n",
    "    sys.path.append(dir1)\n",
    "\n",
    "os.chdir(\"..\")"
   ]
  },
  {
   "cell_type": "code",
   "execution_count": 2,
   "metadata": {},
   "outputs": [
    {
     "name": "stderr",
     "output_type": "stream",
     "text": [
      "comet_ml is installed but `COMET_API_KEY` is not set.\n"
     ]
    }
   ],
   "source": [
    "import matplotlib.pyplot as plt\n",
    "import numpy as np\n",
    "import torch\n",
    "import yaml\n",
    "from pytorch_lightning import Trainer\n",
    "from pytorch_lightning.callbacks.early_stopping import EarlyStopping\n",
    "from pytorch_lightning.loggers import CometLogger\n",
    "from src.datasets.datasets import CPDDatasets\n",
    "\n",
    "# from src.loss.loss import CPDLoss\n",
    "from src.metrics.evaluation_pipelines import evaluation_pipeline\n",
    "from src.models.core_models import BaseRnn\n",
    "from src.models.cpd_models import CPDModel\n",
    "from src.utils.fix_seeds import fix_seeds\n",
    "from torch.utils.data import DataLoader"
   ]
  },
  {
   "cell_type": "markdown",
   "metadata": {},
   "source": [
    "# InDiD HAR"
   ]
  },
  {
   "cell_type": "code",
   "execution_count": 3,
   "metadata": {},
   "outputs": [],
   "source": [
    "model_type = \"seq2seq\"\n",
    "\n",
    "experiments_name = \"human_activity\"\n",
    "\n",
    "path_to_config = \"configs/\" + experiments_name + \"_\" + model_type + \".yaml\"\n",
    "\n",
    "with open(path_to_config, \"r\") as f:\n",
    "    args_config = yaml.safe_load(f.read())\n",
    "\n",
    "args_config[\"experiments_name\"] = experiments_name\n",
    "args_config[\"model_type\"] = model_type\n",
    "args_config[\"num_workers\"] = 2\n",
    "\n",
    "args_config[\"learning\"][\"epochs\"] = 100\n",
    "\n",
    "train_dataset, test_dataset = CPDDatasets(experiments_name).get_dataset_()\n",
    "\n",
    "val_dataloader_shuffle = DataLoader(test_dataset, batch_size=128, shuffle=True)"
   ]
  },
  {
   "cell_type": "code",
   "execution_count": 6,
   "metadata": {},
   "outputs": [
    {
     "data": {
      "text/plain": [
       "CPDModel(\n",
       "  (model): BaseRnn(\n",
       "    (lstm): LSTM(28, 8, batch_first=True, dropout=0.5)\n",
       "    (linear): Linear(in_features=8, out_features=1, bias=True)\n",
       "    (activation): Sigmoid()\n",
       "  )\n",
       "  (loss): CPDLoss()\n",
       ")"
      ]
     },
     "execution_count": 6,
     "metadata": {},
     "output_type": "execute_result"
    }
   ],
   "source": [
    "SEED = 0\n",
    "fix_seeds(SEED)\n",
    "\n",
    "core_model = BaseRnn(\n",
    "    input_size=args_config[\"model\"][\"input_size\"],\n",
    "    hidden_dim=args_config[\"model\"][\"hidden_dim\"],\n",
    "    n_layers=args_config[\"model\"][\"n_layers\"],\n",
    "    drop_prob=args_config[\"model\"][\"drop_prob\"],\n",
    "    layer_norm=args_config[\"model\"][\"layer_norm\"],\n",
    ")\n",
    "\n",
    "indid_model = CPDModel(\n",
    "    loss_type=\"indid\",\n",
    "    args=args_config,\n",
    "    model=core_model,\n",
    "    train_dataset=train_dataset,\n",
    "    test_dataset=test_dataset,\n",
    ")\n",
    "\n",
    "model_name = f\"{experiments_name}_seq2seq_indid_seed_{SEED}\"\n",
    "\n",
    "indid_model"
   ]
  },
  {
   "cell_type": "code",
   "execution_count": 8,
   "metadata": {},
   "outputs": [
    {
     "data": {
      "text/plain": [
       "<All keys matched successfully>"
      ]
     },
     "execution_count": 8,
     "metadata": {},
     "output_type": "execute_result"
    }
   ],
   "source": [
    "indid_model.model.load_state_dict(\n",
    "    torch.load(f\"saved_models/indid/human_activity/{model_name}.pth\")\n",
    ")"
   ]
  },
  {
   "cell_type": "code",
   "execution_count": null,
   "metadata": {},
   "outputs": [],
   "source": [
    "logger = CometLogger(\n",
    "    api_key=\"agnHNC2vEt7tOxnnxT4LzYf7Y\",\n",
    "    workspace=\"stalex2902\",\n",
    "    save_dir=\"logs/indid\",\n",
    "    project_name=\"indid\",\n",
    "    experiment_name=model_name,\n",
    "    display_summary_level=0,\n",
    ")\n",
    "\n",
    "trainer = Trainer(\n",
    "    max_epochs=args_config[\"learning\"][\"epochs\"],\n",
    "    gpus=0,\n",
    "    benchmark=True,\n",
    "    check_val_every_n_epoch=1,\n",
    "    gradient_clip_val=args_config[\"learning\"][\"grad_clip\"],\n",
    "    logger=logger,\n",
    "    callbacks=EarlyStopping(**args_config[\"early_stopping\"]),\n",
    ")\n",
    "\n",
    "trainer.fit(indid_model)\n",
    "\n",
    "torch.save(\n",
    "    indid_model.model.state_dict(),\n",
    "    f\"saved_models/indid/human_activity/{model_name}.pth\",\n",
    ")"
   ]
  },
  {
   "cell_type": "markdown",
   "metadata": {},
   "source": [
    "## Check metrics"
   ]
  },
  {
   "cell_type": "code",
   "execution_count": 14,
   "metadata": {},
   "outputs": [
    {
     "name": "stderr",
     "output_type": "stream",
     "text": [
      "  0%|          | 0/21 [00:00<?, ?it/s]"
     ]
    },
    {
     "name": "stdout",
     "output_type": "stream",
     "text": [
      "Collectting model's outputs\n"
     ]
    },
    {
     "name": "stderr",
     "output_type": "stream",
     "text": [
      "100%|██████████| 21/21 [00:00<00:00, 37.55it/s]\n"
     ]
    },
    {
     "name": "stdout",
     "output_type": "stream",
     "text": [
      "TN: 0, FP: 1313, FN: 0, TP: 24, DELAY:0.0, FP_DELAY:0.0, COVER: 0.6667726252804786\n",
      "TN: 165, FP: 85, FN: 17, TP: 1070, DELAY:0.27225130796432495, FP_DELAY:11.071054458618164, COVER: 0.9891956128479663\n",
      "TN: 166, FP: 80, FN: 18, TP: 1073, DELAY:0.27374720573425293, FP_DELAY:11.11892318725586, COVER: 0.9900229163831539\n",
      "TN: 167, FP: 69, FN: 18, TP: 1083, DELAY:0.27374720573425293, FP_DELAY:11.127150535583496, COVER: 0.9907327190254548\n",
      "TN: 167, FP: 68, FN: 18, TP: 1084, DELAY:0.27374720573425293, FP_DELAY:11.128645896911621, COVER: 0.9908723350813012\n",
      "TN: 167, FP: 67, FN: 18, TP: 1085, DELAY:0.27374720573425293, FP_DELAY:11.133133888244629, COVER: 0.9912369573700073\n",
      "TN: 167, FP: 65, FN: 18, TP: 1087, DELAY:0.27374720573425293, FP_DELAY:11.136125564575195, COVER: 0.9915139429125125\n",
      "TN: 168, FP: 61, FN: 18, TP: 1090, DELAY:0.27374720573425293, FP_DELAY:11.15407657623291, COVER: 0.9923704511512198\n",
      "TN: 168, FP: 60, FN: 19, TP: 1090, DELAY:0.28870606422424316, FP_DELAY:11.17352294921875, COVER: 0.9927230529249135\n",
      "TN: 168, FP: 60, FN: 19, TP: 1090, DELAY:0.28870606422424316, FP_DELAY:11.17352294921875, COVER: 0.9927230529249135\n",
      "TN: 168, FP: 59, FN: 19, TP: 1091, DELAY:0.28870606422424316, FP_DELAY:11.193717002868652, COVER: 0.9932086254950826\n",
      "TN: 168, FP: 59, FN: 19, TP: 1091, DELAY:0.28870606422424316, FP_DELAY:11.193717002868652, COVER: 0.9932086254950826\n",
      "TN: 168, FP: 59, FN: 19, TP: 1091, DELAY:0.28870606422424316, FP_DELAY:11.193717002868652, COVER: 0.9932086254950826\n",
      "TN: 168, FP: 59, FN: 19, TP: 1091, DELAY:0.28870606422424316, FP_DELAY:11.193717002868652, COVER: 0.9932086254950826\n",
      "TN: 168, FP: 58, FN: 19, TP: 1092, DELAY:0.28870606422424316, FP_DELAY:11.204188346862793, COVER: 0.9934760151734671\n",
      "TN: 168, FP: 58, FN: 19, TP: 1092, DELAY:0.28870606422424316, FP_DELAY:11.213912010192871, COVER: 0.9936630009625471\n",
      "TN: 168, FP: 58, FN: 19, TP: 1092, DELAY:0.28870606422424316, FP_DELAY:11.223634719848633, COVER: 0.9938915391492004\n",
      "TN: 168, FP: 58, FN: 19, TP: 1092, DELAY:0.28870606422424316, FP_DELAY:11.233358383178711, COVER: 0.9941092126060177\n",
      "TN: 168, FP: 58, FN: 19, TP: 1092, DELAY:0.28870606422424316, FP_DELAY:11.243081092834473, COVER: 0.9943011846828066\n",
      "TN: 168, FP: 57, FN: 19, TP: 1093, DELAY:0.28870606422424316, FP_DELAY:11.263276100158691, COVER: 0.9947893642478263\n",
      "TN: 168, FP: 56, FN: 21, TP: 1092, DELAY:0.31862378120422363, FP_DELAY:11.305160522460938, COVER: 0.9950287060578487\n",
      "TN: 168, FP: 56, FN: 22, TP: 1091, DELAY:0.33358263969421387, FP_DELAY:11.320119857788086, COVER: 0.9950287060578487\n",
      "TN: 169, FP: 55, FN: 22, TP: 1091, DELAY:0.33358263969421387, FP_DELAY:11.335078239440918, COVER: 0.9950287060578487\n",
      "TN: 169, FP: 55, FN: 22, TP: 1091, DELAY:0.33358263969421387, FP_DELAY:11.335078239440918, COVER: 0.9950287060578487\n",
      "TN: 169, FP: 55, FN: 22, TP: 1091, DELAY:0.33358263969421387, FP_DELAY:11.335078239440918, COVER: 0.9950287060578487\n",
      "TN: 170, FP: 54, FN: 22, TP: 1091, DELAY:0.33358263969421387, FP_DELAY:11.350037574768066, COVER: 0.9950287060578487\n",
      "TN: 170, FP: 54, FN: 22, TP: 1091, DELAY:0.33358263969421387, FP_DELAY:11.350037574768066, COVER: 0.9950287060578487\n",
      "TN: 170, FP: 53, FN: 22, TP: 1092, DELAY:0.33358263969421387, FP_DELAY:11.360508918762207, COVER: 0.9953245591285708\n",
      "TN: 170, FP: 53, FN: 22, TP: 1092, DELAY:0.33358263969421387, FP_DELAY:11.360508918762207, COVER: 0.9953245591285708\n",
      "TN: 170, FP: 53, FN: 22, TP: 1092, DELAY:0.33358263969421387, FP_DELAY:11.360508918762207, COVER: 0.9953245591285708\n",
      "TN: 170, FP: 53, FN: 22, TP: 1092, DELAY:0.33358263969421387, FP_DELAY:11.360508918762207, COVER: 0.9953245591285708\n",
      "TN: 170, FP: 53, FN: 22, TP: 1092, DELAY:0.33358263969421387, FP_DELAY:11.360508918762207, COVER: 0.9953245591285708\n",
      "TN: 170, FP: 53, FN: 22, TP: 1092, DELAY:0.33358263969421387, FP_DELAY:11.360508918762207, COVER: 0.9953245591285708\n",
      "TN: 170, FP: 52, FN: 22, TP: 1093, DELAY:0.33358263969421387, FP_DELAY:11.369483947753906, COVER: 0.99568435915219\n",
      "TN: 170, FP: 51, FN: 22, TP: 1094, DELAY:0.33358263969421387, FP_DELAY:11.379955291748047, COVER: 0.9959904253648422\n",
      "TN: 170, FP: 51, FN: 22, TP: 1094, DELAY:0.33358263969421387, FP_DELAY:11.379955291748047, COVER: 0.9959904253648422\n",
      "TN: 170, FP: 51, FN: 23, TP: 1093, DELAY:0.34405386447906494, FP_DELAY:11.394913673400879, COVER: 0.9962148083117383\n",
      "TN: 170, FP: 50, FN: 23, TP: 1094, DELAY:0.34405386447906494, FP_DELAY:11.395662307739258, COVER: 0.9962867259229228\n",
      "TN: 171, FP: 38, FN: 23, TP: 1105, DELAY:0.34405386447906494, FP_DELAY:11.404637336730957, COVER: 0.9970682064510376\n",
      "TN: 171, FP: 38, FN: 23, TP: 1105, DELAY:0.34405386447906494, FP_DELAY:11.404637336730957, COVER: 0.9970682064510376\n",
      "TN: 171, FP: 38, FN: 23, TP: 1105, DELAY:0.34405386447906494, FP_DELAY:11.404637336730957, COVER: 0.9970682064510376\n",
      "TN: 171, FP: 38, FN: 23, TP: 1105, DELAY:0.34405386447906494, FP_DELAY:11.404637336730957, COVER: 0.9970682064510376\n",
      "TN: 171, FP: 38, FN: 23, TP: 1105, DELAY:0.34405386447906494, FP_DELAY:11.404637336730957, COVER: 0.9970682064510376\n",
      "TN: 171, FP: 38, FN: 23, TP: 1105, DELAY:0.34405386447906494, FP_DELAY:11.404637336730957, COVER: 0.9970682064510376\n",
      "TN: 171, FP: 38, FN: 23, TP: 1105, DELAY:0.34405386447906494, FP_DELAY:11.404637336730957, COVER: 0.9970682064510376\n",
      "TN: 171, FP: 38, FN: 23, TP: 1105, DELAY:0.34405386447906494, FP_DELAY:11.404637336730957, COVER: 0.9970682064510376\n",
      "TN: 171, FP: 38, FN: 23, TP: 1105, DELAY:0.34405386447906494, FP_DELAY:11.404637336730957, COVER: 0.9970682064510376\n",
      "TN: 171, FP: 38, FN: 23, TP: 1105, DELAY:0.34405386447906494, FP_DELAY:11.404637336730957, COVER: 0.9970682064510376\n",
      "TN: 171, FP: 38, FN: 23, TP: 1105, DELAY:0.34405386447906494, FP_DELAY:11.404637336730957, COVER: 0.9970682064510376\n",
      "TN: 171, FP: 37, FN: 23, TP: 1106, DELAY:0.34405386447906494, FP_DELAY:11.40538501739502, COVER: 0.997140663444306\n",
      "TN: 171, FP: 36, FN: 23, TP: 1107, DELAY:0.34405386447906494, FP_DELAY:11.406132698059082, COVER: 0.9972129646160837\n",
      "TN: 171, FP: 34, FN: 23, TP: 1109, DELAY:0.34405386447906494, FP_DELAY:11.407629013061523, COVER: 0.997357005317342\n",
      "TN: 171, FP: 32, FN: 23, TP: 1111, DELAY:0.3560209572315216, FP_DELAY:11.409125328063965, COVER: 0.9973504891459044\n",
      "TN: 172, FP: 22, FN: 23, TP: 1120, DELAY:0.3560209572315216, FP_DELAY:11.416604042053223, COVER: 0.9979888972141928\n",
      "TN: 172, FP: 22, FN: 23, TP: 1120, DELAY:0.3560209572315216, FP_DELAY:11.416604042053223, COVER: 0.9979888972141928\n",
      "TN: 172, FP: 22, FN: 23, TP: 1120, DELAY:0.3560209572315216, FP_DELAY:11.416604042053223, COVER: 0.9979888972141928\n",
      "TN: 172, FP: 22, FN: 23, TP: 1120, DELAY:0.3560209572315216, FP_DELAY:11.416604042053223, COVER: 0.9979888972141928\n",
      "TN: 172, FP: 22, FN: 23, TP: 1120, DELAY:0.3560209572315216, FP_DELAY:11.416604042053223, COVER: 0.9979888972141928\n",
      "TN: 172, FP: 21, FN: 23, TP: 1121, DELAY:0.3560209572315216, FP_DELAY:11.417352676391602, COVER: 0.9980617232583607\n",
      "TN: 172, FP: 21, FN: 23, TP: 1121, DELAY:0.3560209572315216, FP_DELAY:11.417352676391602, COVER: 0.9980617232583607\n",
      "TN: 172, FP: 21, FN: 23, TP: 1121, DELAY:0.3560209572315216, FP_DELAY:11.417352676391602, COVER: 0.9980617232583607\n",
      "TN: 172, FP: 21, FN: 23, TP: 1121, DELAY:0.3560209572315216, FP_DELAY:11.417352676391602, COVER: 0.9980617232583607\n",
      "TN: 172, FP: 21, FN: 23, TP: 1121, DELAY:0.3560209572315216, FP_DELAY:11.417352676391602, COVER: 0.9980617232583607\n",
      "TN: 172, FP: 21, FN: 23, TP: 1121, DELAY:0.3560209572315216, FP_DELAY:11.417352676391602, COVER: 0.9980617232583607\n",
      "TN: 172, FP: 20, FN: 23, TP: 1122, DELAY:0.3560209572315216, FP_DELAY:11.418100357055664, COVER: 0.9981340244301383\n",
      "TN: 172, FP: 14, FN: 23, TP: 1128, DELAY:0.3560209572315216, FP_DELAY:11.422588348388672, COVER: 0.9985599536285059\n",
      "TN: 172, FP: 11, FN: 23, TP: 1131, DELAY:0.3560209572315216, FP_DELAY:11.433058738708496, COVER: 0.9990614155174024\n",
      "TN: 172, FP: 11, FN: 23, TP: 1131, DELAY:0.3560209572315216, FP_DELAY:11.433058738708496, COVER: 0.9990614155174024\n",
      "TN: 172, FP: 11, FN: 23, TP: 1131, DELAY:0.3560209572315216, FP_DELAY:11.433058738708496, COVER: 0.9990614155174024\n",
      "TN: 172, FP: 11, FN: 23, TP: 1131, DELAY:0.3560209572315216, FP_DELAY:11.433058738708496, COVER: 0.9990614155174024\n",
      "TN: 172, FP: 11, FN: 23, TP: 1131, DELAY:0.3560209572315216, FP_DELAY:11.433058738708496, COVER: 0.9990614155174024\n",
      "TN: 172, FP: 11, FN: 23, TP: 1131, DELAY:0.3560209572315216, FP_DELAY:11.433058738708496, COVER: 0.9990614155174024\n",
      "TN: 172, FP: 11, FN: 23, TP: 1131, DELAY:0.3560209572315216, FP_DELAY:11.433058738708496, COVER: 0.9990614155174024\n",
      "TN: 172, FP: 11, FN: 23, TP: 1131, DELAY:0.3560209572315216, FP_DELAY:11.433058738708496, COVER: 0.9990614155174024\n",
      "TN: 172, FP: 11, FN: 23, TP: 1131, DELAY:0.3560209572315216, FP_DELAY:11.433058738708496, COVER: 0.9990614155174024\n",
      "TN: 172, FP: 11, FN: 23, TP: 1131, DELAY:0.3560209572315216, FP_DELAY:11.433058738708496, COVER: 0.9990614155174024\n",
      "TN: 172, FP: 11, FN: 23, TP: 1131, DELAY:0.3560209572315216, FP_DELAY:11.433058738708496, COVER: 0.9990614155174024\n",
      "TN: 172, FP: 11, FN: 23, TP: 1131, DELAY:0.3560209572315216, FP_DELAY:11.433058738708496, COVER: 0.9990614155174024\n",
      "TN: 172, FP: 10, FN: 23, TP: 1132, DELAY:0.3560209572315216, FP_DELAY:11.433807373046875, COVER: 0.9991341322131556\n",
      "TN: 172, FP: 10, FN: 23, TP: 1132, DELAY:0.3560209572315216, FP_DELAY:11.433807373046875, COVER: 0.9991341322131556\n",
      "TN: 172, FP: 10, FN: 23, TP: 1132, DELAY:0.3560209572315216, FP_DELAY:11.433807373046875, COVER: 0.9991341322131556\n",
      "TN: 172, FP: 9, FN: 23, TP: 1133, DELAY:0.3560209572315216, FP_DELAY:11.434555053710938, COVER: 0.999206726695975\n",
      "TN: 172, FP: 9, FN: 23, TP: 1133, DELAY:0.3560209572315216, FP_DELAY:11.434555053710938, COVER: 0.999206726695975\n",
      "TN: 172, FP: 9, FN: 24, TP: 1132, DELAY:0.37023186683654785, FP_DELAY:11.448765754699707, COVER: 0.9991356720961246\n",
      "TN: 172, FP: 9, FN: 24, TP: 1132, DELAY:0.37023186683654785, FP_DELAY:11.448765754699707, COVER: 0.9991356720961246\n",
      "TN: 172, FP: 8, FN: 24, TP: 1133, DELAY:0.37023186683654785, FP_DELAY:11.44951343536377, COVER: 0.999208129089393\n",
      "TN: 172, FP: 7, FN: 24, TP: 1134, DELAY:0.37023186683654785, FP_DELAY:11.450262069702148, COVER: 0.9992804302611707\n",
      "TN: 172, FP: 0, FN: 24, TP: 1141, DELAY:0.37023186683654785, FP_DELAY:11.455497741699219, COVER: 0.9997793567688855\n",
      "TN: 172, FP: 0, FN: 24, TP: 1141, DELAY:0.37023186683654785, FP_DELAY:11.455497741699219, COVER: 0.9997793567688855\n",
      "TN: 172, FP: 0, FN: 24, TP: 1141, DELAY:0.37023186683654785, FP_DELAY:11.455497741699219, COVER: 0.9997793567688855\n",
      "TN: 172, FP: 0, FN: 24, TP: 1141, DELAY:0.37023186683654785, FP_DELAY:11.455497741699219, COVER: 0.9997793567688855\n",
      "TN: 172, FP: 0, FN: 24, TP: 1141, DELAY:0.37023186683654785, FP_DELAY:11.455497741699219, COVER: 0.9997793567688855\n",
      "TN: 172, FP: 0, FN: 24, TP: 1141, DELAY:0.37023186683654785, FP_DELAY:11.455497741699219, COVER: 0.9997793567688855\n",
      "TN: 172, FP: 0, FN: 24, TP: 1141, DELAY:0.37023186683654785, FP_DELAY:11.455497741699219, COVER: 0.9997793567688855\n",
      "TN: 172, FP: 0, FN: 24, TP: 1141, DELAY:0.37023186683654785, FP_DELAY:11.455497741699219, COVER: 0.9997793567688855\n",
      "TN: 172, FP: 0, FN: 24, TP: 1141, DELAY:0.37023186683654785, FP_DELAY:11.455497741699219, COVER: 0.9997793567688855\n",
      "TN: 172, FP: 0, FN: 25, TP: 1140, DELAY:0.3844427764415741, FP_DELAY:11.469708442687988, COVER: 0.9997083021690351\n",
      "TN: 172, FP: 0, FN: 25, TP: 1140, DELAY:0.3844427764415741, FP_DELAY:11.469708442687988, COVER: 0.9997083021690351\n",
      "TN: 172, FP: 0, FN: 26, TP: 1139, DELAY:0.39790576696395874, FP_DELAY:11.483171463012695, COVER: 0.9995736724008975\n",
      "TN: 172, FP: 0, FN: 27, TP: 1138, DELAY:0.412116676568985, FP_DELAY:11.497382164001465, COVER: 0.9995026178010471\n",
      "TN: 172, FP: 0, FN: 27, TP: 1138, DELAY:0.412116676568985, FP_DELAY:11.497382164001465, COVER: 0.9995026178010471\n",
      "TN: 172, FP: 0, FN: 1165, TP: 0, DELAY:8.902767181396484, FP_DELAY:20.0, COVER: 0.6667726252804786\n",
      "AUC: 41.2422\n",
      "Time to FA 11.4555, delay detection 0.3702 for best-F1 threshold: 0.9756\n",
      "TN 172, FP 0, FN 24, TP 1141 for best-F1 threshold: 0.9756\n",
      "Max F1 0.9896: for best-F1 threshold 0.9756\n",
      "COVER 0.9998: for best-F1 threshold 0.9756\n",
      "Max COVER 0.9998: for threshold 0.9756\n",
      "Max F1 with margin 1: 0.9896 for best threshold 0.8272\n",
      "Max F1 with margin 2: 0.9896 for best threshold 0.8272\n",
      "Max F1 with margin 4: 0.9896 for best threshold 0.8272\n"
     ]
    }
   ],
   "source": [
    "threshold_number = 100\n",
    "threshold_list = np.linspace(-5, 5, threshold_number)\n",
    "threshold_list = 1 / (1 + np.exp(-threshold_list))\n",
    "threshold_list = [-0.001] + list(threshold_list) + [1.001]\n",
    "\n",
    "metrics, (max_th_f1_margins_dict, max_f1_margins_dic), _, _ = evaluation_pipeline(\n",
    "    indid_model,\n",
    "    indid_model.val_dataloader(),\n",
    "    threshold_list,\n",
    "    device=\"cpu\",\n",
    "    model_type=\"seq2seq\",\n",
    "    verbose=True,\n",
    "    margin_list=[1, 2, 4],\n",
    ")"
   ]
  },
  {
   "cell_type": "markdown",
   "metadata": {},
   "source": [
    "## Investigate losses"
   ]
  },
  {
   "cell_type": "code",
   "execution_count": 57,
   "metadata": {},
   "outputs": [],
   "source": [
    "from typing import Tuple\n",
    "\n",
    "from torch import nn\n",
    "\n",
    "\n",
    "class CPDLoss(nn.Module):\n",
    "    \"\"\"Class implementing loss function for Change Point Detection.\"\"\"\n",
    "\n",
    "    def __init__(self, len_segment: int) -> None:\n",
    "        \"\"\"Initialize parameters for CPDLoss.\n",
    "\n",
    "        :param len_segment: parameter restricted the size of a considered\n",
    "        segment in delay loss (T in the paper)\n",
    "        \"\"\"\n",
    "        super().__init__()\n",
    "\n",
    "        self.len_segment = len_segment\n",
    "\n",
    "    @staticmethod\n",
    "    def calculate_delays_(prob: torch.Tensor) -> Tuple[torch.Tensor, torch.Tensor]:\n",
    "        \"\"\"Calculate delays (detection or false alarms) for probabilities.\n",
    "\n",
    "        :param prob: probabilities of changing in time moment t\n",
    "        :return: tuple of\n",
    "            - delays\n",
    "            - products of ones minus probabilities\n",
    "        \"\"\"\n",
    "        device = prob.device\n",
    "        len_prob = prob.size(0)\n",
    "\n",
    "        prob_no_change = torch.ones(len_prob).to(device)\n",
    "\n",
    "        # 1, 1 - p_0, 1 - p_1, ..., 1 - p_{n-1}\n",
    "        prob_no_change[1:] -= prob[:-1]\n",
    "\n",
    "        # 1, 1 - p_0, (1 - p_0) * (1 - p_1), ..., prod_1^{N-1}(1 - p_i)\n",
    "        prob_no_change_before = torch.cumprod(prob_no_change, dim=0).to(device)\n",
    "\n",
    "        # 1*p_0, 2 * p_1 * (1 - p_0), 3 * p_2 * (1 - p_1) * (1 - p_0), ....\n",
    "        delays = torch.arange(1, len_prob + 1).to(device) * prob * prob_no_change_before\n",
    "\n",
    "        # (1 - p_0) * (1 - p_1) * ... * (1 - p_N)\n",
    "        prod_prob_no_change = torch.prod(prob_no_change) * (\n",
    "            torch.ones(1).to(device) - prob[-1]\n",
    "        )\n",
    "\n",
    "        return delays, prod_prob_no_change\n",
    "\n",
    "    @staticmethod\n",
    "    def delay_detection_loss_(prob: torch.Tensor) -> torch.Tensor:\n",
    "        \"\"\"Calculate detection delay loss.\n",
    "\n",
    "        :param prob: probabilities of changing in time moment t\n",
    "        :return: loss expressing delay detection\n",
    "        \"\"\"\n",
    "        device = prob.device\n",
    "        delays, prod_prob_no_change = CPDLoss.calculate_delays_(prob)\n",
    "\n",
    "        delays = delays.to(device)\n",
    "\n",
    "        # calculate delay loss\n",
    "        delay_loss = torch.sum(delays) + (len(prob) + 1) * torch.prod(\n",
    "            prod_prob_no_change\n",
    "        )\n",
    "        return delay_loss\n",
    "\n",
    "    @staticmethod\n",
    "    def false_alarms_loss_(\n",
    "        prob: torch.Tensor, on_intervals: bool = False\n",
    "    ) -> torch.Tensor:\n",
    "        \"\"\"Calculate time to false alarms loss.\n",
    "\n",
    "        :param prob: probabilities of changing in time moment t\n",
    "        :param on_intervals: if True separate intervals on sub-slices and calculate loss on them\n",
    "        :return: loss expressing time to false alarms\n",
    "        \"\"\"\n",
    "        len_prob = len(prob)\n",
    "        device = prob.device\n",
    "        fp_loss = torch.zeros(1).to(device)\n",
    "\n",
    "        # calculate FA loss in random sub-intervals\n",
    "        if on_intervals:\n",
    "            start_ind = 0\n",
    "            end_ind = 0\n",
    "\n",
    "            while end_ind < len_prob:\n",
    "                # we want non-overlapping random interval\n",
    "                start_ind = max(0, end_ind)\n",
    "                len_interval = np.random.randint(max(len_prob // 16, 1), len_prob)\n",
    "                end_ind = min(len_prob, start_ind + len_interval)\n",
    "\n",
    "                delays, prod_prob_no_change = CPDLoss.calculate_delays_(\n",
    "                    prob[start_ind:end_ind]\n",
    "                )\n",
    "                fp_loss += -torch.sum(delays) - (len_prob + 1) * torch.prod(\n",
    "                    prod_prob_no_change\n",
    "                )\n",
    "        else:\n",
    "            # calculate FA loss\n",
    "            delays, prod_prob_no_change = CPDLoss.calculate_delays_(prob)\n",
    "            fp_loss = -torch.sum(delays) - (len_prob + 1) * torch.prod(\n",
    "                prod_prob_no_change\n",
    "            )\n",
    "        return fp_loss\n",
    "\n",
    "    def forward(self, prob: torch.Tensor, true_labels: torch.Tensor) -> torch.Tensor:\n",
    "        \"\"\"Calculate CPD loss.\n",
    "\n",
    "        :param prob: probabilities of changing in time moment t\n",
    "        :param true_labels: true labels is there is change in moment t\n",
    "        :return: CPD loss\n",
    "        \"\"\"\n",
    "        device = prob.device\n",
    "        loss = torch.zeros(1).to(device)\n",
    "        label: torch.Tensor\n",
    "        loss_curr = 0\n",
    "\n",
    "        dd_losses = []\n",
    "        fa_losses = []\n",
    "\n",
    "        for i, label in enumerate(true_labels):\n",
    "            change_ind = torch.nonzero(label != label[0])\n",
    "\n",
    "            # calculate false alarms part before change moment\n",
    "            # calculate delay detection part after change moment (if there is change)\n",
    "            if change_ind.size()[0] == 0:\n",
    "                # if normal data without change\n",
    "                fp_loss = CPDLoss.false_alarms_loss_(prob[i, :])\n",
    "                loss_curr = fp_loss\n",
    "\n",
    "                # print(\"111\")\n",
    "                # print(\"fp_loss:\", fp_loss.shape)\n",
    "\n",
    "                fa_losses.append(fp_loss.detach().item())\n",
    "                dd_losses.append(0)\n",
    "\n",
    "            else:\n",
    "                change_ind = change_ind[0]\n",
    "                delay_loss = CPDLoss.delay_detection_loss_(\n",
    "                    prob[i, change_ind : (change_ind + self.len_segment)]\n",
    "                )\n",
    "                fp_loss = CPDLoss.false_alarms_loss_(prob[i, :change_ind])\n",
    "\n",
    "                alpha = 2 * len(prob) / self.len_segment\n",
    "                beta = 1\n",
    "                # print(alpha, beta)\n",
    "                loss_curr = alpha * delay_loss + beta * fp_loss\n",
    "\n",
    "                # print(\"222\")\n",
    "                # print(\"fp_loss:\", fp_loss.shape)\n",
    "                # print(\"delay_loss:\", delay_loss.shape)\n",
    "\n",
    "                dd_losses.append(delay_loss.detach().item())\n",
    "                fa_losses.append(fp_loss.detach().item())\n",
    "\n",
    "            loss += loss_curr\n",
    "\n",
    "        loss = loss / true_labels.size(0)\n",
    "\n",
    "        return loss, dd_losses, fa_losses"
   ]
  },
  {
   "cell_type": "code",
   "execution_count": 10,
   "metadata": {},
   "outputs": [
    {
     "data": {
      "text/plain": [
       "tensor([1., 1., 0., 1., 1., 1., 0., 1., 1., 1., 1., 1., 1., 1., 1., 1., 1., 1.,\n",
       "        1., 1., 1., 1., 1., 0., 1., 1., 1., 1., 1., 1., 1., 1., 1., 1., 1., 1.,\n",
       "        1., 0., 1., 1., 1., 1., 1., 1., 1., 0., 1., 1., 1., 0., 1., 1., 1., 1.,\n",
       "        1., 1., 0., 1., 1., 1., 1., 0., 1., 1., 1., 1., 1., 1., 1., 1., 1., 1.,\n",
       "        1., 1., 1., 1., 1., 1., 1., 1., 1., 0., 1., 0., 1., 1., 1., 1., 1., 1.,\n",
       "        1., 1., 1., 1., 1., 1., 0., 1., 1., 1., 1., 1., 1., 1., 1., 1., 1., 0.,\n",
       "        1., 1., 1., 1., 1., 1., 1., 1., 1., 1., 1., 1., 1., 1., 0., 1., 1., 1.,\n",
       "        1., 1.], dtype=torch.float64)"
      ]
     },
     "execution_count": 10,
     "metadata": {},
     "output_type": "execute_result"
    }
   ],
   "source": [
    "test_batch, test_labels = next(iter(val_dataloader_shuffle))\n",
    "test_out = indid_model(test_batch)\n",
    "\n",
    "test_labels.max(1)[0]"
   ]
  },
  {
   "cell_type": "code",
   "execution_count": 11,
   "metadata": {},
   "outputs": [],
   "source": [
    "norm_idx = 3\n",
    "cp_idx = 0\n",
    "\n",
    "norm_probs = test_out[norm_idx]\n",
    "norm_labels = test_labels[norm_idx]\n",
    "\n",
    "cp_probs = test_out[cp_idx]\n",
    "cp_labels = test_labels[cp_idx]"
   ]
  },
  {
   "cell_type": "code",
   "execution_count": 15,
   "metadata": {},
   "outputs": [],
   "source": [
    "fa_losses_norm_dict = {}\n",
    "dd_losses_norm_dict = {}\n",
    "\n",
    "fa_losses_cp_dict = {}\n",
    "dd_losses_cp_dict = {}\n",
    "\n",
    "for T in range(1, 20):\n",
    "    loss_func = CPDLoss(T)\n",
    "\n",
    "    _, dd_losses, fa_losses = loss_func(test_out.squeeze(), test_labels.squeeze())\n",
    "\n",
    "    fa_losses_norm_dict[T] = fa_losses[norm_idx]\n",
    "    dd_losses_norm_dict[T] = dd_losses[norm_idx]\n",
    "\n",
    "    fa_losses_cp_dict[T] = fa_losses[cp_idx]\n",
    "    dd_losses_cp_dict[T] = dd_losses[cp_idx]"
   ]
  },
  {
   "cell_type": "code",
   "execution_count": 16,
   "metadata": {},
   "outputs": [
    {
     "data": {
      "image/png": "[encoded data removed]",
      "text/plain": [
       "<Figure size 640x480 with 1 Axes>"
      ]
     },
     "metadata": {},
     "output_type": "display_data"
    }
   ],
   "source": [
    "plt.figure()\n",
    "plt.plot(fa_losses_norm_dict.keys(), fa_losses_norm_dict.values(), label=\"FA loss\")\n",
    "plt.plot(dd_losses_norm_dict.keys(), dd_losses_norm_dict.values(), label=\"DD loss\")\n",
    "plt.title(\"Losses for normal sequence\")\n",
    "plt.legend()\n",
    "plt.show()"
   ]
  },
  {
   "cell_type": "code",
   "execution_count": 20,
   "metadata": {},
   "outputs": [
    {
     "data": {
      "text/plain": [
       "<matplotlib.legend.Legend at 0x7f548e51a7c0>"
      ]
     },
     "execution_count": 20,
     "metadata": {},
     "output_type": "execute_result"
    },
    {
     "data": {
      "image/png": "[encoded data removed]",
      "text/plain": [
       "<Figure size 640x480 with 1 Axes>"
      ]
     },
     "metadata": {},
     "output_type": "display_data"
    }
   ],
   "source": [
    "plt.figure()\n",
    "plt.plot(fa_losses_cp_dict.keys(), fa_losses_cp_dict.values(), label=\"FA loss\")\n",
    "plt.plot(dd_losses_cp_dict.keys(), dd_losses_cp_dict.values(), label=\"DD loss\")\n",
    "plt.title(\"Losses for abnormal sequence\")\n",
    "plt.legend()"
   ]
  },
  {
   "cell_type": "markdown",
   "metadata": {},
   "source": [
    "# Synthetic 1D"
   ]
  },
  {
   "cell_type": "code",
   "execution_count": 61,
   "metadata": {},
   "outputs": [],
   "source": [
    "model_type = \"seq2seq\"\n",
    "\n",
    "experiments_name = \"synthetic_1D\"\n",
    "\n",
    "path_to_config = \"configs/\" + experiments_name + \"_\" + model_type + \".yaml\"\n",
    "\n",
    "with open(path_to_config, \"r\") as f:\n",
    "    args_config = yaml.safe_load(f.read())\n",
    "\n",
    "args_config[\"experiments_name\"] = experiments_name\n",
    "args_config[\"model_type\"] = model_type\n",
    "args_config[\"num_workers\"] = 2\n",
    "\n",
    "args_config[\"learning\"][\"epochs\"] = 100\n",
    "\n",
    "train_dataset, test_dataset = CPDDatasets(experiments_name).get_dataset_()\n",
    "\n",
    "val_dataloader_shuffle = DataLoader(test_dataset, batch_size=64, shuffle=True)"
   ]
  },
  {
   "cell_type": "code",
   "execution_count": 27,
   "metadata": {},
   "outputs": [
    {
     "data": {
      "text/plain": [
       "CPDModel(\n",
       "  (model): BaseRnn(\n",
       "    (lstm): LSTM(1, 4, batch_first=True, dropout=0.5)\n",
       "    (linear): Linear(in_features=4, out_features=1, bias=True)\n",
       "    (activation): Sigmoid()\n",
       "  )\n",
       "  (loss): CPDLoss()\n",
       ")"
      ]
     },
     "execution_count": 27,
     "metadata": {},
     "output_type": "execute_result"
    }
   ],
   "source": [
    "SEED = 0\n",
    "fix_seeds(SEED)\n",
    "\n",
    "core_model = BaseRnn(\n",
    "    input_size=args_config[\"model\"][\"input_size\"],\n",
    "    hidden_dim=args_config[\"model\"][\"hidden_dim\"],\n",
    "    n_layers=args_config[\"model\"][\"n_layers\"],\n",
    "    drop_prob=args_config[\"model\"][\"drop_prob\"],\n",
    "    layer_norm=args_config[\"model\"][\"layer_norm\"],\n",
    ")\n",
    "\n",
    "indid_model = CPDModel(\n",
    "    loss_type=\"indid\",\n",
    "    args=args_config,\n",
    "    model=core_model,\n",
    "    train_dataset=train_dataset,\n",
    "    test_dataset=test_dataset,\n",
    ")\n",
    "\n",
    "model_name = f\"{experiments_name}_seq2seq_indid_seed_{SEED}\"\n",
    "\n",
    "indid_model"
   ]
  },
  {
   "cell_type": "code",
   "execution_count": null,
   "metadata": {},
   "outputs": [],
   "source": [
    "logger = CometLogger(\n",
    "    api_key=\"agnHNC2vEt7tOxnnxT4LzYf7Y\",\n",
    "    workspace=\"stalex2902\",\n",
    "    save_dir=\"logs/indid\",\n",
    "    project_name=\"indid\",\n",
    "    experiment_name=model_name,\n",
    "    display_summary_level=0,\n",
    ")\n",
    "\n",
    "trainer = Trainer(\n",
    "    max_epochs=args_config[\"learning\"][\"epochs\"],\n",
    "    gpus=0,\n",
    "    benchmark=True,\n",
    "    check_val_every_n_epoch=1,\n",
    "    gradient_clip_val=args_config[\"learning\"][\"grad_clip\"],\n",
    "    logger=logger,\n",
    "    callbacks=EarlyStopping(**args_config[\"early_stopping\"]),\n",
    ")\n",
    "\n",
    "trainer.fit(indid_model)\n",
    "\n",
    "torch.save(\n",
    "    indid_model.model.state_dict(), f\"saved_models/indid/synthetic_1D/{model_name}.pth\"\n",
    ")"
   ]
  },
  {
   "cell_type": "code",
   "execution_count": 29,
   "metadata": {},
   "outputs": [
    {
     "name": "stderr",
     "output_type": "stream",
     "text": [
      "  0%|          | 0/5 [00:00<?, ?it/s]"
     ]
    },
    {
     "name": "stdout",
     "output_type": "stream",
     "text": [
      "Collectting model's outputs\n"
     ]
    },
    {
     "name": "stderr",
     "output_type": "stream",
     "text": [
      "100%|██████████| 5/5 [00:00<00:00, 38.92it/s]\n"
     ]
    },
    {
     "name": "stdout",
     "output_type": "stream",
     "text": [
      "TN: 0, FP: 300, FN: 0, TP: 0, DELAY:0.0, FP_DELAY:0.0, COVER: 0.8226481119791667\n",
      "TN: 0, FP: 300, FN: 0, TP: 0, DELAY:0.0, FP_DELAY:0.0, COVER: 0.8226481119791667\n",
      "TN: 0, FP: 300, FN: 0, TP: 0, DELAY:0.0, FP_DELAY:0.0, COVER: 0.8226481119791667\n",
      "TN: 0, FP: 300, FN: 0, TP: 0, DELAY:0.0, FP_DELAY:0.0, COVER: 0.8226481119791667\n",
      "TN: 0, FP: 300, FN: 0, TP: 0, DELAY:0.0, FP_DELAY:0.0, COVER: 0.8226481119791667\n",
      "TN: 0, FP: 300, FN: 0, TP: 0, DELAY:0.0, FP_DELAY:0.0, COVER: 0.8226481119791667\n",
      "TN: 16, FP: 261, FN: 2, TP: 21, DELAY:0.33666667342185974, FP_DELAY:12.016666412353516, COVER: 0.8465230305989583\n",
      "TN: 65, FP: 152, FN: 4, TP: 79, DELAY:0.6733333468437195, FP_DELAY:45.87666702270508, COVER: 0.9095908066259941\n",
      "TN: 89, FP: 99, FN: 4, TP: 108, DELAY:0.70333331823349, FP_DELAY:61.22666549682617, COVER: 0.9402039982755628\n",
      "TN: 105, FP: 67, FN: 4, TP: 124, DELAY:0.7200000286102295, FP_DELAY:72.34333038330078, COVER: 0.9588943212645673\n",
      "TN: 115, FP: 51, FN: 4, TP: 130, DELAY:0.7233333587646484, FP_DELAY:77.69666290283203, COVER: 0.9645171003465665\n",
      "TN: 124, FP: 35, FN: 5, TP: 136, DELAY:0.75, FP_DELAY:83.45333099365234, COVER: 0.9728123423170526\n",
      "TN: 131, FP: 21, FN: 6, TP: 142, DELAY:1.0833333730697632, FP_DELAY:88.37333679199219, COVER: 0.9811342472386646\n",
      "TN: 134, FP: 17, FN: 6, TP: 143, DELAY:1.0866667032241821, FP_DELAY:90.01667022705078, COVER: 0.9819273806370226\n",
      "TN: 138, FP: 11, FN: 6, TP: 145, DELAY:1.0866667032241821, FP_DELAY:92.06999969482422, COVER: 0.983495577251606\n",
      "TN: 139, FP: 8, FN: 6, TP: 147, DELAY:1.090000033378601, FP_DELAY:93.2300033569336, COVER: 0.9848507092559164\n",
      "TN: 140, FP: 7, FN: 6, TP: 147, DELAY:1.090000033378601, FP_DELAY:93.65666961669922, COVER: 0.9848507092559164\n",
      "TN: 140, FP: 5, FN: 6, TP: 149, DELAY:1.1100000143051147, FP_DELAY:94.04000091552734, COVER: 0.9873160486635629\n",
      "TN: 140, FP: 4, FN: 6, TP: 150, DELAY:1.1133333444595337, FP_DELAY:94.163330078125, COVER: 0.9886346211772036\n",
      "TN: 140, FP: 3, FN: 6, TP: 151, DELAY:1.1133333444595337, FP_DELAY:94.23666381835938, COVER: 0.9895835144063703\n",
      "TN: 140, FP: 2, FN: 7, TP: 151, DELAY:1.4366666078567505, FP_DELAY:94.663330078125, COVER: 0.9895835144063703\n",
      "TN: 142, FP: 0, FN: 7, TP: 151, DELAY:1.4366666078567505, FP_DELAY:95.51667022705078, COVER: 0.9895835144063703\n",
      "TN: 142, FP: 0, FN: 7, TP: 151, DELAY:1.4366666078567505, FP_DELAY:95.51667022705078, COVER: 0.9895835144063703\n",
      "TN: 142, FP: 0, FN: 7, TP: 151, DELAY:1.4366666078567505, FP_DELAY:95.51667022705078, COVER: 0.9895835144063703\n",
      "TN: 142, FP: 0, FN: 7, TP: 151, DELAY:1.4466667175292969, FP_DELAY:95.51667022705078, COVER: 0.9894366668784441\n",
      "TN: 142, FP: 0, FN: 7, TP: 151, DELAY:1.4466667175292969, FP_DELAY:95.51667022705078, COVER: 0.9894366668784441\n",
      "TN: 142, FP: 0, FN: 7, TP: 151, DELAY:1.4600000381469727, FP_DELAY:95.51667022705078, COVER: 0.9892396988789494\n",
      "TN: 142, FP: 0, FN: 7, TP: 151, DELAY:1.5099999904632568, FP_DELAY:95.51667022705078, COVER: 0.9886096496037429\n",
      "TN: 142, FP: 0, FN: 7, TP: 151, DELAY:1.5099999904632568, FP_DELAY:95.51667022705078, COVER: 0.9886096496037429\n",
      "TN: 142, FP: 0, FN: 7, TP: 151, DELAY:1.5166666507720947, FP_DELAY:95.51667022705078, COVER: 0.988510429553285\n",
      "TN: 142, FP: 0, FN: 7, TP: 151, DELAY:1.5199999809265137, FP_DELAY:95.51667022705078, COVER: 0.9884664102587776\n",
      "TN: 142, FP: 0, FN: 7, TP: 151, DELAY:1.5266666412353516, FP_DELAY:95.51667022705078, COVER: 0.9883726440163444\n",
      "TN: 142, FP: 0, FN: 7, TP: 151, DELAY:1.5266666412353516, FP_DELAY:95.51667022705078, COVER: 0.9883726440163444\n",
      "TN: 142, FP: 0, FN: 7, TP: 151, DELAY:1.756666660308838, FP_DELAY:95.51667022705078, COVER: 0.9866571354511626\n",
      "TN: 142, FP: 0, FN: 8, TP: 150, DELAY:1.8833333253860474, FP_DELAY:95.87333679199219, COVER: 0.9874464827818917\n",
      "TN: 142, FP: 0, FN: 9, TP: 149, DELAY:2.1033332347869873, FP_DELAY:96.15666961669922, COVER: 0.9867858214792515\n",
      "TN: 142, FP: 0, FN: 9, TP: 149, DELAY:2.3566665649414062, FP_DELAY:96.15666961669922, COVER: 0.9828723628021979\n",
      "TN: 142, FP: 0, FN: 9, TP: 149, DELAY:2.509999990463257, FP_DELAY:96.15666961669922, COVER: 0.9805364899328541\n",
      "TN: 142, FP: 0, FN: 9, TP: 149, DELAY:2.553333282470703, FP_DELAY:96.15666961669922, COVER: 0.9798756665470846\n",
      "TN: 142, FP: 0, FN: 9, TP: 149, DELAY:2.573333263397217, FP_DELAY:96.15666961669922, COVER: 0.9795654740606172\n",
      "TN: 142, FP: 0, FN: 9, TP: 149, DELAY:2.619999885559082, FP_DELAY:96.15666961669922, COVER: 0.9790209185832847\n",
      "TN: 142, FP: 0, FN: 9, TP: 149, DELAY:2.6500000953674316, FP_DELAY:96.15666961669922, COVER: 0.9787216274073728\n",
      "TN: 142, FP: 0, FN: 9, TP: 149, DELAY:2.6600000858306885, FP_DELAY:96.15666961669922, COVER: 0.9785712257739779\n",
      "TN: 142, FP: 0, FN: 10, TP: 148, DELAY:2.8499999046325684, FP_DELAY:96.3066635131836, COVER: 0.9766873205947231\n",
      "TN: 142, FP: 0, FN: 10, TP: 148, DELAY:2.8499999046325684, FP_DELAY:96.3066635131836, COVER: 0.9766873205947231\n",
      "TN: 142, FP: 0, FN: 10, TP: 148, DELAY:2.8533332347869873, FP_DELAY:96.3066635131836, COVER: 0.9766374694042471\n",
      "TN: 142, FP: 0, FN: 11, TP: 147, DELAY:2.880000114440918, FP_DELAY:96.44666290283203, COVER: 0.976605514109108\n",
      "TN: 142, FP: 0, FN: 11, TP: 147, DELAY:2.9233334064483643, FP_DELAY:96.44666290283203, COVER: 0.9761142916808876\n",
      "TN: 142, FP: 0, FN: 12, TP: 146, DELAY:3.140000104904175, FP_DELAY:96.78333282470703, COVER: 0.9763244274551585\n",
      "TN: 142, FP: 0, FN: 12, TP: 146, DELAY:3.1466667652130127, FP_DELAY:96.78333282470703, COVER: 0.9762376218996031\n",
      "TN: 142, FP: 0, FN: 12, TP: 146, DELAY:3.1633334159851074, FP_DELAY:96.78333282470703, COVER: 0.9759996897607328\n",
      "TN: 142, FP: 0, FN: 14, TP: 144, DELAY:3.369999885559082, FP_DELAY:96.81666564941406, COVER: 0.9729172868117879\n",
      "TN: 142, FP: 0, FN: 16, TP: 142, DELAY:3.680000066757202, FP_DELAY:96.95999908447266, COVER: 0.9685933607313776\n",
      "TN: 142, FP: 0, FN: 17, TP: 141, DELAY:3.7100000381469727, FP_DELAY:96.96666717529297, COVER: 0.9681381918218551\n",
      "TN: 142, FP: 0, FN: 17, TP: 141, DELAY:3.7166666984558105, FP_DELAY:96.96666717529297, COVER: 0.9680433509499001\n",
      "TN: 142, FP: 0, FN: 17, TP: 141, DELAY:3.7300000190734863, FP_DELAY:96.96666717529297, COVER: 0.9678575222268944\n",
      "TN: 142, FP: 0, FN: 17, TP: 141, DELAY:3.873333215713501, FP_DELAY:96.96666717529297, COVER: 0.9658104209420741\n",
      "TN: 142, FP: 0, FN: 158, TP: 0, DELAY:33.81999969482422, FP_DELAY:128.0, COVER: 0.8226481119791667\n",
      "TN: 142, FP: 0, FN: 158, TP: 0, DELAY:33.81999969482422, FP_DELAY:128.0, COVER: 0.8226481119791667\n",
      "TN: 142, FP: 0, FN: 158, TP: 0, DELAY:33.81999969482422, FP_DELAY:128.0, COVER: 0.8226481119791667\n",
      "TN: 142, FP: 0, FN: 158, TP: 0, DELAY:33.81999969482422, FP_DELAY:128.0, COVER: 0.8226481119791667\n",
      "TN: 142, FP: 0, FN: 158, TP: 0, DELAY:33.81999969482422, FP_DELAY:128.0, COVER: 0.8226481119791667\n",
      "TN: 142, FP: 0, FN: 158, TP: 0, DELAY:33.81999969482422, FP_DELAY:128.0, COVER: 0.8226481119791667\n",
      "TN: 142, FP: 0, FN: 158, TP: 0, DELAY:33.81999969482422, FP_DELAY:128.0, COVER: 0.8226481119791667\n",
      "TN: 142, FP: 0, FN: 158, TP: 0, DELAY:33.81999969482422, FP_DELAY:128.0, COVER: 0.8226481119791667\n",
      "TN: 142, FP: 0, FN: 158, TP: 0, DELAY:33.81999969482422, FP_DELAY:128.0, COVER: 0.8226481119791667\n",
      "TN: 142, FP: 0, FN: 158, TP: 0, DELAY:33.81999969482422, FP_DELAY:128.0, COVER: 0.8226481119791667\n",
      "TN: 142, FP: 0, FN: 158, TP: 0, DELAY:33.81999969482422, FP_DELAY:128.0, COVER: 0.8226481119791667\n",
      "TN: 142, FP: 0, FN: 158, TP: 0, DELAY:33.81999969482422, FP_DELAY:128.0, COVER: 0.8226481119791667\n",
      "TN: 142, FP: 0, FN: 158, TP: 0, DELAY:33.81999969482422, FP_DELAY:128.0, COVER: 0.8226481119791667\n",
      "TN: 142, FP: 0, FN: 158, TP: 0, DELAY:33.81999969482422, FP_DELAY:128.0, COVER: 0.8226481119791667\n",
      "TN: 142, FP: 0, FN: 158, TP: 0, DELAY:33.81999969482422, FP_DELAY:128.0, COVER: 0.8226481119791667\n",
      "TN: 142, FP: 0, FN: 158, TP: 0, DELAY:33.81999969482422, FP_DELAY:128.0, COVER: 0.8226481119791667\n",
      "TN: 142, FP: 0, FN: 158, TP: 0, DELAY:33.81999969482422, FP_DELAY:128.0, COVER: 0.8226481119791667\n",
      "TN: 142, FP: 0, FN: 158, TP: 0, DELAY:33.81999969482422, FP_DELAY:128.0, COVER: 0.8226481119791667\n",
      "TN: 142, FP: 0, FN: 158, TP: 0, DELAY:33.81999969482422, FP_DELAY:128.0, COVER: 0.8226481119791667\n",
      "TN: 142, FP: 0, FN: 158, TP: 0, DELAY:33.81999969482422, FP_DELAY:128.0, COVER: 0.8226481119791667\n",
      "TN: 142, FP: 0, FN: 158, TP: 0, DELAY:33.81999969482422, FP_DELAY:128.0, COVER: 0.8226481119791667\n",
      "TN: 142, FP: 0, FN: 158, TP: 0, DELAY:33.81999969482422, FP_DELAY:128.0, COVER: 0.8226481119791667\n",
      "TN: 142, FP: 0, FN: 158, TP: 0, DELAY:33.81999969482422, FP_DELAY:128.0, COVER: 0.8226481119791667\n",
      "TN: 142, FP: 0, FN: 158, TP: 0, DELAY:33.81999969482422, FP_DELAY:128.0, COVER: 0.8226481119791667\n",
      "TN: 142, FP: 0, FN: 158, TP: 0, DELAY:33.81999969482422, FP_DELAY:128.0, COVER: 0.8226481119791667\n",
      "TN: 142, FP: 0, FN: 158, TP: 0, DELAY:33.81999969482422, FP_DELAY:128.0, COVER: 0.8226481119791667\n",
      "TN: 142, FP: 0, FN: 158, TP: 0, DELAY:33.81999969482422, FP_DELAY:128.0, COVER: 0.8226481119791667\n",
      "TN: 142, FP: 0, FN: 158, TP: 0, DELAY:33.81999969482422, FP_DELAY:128.0, COVER: 0.8226481119791667\n",
      "TN: 142, FP: 0, FN: 158, TP: 0, DELAY:33.81999969482422, FP_DELAY:128.0, COVER: 0.8226481119791667\n",
      "TN: 142, FP: 0, FN: 158, TP: 0, DELAY:33.81999969482422, FP_DELAY:128.0, COVER: 0.8226481119791667\n",
      "TN: 142, FP: 0, FN: 158, TP: 0, DELAY:33.81999969482422, FP_DELAY:128.0, COVER: 0.8226481119791667\n",
      "TN: 142, FP: 0, FN: 158, TP: 0, DELAY:33.81999969482422, FP_DELAY:128.0, COVER: 0.8226481119791667\n",
      "TN: 142, FP: 0, FN: 158, TP: 0, DELAY:33.81999969482422, FP_DELAY:128.0, COVER: 0.8226481119791667\n",
      "TN: 142, FP: 0, FN: 158, TP: 0, DELAY:33.81999969482422, FP_DELAY:128.0, COVER: 0.8226481119791667\n",
      "TN: 142, FP: 0, FN: 158, TP: 0, DELAY:33.81999969482422, FP_DELAY:128.0, COVER: 0.8226481119791667\n",
      "TN: 142, FP: 0, FN: 158, TP: 0, DELAY:33.81999969482422, FP_DELAY:128.0, COVER: 0.8226481119791667\n",
      "TN: 142, FP: 0, FN: 158, TP: 0, DELAY:33.81999969482422, FP_DELAY:128.0, COVER: 0.8226481119791667\n",
      "TN: 142, FP: 0, FN: 158, TP: 0, DELAY:33.81999969482422, FP_DELAY:128.0, COVER: 0.8226481119791667\n",
      "TN: 142, FP: 0, FN: 158, TP: 0, DELAY:33.81999969482422, FP_DELAY:128.0, COVER: 0.8226481119791667\n",
      "TN: 142, FP: 0, FN: 158, TP: 0, DELAY:33.81999969482422, FP_DELAY:128.0, COVER: 0.8226481119791667\n",
      "TN: 142, FP: 0, FN: 158, TP: 0, DELAY:33.81999969482422, FP_DELAY:128.0, COVER: 0.8226481119791667\n",
      "TN: 142, FP: 0, FN: 158, TP: 0, DELAY:33.81999969482422, FP_DELAY:128.0, COVER: 0.8226481119791667\n",
      "TN: 142, FP: 0, FN: 158, TP: 0, DELAY:33.81999969482422, FP_DELAY:128.0, COVER: 0.8226481119791667\n",
      "TN: 142, FP: 0, FN: 158, TP: 0, DELAY:33.81999969482422, FP_DELAY:128.0, COVER: 0.8226481119791667\n",
      "TN: 142, FP: 0, FN: 158, TP: 0, DELAY:33.81999969482422, FP_DELAY:128.0, COVER: 0.8226481119791667\n",
      "AUC: 646.9285\n",
      "Time to FA 95.5167, delay detection 1.4367 for best-F1 threshold: 0.0483\n",
      "TN 142, FP 0, FN 7, TP 151 for best-F1 threshold: 0.0483\n",
      "Max F1 0.9773: for best-F1 threshold 0.0483\n",
      "COVER 0.9896: for best-F1 threshold 0.0483\n",
      "Max COVER 0.9896: for threshold 0.0399\n",
      "Max F1 with margin 1: 0.9536 for best threshold 0.0483\n",
      "Max F1 with margin 2: 0.9605 for best threshold 0.0483\n",
      "Max F1 with margin 4: 0.9673 for best threshold 0.0483\n"
     ]
    }
   ],
   "source": [
    "threshold_number = 100\n",
    "threshold_list = np.linspace(-5, 5, threshold_number)\n",
    "threshold_list = 1 / (1 + np.exp(-threshold_list))\n",
    "threshold_list = [-0.001] + list(threshold_list) + [1.001]\n",
    "\n",
    "metrics, (max_th_f1_margins_dict, max_f1_margins_dic), _, _ = evaluation_pipeline(\n",
    "    indid_model,\n",
    "    indid_model.val_dataloader(),\n",
    "    threshold_list,\n",
    "    device=\"cpu\",\n",
    "    model_type=\"seq2seq\",\n",
    "    verbose=True,\n",
    "    margin_list=[1, 2, 4],\n",
    ")"
   ]
  },
  {
   "cell_type": "code",
   "execution_count": 62,
   "metadata": {},
   "outputs": [
    {
     "data": {
      "text/plain": [
       "tensor([0., 1., 1., 1., 1., 1., 1., 1., 0., 0., 1., 1., 1., 1., 1., 0., 0., 0.,\n",
       "        1., 0., 0., 0., 1., 1., 0., 1., 0., 0., 1., 0., 1., 1., 0., 1., 1., 0.,\n",
       "        1., 1., 0., 1., 0., 1., 1., 0., 0., 0., 0., 0., 0., 0., 0., 0., 1., 1.,\n",
       "        0., 0., 1., 0., 1., 0., 1., 1., 1., 1.])"
      ]
     },
     "execution_count": 62,
     "metadata": {},
     "output_type": "execute_result"
    }
   ],
   "source": [
    "test_batch, test_labels = next(iter(val_dataloader_shuffle))\n",
    "test_out = indid_model(test_batch)\n",
    "\n",
    "test_labels.max(1)[0]"
   ]
  },
  {
   "cell_type": "code",
   "execution_count": 63,
   "metadata": {},
   "outputs": [],
   "source": [
    "norm_idx = 0\n",
    "cp_idx = 1\n",
    "\n",
    "norm_probs = test_out[norm_idx]\n",
    "norm_labels = test_labels[norm_idx]\n",
    "\n",
    "cp_probs = test_out[cp_idx]\n",
    "cp_labels = test_labels[cp_idx]"
   ]
  },
  {
   "cell_type": "code",
   "execution_count": 67,
   "metadata": {},
   "outputs": [],
   "source": [
    "fa_losses_norm_dict = {}\n",
    "dd_losses_norm_dict = {}\n",
    "\n",
    "fa_losses_cp_dict = {}\n",
    "dd_losses_cp_dict = {}\n",
    "\n",
    "for T in range(2, 128):\n",
    "    loss_func = CPDLoss(32)\n",
    "\n",
    "    _, dd_losses, fa_losses = loss_func(\n",
    "        test_out[:, :T].squeeze(), test_labels[:, :T].squeeze()\n",
    "    )\n",
    "\n",
    "    fa_losses_norm_dict[T] = fa_losses[norm_idx]\n",
    "    dd_losses_norm_dict[T] = dd_losses[norm_idx]\n",
    "\n",
    "    fa_losses_cp_dict[T] = fa_losses[cp_idx]\n",
    "    dd_losses_cp_dict[T] = dd_losses[cp_idx]"
   ]
  },
  {
   "cell_type": "code",
   "execution_count": 71,
   "metadata": {},
   "outputs": [
    {
     "data": {
      "text/plain": [
       "{2: 0,\n",
       " 3: 0,\n",
       " 4: 0,\n",
       " 5: 0,\n",
       " 6: 0,\n",
       " 7: 0,\n",
       " 8: 0,\n",
       " 9: 0,\n",
       " 10: 1.8231886625289917,\n",
       " 11: 2.2292802333831787,\n",
       " 12: 2.3773860931396484,\n",
       " 13: 2.4284753799438477,\n",
       " 14: 2.44596004486084,\n",
       " 15: 2.451937437057495,\n",
       " 16: 2.4539806842803955,\n",
       " 17: 2.454679012298584,\n",
       " 18: 2.4549179077148438,\n",
       " 19: 2.4549994468688965,\n",
       " 20: 2.4550273418426514,\n",
       " 21: 2.4550368785858154,\n",
       " 22: 2.4550399780273438,\n",
       " 23: 2.4550411701202393,\n",
       " 24: 2.4550416469573975,\n",
       " 25: 2.4550418853759766,\n",
       " 26: 2.4550418853759766,\n",
       " 27: 2.4550418853759766,\n",
       " 28: 2.4550418853759766,\n",
       " 29: 2.4550418853759766,\n",
       " 30: 2.4550421237945557,\n",
       " 31: 2.4550421237945557,\n",
       " 32: 2.4550421237945557,\n",
       " 33: 2.4550418853759766,\n",
       " 34: 2.4550418853759766,\n",
       " 35: 2.4550418853759766,\n",
       " 36: 2.4550418853759766,\n",
       " 37: 2.4550418853759766,\n",
       " 38: 2.4550418853759766,\n",
       " 39: 2.4550418853759766,\n",
       " 40: 2.4550418853759766,\n",
       " 41: 2.4550418853759766,\n",
       " 42: 2.4550418853759766,\n",
       " 43: 2.4550418853759766,\n",
       " 44: 2.4550418853759766,\n",
       " 45: 2.4550418853759766,\n",
       " 46: 2.4550418853759766,\n",
       " 47: 2.4550418853759766,\n",
       " 48: 2.4550418853759766,\n",
       " 49: 2.4550418853759766,\n",
       " 50: 2.4550418853759766,\n",
       " 51: 2.4550418853759766,\n",
       " 52: 2.4550418853759766,\n",
       " 53: 2.4550418853759766,\n",
       " 54: 2.4550418853759766,\n",
       " 55: 2.4550418853759766,\n",
       " 56: 2.4550418853759766,\n",
       " 57: 2.4550418853759766,\n",
       " 58: 2.4550418853759766,\n",
       " 59: 2.4550418853759766,\n",
       " 60: 2.4550418853759766,\n",
       " 61: 2.4550418853759766,\n",
       " 62: 2.4550418853759766,\n",
       " 63: 2.4550418853759766,\n",
       " 64: 2.4550418853759766,\n",
       " 65: 2.4550418853759766,\n",
       " 66: 2.4550418853759766,\n",
       " 67: 2.4550418853759766,\n",
       " 68: 2.4550418853759766,\n",
       " 69: 2.4550418853759766,\n",
       " 70: 2.4550418853759766,\n",
       " 71: 2.4550418853759766,\n",
       " 72: 2.4550418853759766,\n",
       " 73: 2.4550418853759766,\n",
       " 74: 2.4550418853759766,\n",
       " 75: 2.4550418853759766,\n",
       " 76: 2.4550418853759766,\n",
       " 77: 2.4550418853759766,\n",
       " 78: 2.4550418853759766,\n",
       " 79: 2.4550418853759766,\n",
       " 80: 2.4550418853759766,\n",
       " 81: 2.4550418853759766,\n",
       " 82: 2.4550418853759766,\n",
       " 83: 2.4550418853759766,\n",
       " 84: 2.4550418853759766,\n",
       " 85: 2.4550418853759766,\n",
       " 86: 2.4550418853759766,\n",
       " 87: 2.4550418853759766,\n",
       " 88: 2.4550418853759766,\n",
       " 89: 2.4550418853759766,\n",
       " 90: 2.4550418853759766,\n",
       " 91: 2.4550418853759766,\n",
       " 92: 2.4550418853759766,\n",
       " 93: 2.4550418853759766,\n",
       " 94: 2.4550418853759766,\n",
       " 95: 2.4550418853759766,\n",
       " 96: 2.4550418853759766,\n",
       " 97: 2.4550418853759766,\n",
       " 98: 2.4550418853759766,\n",
       " 99: 2.4550418853759766,\n",
       " 100: 2.4550418853759766,\n",
       " 101: 2.4550418853759766,\n",
       " 102: 2.4550418853759766,\n",
       " 103: 2.4550418853759766,\n",
       " 104: 2.4550418853759766,\n",
       " 105: 2.4550418853759766,\n",
       " 106: 2.4550418853759766,\n",
       " 107: 2.4550418853759766,\n",
       " 108: 2.4550418853759766,\n",
       " 109: 2.4550418853759766,\n",
       " 110: 2.4550418853759766,\n",
       " 111: 2.4550418853759766,\n",
       " 112: 2.4550418853759766,\n",
       " 113: 2.4550418853759766,\n",
       " 114: 2.4550418853759766,\n",
       " 115: 2.4550418853759766,\n",
       " 116: 2.4550418853759766,\n",
       " 117: 2.4550418853759766,\n",
       " 118: 2.4550418853759766,\n",
       " 119: 2.4550418853759766,\n",
       " 120: 2.4550418853759766,\n",
       " 121: 2.4550418853759766,\n",
       " 122: 2.4550418853759766,\n",
       " 123: 2.4550418853759766,\n",
       " 124: 2.4550418853759766,\n",
       " 125: 2.4550418853759766,\n",
       " 126: 2.4550418853759766,\n",
       " 127: 2.4550418853759766}"
      ]
     },
     "execution_count": 71,
     "metadata": {},
     "output_type": "execute_result"
    }
   ],
   "source": [
    "dd_losses_cp_dict"
   ]
  },
  {
   "cell_type": "code",
   "execution_count": 77,
   "metadata": {},
   "outputs": [
    {
     "data": {
      "image/png": "[encoded data removed]",
      "text/plain": [
       "<Figure size 640x480 with 1 Axes>"
      ]
     },
     "metadata": {},
     "output_type": "display_data"
    }
   ],
   "source": [
    "cp_idx = cp_labels.argmax().item()\n",
    "\n",
    "plt.plot(fa_losses_cp_dict.keys(), fa_losses_cp_dict.values())\n",
    "plt.axvline(cp_idx, linestyle=\"--\", c=\"red\")\n",
    "plt.show()"
   ]
  },
  {
   "cell_type": "code",
   "execution_count": 70,
   "metadata": {},
   "outputs": [
    {
     "data": {
      "image/png": "[encoded data removed]",
      "text/plain": [
       "<Figure size 640x480 with 1 Axes>"
      ]
     },
     "metadata": {},
     "output_type": "display_data"
    }
   ],
   "source": [
    "plt.plot(dd_losses_norm_dict.keys(), dd_losses_norm_dict.values());"
   ]
  },
  {
   "cell_type": "code",
   "execution_count": null,
   "metadata": {},
   "outputs": [],
   "source": []
  },
  {
   "cell_type": "code",
   "execution_count": null,
   "metadata": {},
   "outputs": [],
   "source": []
  },
  {
   "cell_type": "code",
   "execution_count": null,
   "metadata": {},
   "outputs": [],
   "source": []
  },
  {
   "cell_type": "code",
   "execution_count": null,
   "metadata": {},
   "outputs": [],
   "source": []
  }
 ],
 "metadata": {
  "kernelspec": {
   "display_name": "base",
   "language": "python",
   "name": "python3"
  },
  "language_info": {
   "codemirror_mode": {
    "name": "ipython",
    "version": 3
   },
   "file_extension": ".py",
   "mimetype": "text/x-python",
   "name": "python",
   "nbconvert_exporter": "python",
   "pygments_lexer": "ipython3",
   "version": "3.9.16"
  }
 },
 "nbformat": 4,
 "nbformat_minor": 2
}
