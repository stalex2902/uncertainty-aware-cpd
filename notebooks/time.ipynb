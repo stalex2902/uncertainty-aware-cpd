{
 "cells": [
  {
   "cell_type": "code",
   "execution_count": 1,
   "metadata": {},
   "outputs": [],
   "source": [
    "import warnings\n",
    "\n",
    "warnings.filterwarnings(\"ignore\")\n",
    "\n",
    "import os\n",
    "import sys\n",
    "\n",
    "dir2 = os.path.abspath(\"\")\n",
    "dir1 = os.path.dirname(dir2)\n",
    "if dir1 not in sys.path:\n",
    "    sys.path.append(dir1)\n",
    "\n",
    "os.chdir(\"..\")"
   ]
  },
  {
   "cell_type": "code",
   "execution_count": 2,
   "metadata": {},
   "outputs": [
    {
     "name": "stderr",
     "output_type": "stream",
     "text": [
      "comet_ml is installed but `COMET_API_KEY` is not set.\n"
     ]
    }
   ],
   "source": [
    "import yaml\n",
    "from src.datasets.datasets import CPDDatasets\n",
    "from src.ensembles.ensembles import EnsembleCPDModel, DistanceEnsembleCPDModel\n",
    "from src.baselines.prediction_utils import get_repr_learning_output, post_process_output\n",
    "from torch.utils.data import DataLoader\n",
    "\n",
    "%load_ext autoreload\n",
    "%autoreload"
   ]
  },
  {
   "cell_type": "markdown",
   "metadata": {},
   "source": [
    "# BCE/InDiD HAR"
   ]
  },
  {
   "cell_type": "code",
   "execution_count": 3,
   "metadata": {},
   "outputs": [],
   "source": [
    "model_type = \"seq2seq\"\n",
    "\n",
    "experiments_name = \"human_activity\"\n",
    "\n",
    "# read config file\n",
    "path_to_config = \"configs/\" + experiments_name + \"_\" + model_type + \".yaml\"\n",
    "\n",
    "with open(path_to_config, \"r\") as f:\n",
    "    args_config = yaml.safe_load(f.read())\n",
    "\n",
    "args_config[\"experiments_name\"] = experiments_name\n",
    "args_config[\"model_type\"] = model_type\n",
    "\n",
    "args_config[\"loss_type\"] = \"bce\"\n",
    "args_config[\"num_workers\"] = 2\n",
    "\n",
    "# prepare datasets\n",
    "train_dataset, test_dataset = CPDDatasets(experiments_name).get_dataset_()\n",
    "test_dataloader = DataLoader(\n",
    "    test_dataset, batch_size=1, shuffle=False\n",
    ")"
   ]
  },
  {
   "cell_type": "code",
   "execution_count": 4,
   "metadata": {},
   "outputs": [],
   "source": [
    "ens_num = 1\n",
    "\n",
    "path_to_models_folder = f\"saved_models/{args_config['loss_type']}/{experiments_name}/full_sample/ens_{ens_num}\"\n",
    "# path_to_models_folder = f\"saved_models/tscp/human_activity/window_{args_config['model']['window']}/ens_{ens_num}\"\n",
    "\n",
    "ens_bce = EnsembleCPDModel(args_config, n_models=10, boot_sample_size=None)\n",
    "ens_bce.load_models_list(path_to_models_folder)\n",
    "\n",
    "single_model_bce = ens_bce.models_list[0]\n",
    "\n",
    "ens_bce_wass = DistanceEnsembleCPDModel(ens_bce, window_size=2, distance=\"wasserstein_1d\")\n",
    "ens_bce_mmd = DistanceEnsembleCPDModel(ens_bce, window_size=2, distance=\"mmd\")"
   ]
  },
  {
   "cell_type": "code",
   "execution_count": 5,
   "metadata": {},
   "outputs": [
    {
     "data": {
      "text/plain": [
       "torch.Size([1, 20, 28])"
      ]
     },
     "execution_count": 5,
     "metadata": {},
     "output_type": "execute_result"
    }
   ],
   "source": [
    "test_seq, _ = next(iter(test_dataloader))\n",
    "test_seq = test_seq.detach().cpu()\n",
    "test_seq.shape"
   ]
  },
  {
   "cell_type": "code",
   "execution_count": 6,
   "metadata": {},
   "outputs": [
    {
     "name": "stdout",
     "output_type": "stream",
     "text": [
      "294 µs ± 18.9 µs per loop (mean ± std. dev. of 7 runs, 1,000 loops each)\n"
     ]
    }
   ],
   "source": [
    "%%timeit\n",
    "outs = single_model_bce(test_seq)"
   ]
  },
  {
   "cell_type": "code",
   "execution_count": 7,
   "metadata": {},
   "outputs": [
    {
     "name": "stdout",
     "output_type": "stream",
     "text": [
      "4.53 ms ± 172 µs per loop (mean ± std. dev. of 7 runs, 100 loops each)\n"
     ]
    }
   ],
   "source": [
    "%%timeit\n",
    "outs = ens_bce.predict(test_seq)"
   ]
  },
  {
   "cell_type": "code",
   "execution_count": 8,
   "metadata": {},
   "outputs": [
    {
     "name": "stdout",
     "output_type": "stream",
     "text": [
      "19.7 ms ± 75.5 µs per loop (mean ± std. dev. of 7 runs, 10 loops each)\n"
     ]
    }
   ],
   "source": [
    "%%timeit\n",
    "outs = ens_bce_wass.predict(test_seq)"
   ]
  },
  {
   "cell_type": "code",
   "execution_count": 9,
   "metadata": {},
   "outputs": [
    {
     "name": "stdout",
     "output_type": "stream",
     "text": [
      "16.6 ms ± 1.47 ms per loop (mean ± std. dev. of 7 runs, 100 loops each)\n"
     ]
    }
   ],
   "source": [
    "%%timeit\n",
    "outs = ens_bce_mmd.predict(test_seq)"
   ]
  },
  {
   "cell_type": "markdown",
   "metadata": {},
   "source": [
    "# TS-CP HAR"
   ]
  },
  {
   "cell_type": "code",
   "execution_count": 18,
   "metadata": {},
   "outputs": [],
   "source": [
    "model_type = \"tscp\"\n",
    "experiments_name = \"human_activity\"\n",
    "\n",
    "# read config file\n",
    "path_to_config = \"configs/\" + experiments_name + \"_\" + model_type + \".yaml\"\n",
    "\n",
    "with open(path_to_config, \"r\") as f:\n",
    "    args_config = yaml.safe_load(f.read())\n",
    "\n",
    "args_config[\"experiments_name\"] = experiments_name\n",
    "args_config[\"model_type\"] = model_type\n",
    "\n",
    "args_config[\"num_workers\"] = 2"
   ]
  },
  {
   "cell_type": "code",
   "execution_count": 27,
   "metadata": {},
   "outputs": [],
   "source": [
    "ens_num = 1\n",
    "\n",
    "path_to_models_folder = f\"saved_models/tscp/human_activity/window_{args_config['model']['window']}/ens_{ens_num}\"\n",
    "\n",
    "ens_tscp = EnsembleCPDModel(args_config, n_models=10, boot_sample_size=None)\n",
    "ens_tscp.load_models_list(path_to_models_folder)\n",
    "\n",
    "single_model_tscp = ens_tscp.models_list[0]\n",
    "\n",
    "ens_tscp_wass = DistanceEnsembleCPDModel(ens_tscp, window_size=2, distance=\"wasserstein_1d\")\n",
    "ens_tscp_mmd = DistanceEnsembleCPDModel(ens_tscp, window_size=2, distance=\"mmd\")"
   ]
  },
  {
   "cell_type": "code",
   "execution_count": 22,
   "metadata": {},
   "outputs": [
    {
     "name": "stdout",
     "output_type": "stream",
     "text": [
      "9.46 ms ± 73.5 µs per loop (mean ± std. dev. of 7 runs, 100 loops each)\n"
     ]
    }
   ],
   "source": [
    "%%timeit\n",
    "outs = get_repr_learning_output(\n",
    "    model=single_model_tscp,\n",
    "    batch=test_seq,\n",
    "    window_1=single_model_tscp.window_1,\n",
    "    window_2=single_model_tscp.window_2,\n",
    "    step=args_config[\"predictions\"][\"step\"],\n",
    "    max_pool=False\n",
    ")\n",
    "outs = post_process_output(outs, alpha=args_config[\"predictions\"][\"alpha\"])"
   ]
  },
  {
   "cell_type": "code",
   "execution_count": 32,
   "metadata": {},
   "outputs": [
    {
     "name": "stdout",
     "output_type": "stream",
     "text": [
      "102 ms ± 1.2 ms per loop (mean ± std. dev. of 7 runs, 10 loops each)\n"
     ]
    }
   ],
   "source": [
    "%%timeit\n",
    "outs = ens_tscp.predict(\n",
    "    test_seq, scale=args_config[\"predictions\"][\"scale\"], step=args_config[\"predictions\"][\"step\"], alpha=args_config[\"predictions\"][\"alpha\"]\n",
    ")"
   ]
  },
  {
   "cell_type": "code",
   "execution_count": 31,
   "metadata": {},
   "outputs": [
    {
     "name": "stdout",
     "output_type": "stream",
     "text": [
      "104 ms ± 1.23 ms per loop (mean ± std. dev. of 7 runs, 10 loops each)\n"
     ]
    }
   ],
   "source": [
    "%%timeit\n",
    "outs = ens_tscp_wass.predict(\n",
    "    test_seq, scale=args_config[\"predictions\"][\"scale\"], step=args_config[\"predictions\"][\"step\"], alpha=args_config[\"predictions\"][\"alpha\"]\n",
    ")"
   ]
  },
  {
   "cell_type": "code",
   "execution_count": 30,
   "metadata": {},
   "outputs": [
    {
     "name": "stdout",
     "output_type": "stream",
     "text": [
      "107 ms ± 701 µs per loop (mean ± std. dev. of 7 runs, 10 loops each)\n"
     ]
    }
   ],
   "source": [
    "%%timeit\n",
    "outs = ens_tscp_mmd.predict(\n",
    "    test_seq, scale=args_config[\"predictions\"][\"scale\"], step=args_config[\"predictions\"][\"step\"], alpha=args_config[\"predictions\"][\"alpha\"]\n",
    ")"
   ]
  },
  {
   "cell_type": "markdown",
   "metadata": {},
   "source": [
    "# TS2Vec-SN HAR"
   ]
  },
  {
   "cell_type": "code",
   "execution_count": 33,
   "metadata": {},
   "outputs": [],
   "source": [
    "model_type = \"ts2vec\"\n",
    "experiments_name = \"human_activity\"\n",
    "\n",
    "# read config file\n",
    "path_to_config = \"configs/\" + experiments_name + \"_\" + model_type + \".yaml\"\n",
    "\n",
    "with open(path_to_config, \"r\") as f:\n",
    "    args_config = yaml.safe_load(f.read())\n",
    "\n",
    "args_config[\"experiments_name\"] = experiments_name\n",
    "args_config[\"model_type\"] = model_type\n",
    "\n",
    "args_config[\"num_workers\"] = 2"
   ]
  },
  {
   "cell_type": "code",
   "execution_count": 34,
   "metadata": {},
   "outputs": [],
   "source": [
    "ens_num = 1\n",
    "\n",
    "path_to_models_folder = f\"saved_models/ts2vec/human_activity/ens_{ens_num}\"\n",
    "\n",
    "ens_ts2vec = EnsembleCPDModel(args_config, n_models=10, boot_sample_size=None)\n",
    "ens_ts2vec.load_models_list(path_to_models_folder)\n",
    "\n",
    "single_model_ts2vec = ens_ts2vec.models_list[0]\n",
    "\n",
    "ens_ts2vec_wass = DistanceEnsembleCPDModel(ens_ts2vec, window_size=2, distance=\"wasserstein_1d\")\n",
    "ens_ts2vec_mmd = DistanceEnsembleCPDModel(ens_ts2vec, window_size=2, distance=\"mmd\")"
   ]
  },
  {
   "cell_type": "code",
   "execution_count": 36,
   "metadata": {},
   "outputs": [
    {
     "name": "stdout",
     "output_type": "stream",
     "text": [
      "16.8 ms ± 762 µs per loop (mean ± std. dev. of 7 runs, 10 loops each)\n"
     ]
    }
   ],
   "source": [
    "%%timeit\n",
    "outs = get_repr_learning_output(\n",
    "    model=single_model_ts2vec,\n",
    "    batch=test_seq,\n",
    "    window_1=single_model_tscp.window_1,\n",
    "    window_2=single_model_tscp.window_2,\n",
    "    step=args_config[\"predictions\"][\"step\"],\n",
    "    max_pool=True\n",
    ")\n",
    "outs = post_process_output(outs, alpha=args_config[\"predictions\"][\"alpha\"])"
   ]
  },
  {
   "cell_type": "code",
   "execution_count": 37,
   "metadata": {},
   "outputs": [
    {
     "name": "stdout",
     "output_type": "stream",
     "text": [
      "176 ms ± 1.93 ms per loop (mean ± std. dev. of 7 runs, 1 loop each)\n"
     ]
    }
   ],
   "source": [
    "%%timeit\n",
    "outs = ens_ts2vec.predict(\n",
    "    test_seq, scale=args_config[\"predictions\"][\"scale\"], step=args_config[\"predictions\"][\"step\"], alpha=args_config[\"predictions\"][\"alpha\"]\n",
    ")"
   ]
  },
  {
   "cell_type": "code",
   "execution_count": 38,
   "metadata": {},
   "outputs": [
    {
     "name": "stdout",
     "output_type": "stream",
     "text": [
      "181 ms ± 8.25 ms per loop (mean ± std. dev. of 7 runs, 1 loop each)\n"
     ]
    }
   ],
   "source": [
    "%%timeit\n",
    "outs = ens_ts2vec_wass.predict(\n",
    "    test_seq, scale=args_config[\"predictions\"][\"scale\"], step=args_config[\"predictions\"][\"step\"], alpha=args_config[\"predictions\"][\"alpha\"]\n",
    ")"
   ]
  },
  {
   "cell_type": "code",
   "execution_count": 39,
   "metadata": {},
   "outputs": [
    {
     "name": "stdout",
     "output_type": "stream",
     "text": [
      "181 ms ± 7.64 ms per loop (mean ± std. dev. of 7 runs, 1 loop each)\n"
     ]
    }
   ],
   "source": [
    "%%timeit\n",
    "outs = ens_ts2vec_mmd.predict(\n",
    "    test_seq, scale=args_config[\"predictions\"][\"scale\"], step=args_config[\"predictions\"][\"step\"], alpha=args_config[\"predictions\"][\"alpha\"]\n",
    ")"
   ]
  },
  {
   "cell_type": "code",
   "execution_count": null,
   "metadata": {},
   "outputs": [],
   "source": []
  }
 ],
 "metadata": {
  "kernelspec": {
   "display_name": "base",
   "language": "python",
   "name": "python3"
  },
  "language_info": {
   "codemirror_mode": {
    "name": "ipython",
    "version": 3
   },
   "file_extension": ".py",
   "mimetype": "text/x-python",
   "name": "python",
   "nbconvert_exporter": "python",
   "pygments_lexer": "ipython3",
   "version": "3.9.16"
  }
 },
 "nbformat": 4,
 "nbformat_minor": 2
}
